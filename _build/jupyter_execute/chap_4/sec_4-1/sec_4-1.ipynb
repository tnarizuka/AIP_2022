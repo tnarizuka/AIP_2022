{
 "cells": [
  {
   "cell_type": "code",
   "execution_count": 1,
   "metadata": {
    "id": "lcs2r2splZwq"
   },
   "outputs": [
    {
     "ename": "FileNotFoundError",
     "evalue": "[Errno 2] No such file or directory: '/Users/narizuka/GoogleDrive/My Drive/document/講義/立正/情報処理の応用/'",
     "output_type": "error",
     "traceback": [
      "\u001b[0;31m---------------------------------------------------------------------------\u001b[0m",
      "\u001b[0;31mFileNotFoundError\u001b[0m                         Traceback (most recent call last)",
      "Input \u001b[0;32mIn [1]\u001b[0m, in \u001b[0;36m<cell line: 2>\u001b[0;34m()\u001b[0m\n\u001b[1;32m      1\u001b[0m \u001b[38;5;66;03m# カレントディレクトリの変更（自分の作業フォルダのパスを設定）\u001b[39;00m\n\u001b[0;32m----> 2\u001b[0m \u001b[43mos\u001b[49m\u001b[38;5;241;43m.\u001b[39;49m\u001b[43mchdir\u001b[49m\u001b[43m(\u001b[49m\u001b[38;5;124;43m'\u001b[39;49m\u001b[38;5;124;43m/Users/narizuka/GoogleDrive/My Drive/document/講義/立正/情報処理の応用/\u001b[39;49m\u001b[38;5;124;43m'\u001b[39;49m\u001b[43m)\u001b[49m\n",
      "\u001b[0;31mFileNotFoundError\u001b[0m: [Errno 2] No such file or directory: '/Users/narizuka/GoogleDrive/My Drive/document/講義/立正/情報処理の応用/'"
     ]
    }
   ],
   "source": [
    "# カレントディレクトリの変更（自分の作業フォルダのパスを設定）\n",
    "os.chdir('/Users/narizuka/GoogleDrive/My Drive/document/講義/立正/情報処理の応用/')\n",
    "# os.chdir(\"G:\\\\マイドライブ\\\\document\\\\講義\\\\立正\\\\情報処理の応用\")"
   ]
  },
  {
   "cell_type": "markdown",
   "metadata": {},
   "source": [
    "使用するモジュールのimport"
   ]
  },
  {
   "cell_type": "code",
   "execution_count": 75,
   "metadata": {},
   "outputs": [],
   "source": [
    "import sys, os\n",
    "import numpy as np\n",
    "import matplotlib.pyplot as plt\n",
    "import japanize_matplotlib\n",
    "import pandas as pd\n",
    "from pandas import DataFrame\n",
    "from scipy import optimize\n",
    "import material.fit_func as ff"
   ]
  },
  {
   "cell_type": "code",
   "execution_count": 76,
   "metadata": {},
   "outputs": [
    {
     "data": {
      "text/plain": [
       "'%r'"
      ]
     },
     "execution_count": 76,
     "metadata": {},
     "output_type": "execute_result"
    }
   ],
   "source": [
    "pd.set_option('max_rows', 20)  # 表示する行数\n",
    "pd.set_option('precision', 4)  # 小数点以下の表示桁\n",
    "np.set_printoptions(suppress=True, precision=4)\n",
    "%precision 4  # 小数点以下の表示桁"
   ]
  },
  {
   "cell_type": "markdown",
   "metadata": {
    "id": "rGUw9jJYlZwr"
   },
   "source": [
    "google colab を使う際のセッティング"
   ]
  },
  {
   "cell_type": "code",
   "execution_count": null,
   "metadata": {
    "colab": {
     "base_uri": "https://localhost:8080/"
    },
    "executionInfo": {
     "elapsed": 5323,
     "status": "ok",
     "timestamp": 1633931763530,
     "user": {
      "displayName": "Takuma Narizuka",
      "photoUrl": "https://lh3.googleusercontent.com/a-/AOh14GikY77c5HAiZw_0rE6X-EeMqDO36i0lZAZwgUjINg=s64",
      "userId": "11234403743201202105"
     },
     "user_tz": -540
    },
    "id": "FPZWw3gdlZwq",
    "outputId": "a4122b51-31a2-40a4-b212-be79da174b35"
   },
   "outputs": [],
   "source": [
    "# matplotlibで日本語表示\n",
    "!pip install japanize-matplotlib\n",
    "import matplotlib.pyplot as plt\n",
    "import japanize_matplotlib"
   ]
  },
  {
   "cell_type": "code",
   "execution_count": null,
   "metadata": {
    "colab": {
     "base_uri": "https://localhost:8080/"
    },
    "executionInfo": {
     "elapsed": 27779,
     "status": "ok",
     "timestamp": 1633931822727,
     "user": {
      "displayName": "Takuma Narizuka",
      "photoUrl": "https://lh3.googleusercontent.com/a-/AOh14GikY77c5HAiZw_0rE6X-EeMqDO36i0lZAZwgUjINg=s64",
      "userId": "11234403743201202105"
     },
     "user_tz": -540
    },
    "id": "zICEJQzWtdrp",
    "outputId": "f1f4820b-923a-4e73-a9fe-3e7c50f8ecec"
   },
   "outputs": [],
   "source": [
    "# google driveをマウントする\n",
    "from google.colab import drive\n",
    "drive.mount('/content/drive')"
   ]
  },
  {
   "cell_type": "code",
   "execution_count": null,
   "metadata": {
    "executionInfo": {
     "elapsed": 526,
     "status": "ok",
     "timestamp": 1633931832147,
     "user": {
      "displayName": "Takuma Narizuka",
      "photoUrl": "https://lh3.googleusercontent.com/a-/AOh14GikY77c5HAiZw_0rE6X-EeMqDO36i0lZAZwgUjINg=s64",
      "userId": "11234403743201202105"
     },
     "user_tz": -540
    },
    "id": "AiIoejRsyUBR"
   },
   "outputs": [],
   "source": [
    "# カレントディレクトリを変更（自分の作業フォルダのパスを設定）\n",
    "os.chdir('/content/drive/My Drive/document/講義/立正/情報処理の応用/')"
   ]
  },
  {
   "cell_type": "markdown",
   "metadata": {
    "id": "_06gOFUGyXlp"
   },
   "source": [
    "jupyter lab のcssスタイルを変更（必要な場合だけ）"
   ]
  },
  {
   "cell_type": "code",
   "execution_count": 77,
   "metadata": {
    "id": "7gse4i5FyUBR"
   },
   "outputs": [
    {
     "data": {
      "text/html": [
       "<style>.jp-Cell { width:100% !important; margin: 0 auto; }</style>"
      ],
      "text/plain": [
       "<IPython.core.display.HTML object>"
      ]
     },
     "metadata": {},
     "output_type": "display_data"
    },
    {
     "data": {
      "text/html": [
       "<style type=\"text/css\">/*-----------------------------------------------------------------------------\n",
       "| Copyright (c) Jupyter Development Team.\n",
       "| Distributed under the terms of the Modified BSD License.\n",
       "|----------------------------------------------------------------------------*/\n",
       "\n",
       "/*\n",
       "The following CSS variables define the main, public API for styling JupyterLab.\n",
       "These variables should be used by all plugins wherever possible. In other\n",
       "words, plugins should not define custom colors, sizes, etc unless absolutely\n",
       "necessary. This enables users to change the visual theme of JupyterLab\n",
       "by changing these variables.\n",
       "\n",
       "Many variables appear in an ordered sequence (0,1,2,3). These sequences\n",
       "are designed to work well together, so for example, `--jp-border-color1` should\n",
       "be used with `--jp-layout-color1`. The numbers have the following meanings:\n",
       "\n",
       "* 0: super-primary, reserved for special emphasis\n",
       "* 1: primary, most important under normal situations\n",
       "* 2: secondary, next most important under normal situations\n",
       "* 3: tertiary, next most important under normal situations\n",
       "\n",
       "Throughout JupyterLab, we are mostly following principles from Google's\n",
       "Material Design when selecting colors. We are not, however, following\n",
       "all of MD as it is not optimized for dense, information rich UIs.\n",
       "*/\n",
       "\n",
       ":root {\n",
       "  /* Elevation\n",
       "   *\n",
       "   * We style box-shadows using Material Design's idea of elevation. These particular numbers are taken from here:\n",
       "   *\n",
       "   * https://github.com/material-components/material-components-web\n",
       "   * https://material-components-web.appspot.com/elevation.html\n",
       "   */\n",
       "\n",
       "\n",
       "  /* The dark theme shadows need a bit of work, but this will probably also require work on the core layout\n",
       "   * colors used in the theme as well. */\n",
       "  --jp-shadow-base-lightness: 32 !important;\n",
       "  --jp-shadow-umbra-color: rgba(\n",
       "    var(--jp-shadow-base-lightness),\n",
       "    var(--jp-shadow-base-lightness),\n",
       "    var(--jp-shadow-base-lightness),\n",
       "    0.2\n",
       "  ) !important;\n",
       "  --jp-shadow-penumbra-color: rgba(\n",
       "    var(--jp-shadow-base-lightness),\n",
       "    var(--jp-shadow-base-lightness),\n",
       "    var(--jp-shadow-base-lightness),\n",
       "    0.14\n",
       "  ) !important;\n",
       "  --jp-shadow-ambient-color: rgba(\n",
       "    var(--jp-shadow-base-lightness),\n",
       "    var(--jp-shadow-base-lightness),\n",
       "    var(--jp-shadow-base-lightness),\n",
       "    0.12\n",
       "  ) !important;\n",
       "  --jp-elevation-z0: none !important;\n",
       "  --jp-elevation-z1: 0px 2px 1px -1px var(--jp-shadow-umbra-color),\n",
       "    0px 1px 1px 0px var(--jp-shadow-penumbra-color),\n",
       "    0px 1px 3px 0px var(--jp-shadow-ambient-color) !important;\n",
       "  --jp-elevation-z2: 0px 3px 1px -2px var(--jp-shadow-umbra-color),\n",
       "    0px 2px 2px 0px var(--jp-shadow-penumbra-color),\n",
       "    0px 1px 5px 0px var(--jp-shadow-ambient-color) !important;\n",
       "  --jp-elevation-z4: 0px 2px 4px -1px var(--jp-shadow-umbra-color),\n",
       "    0px 4px 5px 0px var(--jp-shadow-penumbra-color),\n",
       "    0px 1px 10px 0px var(--jp-shadow-ambient-color) !important;\n",
       "  --jp-elevation-z6: 0px 3px 5px -1px var(--jp-shadow-umbra-color),\n",
       "    0px 6px 10px 0px var(--jp-shadow-penumbra-color),\n",
       "    0px 1px 18px 0px var(--jp-shadow-ambient-color) !important;\n",
       "  --jp-elevation-z8: 0px 5px 5px -3px var(--jp-shadow-umbra-color),\n",
       "    0px 8px 10px 1px var(--jp-shadow-penumbra-color),\n",
       "    0px 3px 14px 2px var(--jp-shadow-ambient-color) !important;\n",
       "  --jp-elevation-z12: 0px 7px 8px -4px var(--jp-shadow-umbra-color),\n",
       "    0px 12px 17px 2px var(--jp-shadow-penumbra-color),\n",
       "    0px 5px 22px 4px var(--jp-shadow-ambient-color) !important;\n",
       "  --jp-elevation-z16: 0px 8px 10px -5px var(--jp-shadow-umbra-color),\n",
       "    0px 16px 24px 2px var(--jp-shadow-penumbra-color),\n",
       "    0px 6px 30px 5px var(--jp-shadow-ambient-color) !important;\n",
       "  --jp-elevation-z20: 0px 10px 13px -6px var(--jp-shadow-umbra-color),\n",
       "    0px 20px 31px 3px var(--jp-shadow-penumbra-color),\n",
       "    0px 8px 38px 7px var(--jp-shadow-ambient-color) !important;\n",
       "  --jp-elevation-z24: 0px 11px 15px -7px var(--jp-shadow-umbra-color),\n",
       "    0px 24px 38px 3px var(--jp-shadow-penumbra-color),\n",
       "    0px 9px 46px 8px var(--jp-shadow-ambient-color) !important;\n",
       "\n",
       "  /* Borders\n",
       "   *\n",
       "   * The following variables, specify the visual styling of borders in JupyterLab.\n",
       "   */\n",
       "\n",
       "  --jp-border-width: 1px !important;\n",
       "  --jp-border-color0: var(--md-grey-700) !important;\n",
       "  --jp-border-color1: var(--md-grey-800) !important;\n",
       "  --jp-border-color2: var(--md-grey-800) !important;\n",
       "  --jp-border-color3: var(--md-grey-900) !important;\n",
       "  --jp-border-radius: 2px !important;\n",
       "\n",
       "  /* UI Fonts\n",
       "   *\n",
       "   * The UI font CSS variables are used for the typography all of the JupyterLab\n",
       "   * user interface elements that are not directly user generated content.\n",
       "   *\n",
       "   * The font sizing here is done assuming that the body font size of --jp-ui-font-size1\n",
       "   * is applied to a parent element. When children elements, such as headings, are sized\n",
       "   * in em all things will be computed relative to that body size.\n",
       "   */\n",
       "\n",
       "  --jp-ui-font-scale-factor: 1.2 !important;\n",
       "  --jp-ui-font-size0: 0.83333em !important;\n",
       "  --jp-ui-font-size1: 13px !important; /* Base font size */\n",
       "  --jp-ui-font-size2: 1.2em !important;\n",
       "  --jp-ui-font-size3: 1.44em !important;\n",
       "\n",
       "  --jp-ui-font-family: 'Source Han Code JP L', -apple-system, BlinkMacSystemFont, 'Segoe UI', Helvetica,\n",
       "    Arial, sans-serif, 'Apple Color Emoji', 'Segoe UI Emoji', 'Segoe UI Symbol' !important;\n",
       "\n",
       "  /*\n",
       "   * Use these font colors against the corresponding main layout colors.\n",
       "   * In a light theme, these go from dark to light.\n",
       "   */\n",
       "\n",
       "  /* Defaults use Material Design specification */\n",
       "  --jp-ui-font-color0: white !important;\n",
       "  --jp-ui-font-color1: var(--md-grey-300) !important;\n",
       "  --jp-ui-font-color2: var(--md-grey-500) !important;\n",
       "  --jp-ui-font-color3: var(--md-grey-700) !important;\n",
       "\n",
       "  /*\n",
       "   * Use these against the brand/accent/warn/error colors.\n",
       "   * These will typically go from light to darker, in both a dark and light theme.\n",
       "   */\n",
       "\n",
       "  --jp-ui-inverse-font-color0: rgba(0, 0, 0, 1) !important;\n",
       "  --jp-ui-inverse-font-color1: rgba(0, 0, 0, 0.8) !important;\n",
       "  --jp-ui-inverse-font-color2: rgba(0, 0, 0, 0.5) !important;\n",
       "  --jp-ui-inverse-font-color3: rgba(0, 0, 0, 0.3) !important;\n",
       "\n",
       "  /* Content Fonts\n",
       "   *\n",
       "   * Content font variables are used for typography of user generated content.\n",
       "   *\n",
       "   * The font sizing here is done assuming that the body font size of --jp-content-font-size1\n",
       "   * is applied to a parent element. When children elements, such as headings, are sized\n",
       "   * in em all things will be computed relative to that body size.\n",
       "   */\n",
       "\n",
       "  --jp-content-line-height: 2 !important; /* markdownの行間 */\n",
       "  --jp-content-font-scale-factor: 1.2 !important;\n",
       "  --jp-content-font-size0: 0.83333em !important;\n",
       "  --jp-content-font-size1: 14px !important; /* Base font size */\n",
       "  --jp-content-font-size2: 1.2em !important;\n",
       "  --jp-content-font-size3: 1.44em !important;\n",
       "  --jp-content-font-size4: 1.728em !important;\n",
       "  --jp-content-font-size5: 2.0736em !important;\n",
       "\n",
       "  /* This gives a magnification of about 125% in presentation mode over normal. */\n",
       "  --jp-content-presentation-font-size1: 17px !important;\n",
       "\n",
       "  --jp-content-heading-line-height: 2 !important;\n",
       "  --jp-content-heading-margin-top: 1.2em !important;\n",
       "  --jp-content-heading-margin-bottom: 0.8em !important;\n",
       "  --jp-content-heading-font-weight: 500 !important;\n",
       "\n",
       "  /* Defaults use Material Design specification */\n",
       "  --jp-content-font-color0: rgba(255, 255, 255, 1) !important;\n",
       "  --jp-content-font-color1: rgba(255, 255, 255, 1) !important;\n",
       "  --jp-content-font-color2: rgba(255, 255, 255, 0.7) !important;\n",
       "  --jp-content-font-color3: rgba(255, 255, 255, 0.5) !important;\n",
       "\n",
       "  --jp-content-link-color: var(--md-blue-300) !important;\n",
       "\n",
       "  --jp-content-font-family: 'Source Han Code JP L', -apple-system, BlinkMacSystemFont, 'Segoe UI',\n",
       "    Helvetica, Arial, sans-serif, 'Apple Color Emoji', 'Segoe UI Emoji',\n",
       "    'Segoe UI Symbol' !important;\n",
       "\n",
       "  /*\n",
       "   * Code Fonts\n",
       "   *\n",
       "   * Code font variables are used for typography of code and other monospaces content.\n",
       "   */\n",
       "\n",
       "  --jp-code-font-size: 13px !important;\n",
       "  --jp-code-line-height: 1.3077 !important; /* 17px for 13px base */\n",
       "  --jp-code-padding: 0.385em !important; /* 5px for 13px base */\n",
       "  --jp-code-font-family-default: 'Source Han Code JP L', Menlo, Consolas, 'DejaVu Sans Mono', monospace !important;\n",
       "  --jp-code-font-family: var(--jp-code-font-family-default) !important;\n",
       "\n",
       "  /* This gives a magnification of about 125% in presentation mode over normal. */\n",
       "  --jp-code-presentation-font-size: 16px !important;\n",
       "\n",
       "  /* Layout\n",
       "   *\n",
       "   * The following are the main layout colors use in JupyterLab. In a light\n",
       "   * theme these would go from light to dark.\n",
       "   */\n",
       "\n",
       "  --jp-layout-color0: #111111 !important;\n",
       "  --jp-layout-color1: var(--md-grey-900) !important;\n",
       "  --jp-layout-color2: var(--md-grey-800) !important;\n",
       "  --jp-layout-color3: var(--md-grey-700) !important;\n",
       "  --jp-layout-color4: var(--md-grey-600) !important;\n",
       "\n",
       "  /* Inverse Layout\n",
       "   *\n",
       "   * The following are the inverse layout colors use in JupyterLab. In a light\n",
       "   * theme these would go from dark to light.\n",
       "   */\n",
       "\n",
       "  --jp-inverse-layout-color0: white !important;\n",
       "  --jp-inverse-layout-color1: white !important;\n",
       "  --jp-inverse-layout-color2: var(--md-grey-200) !important;\n",
       "  --jp-inverse-layout-color3: var(--md-grey-400) !important;\n",
       "  --jp-inverse-layout-color4: var(--md-grey-600) !important;\n",
       "\n",
       "  /* Brand/accent */\n",
       "\n",
       "  --jp-brand-color0: var(--md-blue-700) !important;\n",
       "  --jp-brand-color1: var(--md-blue-500) !important;\n",
       "  --jp-brand-color2: var(--md-blue-300) !important;\n",
       "  --jp-brand-color3: var(--md-blue-100) !important;\n",
       "\n",
       "  --jp-accent-color0: var(--md-green-700) !important;\n",
       "  --jp-accent-color1: var(--md-green-500) !important;\n",
       "  --jp-accent-color2: var(--md-green-300) !important;\n",
       "  --jp-accent-color3: var(--md-green-100) !important;\n",
       "\n",
       "  /* State colors (warn, error, success, info) */\n",
       "\n",
       "  --jp-warn-color0: var(--md-orange-700) !important;\n",
       "  --jp-warn-color1: var(--md-orange-500) !important;\n",
       "  --jp-warn-color2: var(--md-orange-300) !important;\n",
       "  --jp-warn-color3: var(--md-orange-100) !important;\n",
       "\n",
       "  --jp-error-color0: var(--md-red-700) !important;\n",
       "  --jp-error-color1: var(--md-red-500) !important;\n",
       "  --jp-error-color2: var(--md-red-300) !important;\n",
       "  --jp-error-color3: var(--md-red-100) !important;\n",
       "\n",
       "  --jp-success-color0: var(--md-green-700) !important;\n",
       "  --jp-success-color1: var(--md-green-500) !important;\n",
       "  --jp-success-color2: var(--md-green-300) !important;\n",
       "  --jp-success-color3: var(--md-green-100) !important;\n",
       "\n",
       "  --jp-info-color0: var(--md-cyan-700) !important;\n",
       "  --jp-info-color1: var(--md-cyan-500) !important;\n",
       "  --jp-info-color2: var(--md-cyan-300) !important;\n",
       "  --jp-info-color3: var(--md-cyan-100) !important;\n",
       "\n",
       "  /* Cell specific styles */\n",
       "\n",
       "  --jp-cell-padding: 8px !important;  /* cell間のスペース */\n",
       "\n",
       "  --jp-cell-collapser-width: 8px !important;\n",
       "  --jp-cell-collapser-min-height: 20px !important;\n",
       "  --jp-cell-collapser-not-active-hover-opacity: 0.6 !important;\n",
       "\n",
       "  --jp-cell-editor-background: var(--md-grey-900) !important;\n",
       "  --jp-cell-editor-border-color: var(--md-grey-700) !important;\n",
       "  --jp-cell-editor-box-shadow: inset 0 0 2px var(--md-blue-300) !important;\n",
       "  --jp-cell-editor-active-background: var(--md-grey-900) !important;\n",
       "  --jp-cell-editor-active-border-color: var(--jp-brand-color1) !important;\n",
       "\n",
       "  --jp-cell-prompt-width: 64px !important;\n",
       "  --jp-cell-prompt-font-family: 'Source Han Code JP L', monospace !important;\n",
       "  --jp-cell-prompt-letter-spacing: 0px !important;\n",
       "  --jp-cell-prompt-opacity: 1 !important;\n",
       "  --jp-cell-prompt-not-active-opacity: 1 !important;\n",
       "  --jp-cell-prompt-not-active-font-color: var(--md-grey-300) !important;\n",
       "\n",
       "  /* A custom blend of MD grey and blue 600\n",
       "   * See https://meyerweb.com/eric/tools/color-blend/#546E7A:1E88E5:5:hex */\n",
       "  --jp-cell-inprompt-font-color: #307fc1 !important;\n",
       "  /* A custom blend of MD grey and orange 600\n",
       "   * https://meyerweb.com/eric/tools/color-blend/#546E7A:F4511E:5:hex */\n",
       "  --jp-cell-outprompt-font-color: #bf5b3d !important;\n",
       "\n",
       "  /* Notebook specific styles */\n",
       "\n",
       "  --jp-notebook-padding: 10px !important;\n",
       "  --jp-notebook-scroll-padding: 100px !important;\n",
       "  --jp-notebook-select-background: var(--md-grey-900) !important;\n",
       "  --jp-notebook-multiselected-color: rgba(33, 150, 243, 0.24) !important;\n",
       "\n",
       "  /* Rendermime styles */\n",
       "\n",
       "  --jp-rendermime-error-background: var(--md-grey-900) !important;\n",
       "  --jp-rendermime-table-row-background: var(--md-grey-900) !important;\n",
       "  --jp-rendermime-table-row-hover-background: rgba(3, 169, 244, 0.2) !important;\n",
       "\n",
       "  /* Dialog specific styles */\n",
       "\n",
       "  --jp-dialog-background: rgba(0, 0, 0, 0.6) !important;\n",
       "\n",
       "  /* Console specific styles */\n",
       "\n",
       "  --jp-console-padding: 10px !important;\n",
       "\n",
       "  /* Toolbar specific styles */\n",
       "\n",
       "  --jp-toolbar-border-color: var(--jp-border-color2) !important;\n",
       "  --jp-toolbar-micro-height: 8px !important;\n",
       "  --jp-toolbar-background: var(--md-grey-900) !important;\n",
       "  --jp-toolbar-box-shadow: 0px 0px 2px 0px rgba(0, 0, 0, 0.8) !important;\n",
       "  --jp-toolbar-header-margin: 4px 4px 0px 4px !important;\n",
       "  --jp-toolbar-active-background: var(--jp-layout-color0) !important;\n",
       "\n",
       "  /* Input field styles */\n",
       "\n",
       "  --jp-input-box-shadow: inset 0 0 2px var(--md-blue-300) !important;\n",
       "  --jp-input-active-background: var(--md-grey-900) !important;\n",
       "  --jp-input-hover-background: var(--md-grey-900) !important;\n",
       "  --jp-input-background: var(--md-grey-900) !important;\n",
       "  --jp-input-border-color: var(--jp-border-color1) !important;\n",
       "  --jp-input-active-border-color: var(--jp-brand-color1) !important;\n",
       "\n",
       "  /* General editor styles */\n",
       "\n",
       "  --jp-editor-selected-background: var(--md-grey-900) !important;\n",
       "  --jp-editor-selected-focused-background: var(--md-grey-700) !important;\n",
       "  --jp-editor-cursor-color: var(--jp-ui-font-color0) !important;\n",
       "\n",
       "  /* Code mirror specific styles */\n",
       "\n",
       "  --jp-mirror-editor-keyword-color: var(--md-pink-100) !important;\n",
       "  --jp-mirror-editor-atom-color: var(--md-blue-300) !important;\n",
       "  --jp-mirror-editor-number-color: white !important;\n",
       "  --jp-mirror-editor-def-color: var(--md-orange-200) !important;   /* 関数名 */\n",
       "  --jp-mirror-editor-variable-color: white !important;\n",
       "  --jp-mirror-editor-variable-2-color: var(--md-blue-100) !important;\n",
       "  --jp-mirror-editor-variable-3-color: var(--md-pink-100) !important;\n",
       "  --jp-mirror-editor-punctuation-color: var(--md-blue-100) !important;\n",
       "  --jp-mirror-editor-property-color: var(--md-blue-100) !important;\n",
       "  --jp-mirror-editor-operator-color: var(--md-pink-100)  !important;  /* = */\n",
       "  --jp-mirror-editor-comment-color: var(--md-green-200) !important;   /* コメント */\n",
       "  --jp-mirror-editor-string-color: \tvar(--md-cyan-200) !important;    /* 文字列 */\n",
       "  --jp-mirror-editor-string-2-color: var(--md-purple-300) !important;\n",
       "  --jp-mirror-editor-meta-color: var(--md-pink-200) !important;\n",
       "  --jp-mirror-editor-qualifier-color: #555 !important;\n",
       "  --jp-mirror-editor-builtin-color: var(--md-pink-100) !important;\n",
       "  --jp-mirror-editor-bracket-color: cyan !important;\n",
       "  --jp-mirror-editor-tag-color: var(--md-blue-200) !important;  /* markdown */\n",
       "  --jp-mirror-editor-attribute-color: var(--md-blue-700) !important;\n",
       "  --jp-mirror-editor-header-color: var(--md-blue-500) !important;\n",
       "  --jp-mirror-editor-quote-color: var(--md-green-300) !important;\n",
       "  --jp-mirror-editor-link-color: var(--md-blue-200) !important;\n",
       "  --jp-mirror-editor-error-color: #f00 !important;\n",
       "  --jp-mirror-editor-hr-color: #999 !important;\n",
       "\n",
       "  /* Vega extension styles */\n",
       "\n",
       "  --jp-vega-background: var(--md-grey-900) !important;\n",
       "\n",
       "  /* Sidebar-related styles */\n",
       "\n",
       "  --jp-sidebar-min-width: 180px !important;\n",
       "}</style>"
      ],
      "text/plain": [
       "<IPython.core.display.HTML object>"
      ]
     },
     "metadata": {},
     "output_type": "display_data"
    }
   ],
   "source": [
    "from IPython.core.display import display, HTML\n",
    "display(HTML(\"<style>.jp-Cell { width:100% !important; margin: 0 auto; }</style>\"))\n",
    "with open('./material/variables.css') as f: \n",
    "    css = f.read().replace(';', ' !important;')\n",
    "display(HTML('<style type=\"text/css\">%s</style>'%css))"
   ]
  },
  {
   "cell_type": "markdown",
   "metadata": {},
   "source": [
    "# 二項分布から正規分布へ"
   ]
  },
  {
   "cell_type": "markdown",
   "metadata": {},
   "source": [
    "## 二項分布"
   ]
  },
  {
   "cell_type": "code",
   "execution_count": 13,
   "metadata": {},
   "outputs": [
    {
     "data": {
      "text/plain": [
       "<matplotlib.legend.Legend at 0x14c37ea60>"
      ]
     },
     "execution_count": 13,
     "metadata": {},
     "output_type": "execute_result"
    },
    {
     "data": {
      "image/png": "[encoded data removed]",
      "text/plain": [
       "<Figure size 350x300 with 1 Axes>"
      ]
     },
     "metadata": {
      "filenames": {
       "image/png": "/Users/narizuka/work/document/lecture/rissho/info_process/2022/material/_build/jupyter_execute/chap_4/sec_4-1/sec_4-1_12_1.png"
      }
     },
     "output_type": "display_data"
    }
   ],
   "source": [
    "fig, ax = plt.subplots()\n",
    "k = np.arange(0, 20, 1)\n",
    "ax.plot(k, ff.bi(k, 100, 0.01), '-o', mfc='w', ms=5, label='$n=100, p=0.01$')\n",
    "ax.plot(k, ff.bi(k, 100, 0.04), '-o', mfc='w', ms=5, label='$n=100, p=0.04$')\n",
    "ax.plot(k, ff.bi(k, 100, 0.08), '-o', mfc='w', ms=5, label='$n=100, p=0.08$')\n",
    "ax.set_xlabel('$x$', fontsize=15)\n",
    "ax.set_ylabel('$f(x)$', fontsize=15)\n",
    "ax.legend(numpoints=1, fontsize=10, loc='upper right', frameon=True)\n",
    "\n",
    "# fig.savefig(fpath+'binom_p.pdf', bbox_inches=\"tight\", pad_inches=0.2, transparent=True)"
   ]
  },
  {
   "cell_type": "code",
   "execution_count": 14,
   "metadata": {},
   "outputs": [
    {
     "data": {
      "text/plain": [
       "<matplotlib.legend.Legend at 0x14c43fb50>"
      ]
     },
     "execution_count": 14,
     "metadata": {},
     "output_type": "execute_result"
    },
    {
     "data": {
      "image/png": "[encoded data removed]",
      "text/plain": [
       "<Figure size 350x300 with 1 Axes>"
      ]
     },
     "metadata": {
      "filenames": {
       "image/png": "/Users/narizuka/work/document/lecture/rissho/info_process/2022/material/_build/jupyter_execute/chap_4/sec_4-1/sec_4-1_13_1.png"
      }
     },
     "output_type": "display_data"
    }
   ],
   "source": [
    "fig, ax = plt.subplots()\n",
    "k = np.arange(0, 20, 1)\n",
    "ax.plot(k, ff.bi(k, 5, 0.2), '-o', mfc='w', ms=5, label='$n=5, p=0.2$')\n",
    "ax.plot(k, ff.bi(k, 10, 0.2), '-o', mfc='w', ms=5, label='$n=10, p=0.2$')\n",
    "ax.plot(k, ff.bi(k, 30, 0.2), '-o', mfc='w', ms=5, label='$n=30, p=0.2$')\n",
    "ax.plot(k, ff.bi(k, 50, 0.2), '-o', mfc='w', ms=5, label='$n=50, p=0.2$')\n",
    "ax.set_xlim(0, 20); ax.set_ylim(0, 0.5)\n",
    "ax.set_xlabel('$x$', fontsize=15)\n",
    "ax.set_ylabel('$f(x)$', fontsize=15)\n",
    "ax.legend(numpoints=1, fontsize=10, loc='upper right', frameon=True)\n",
    "\n",
    "# fig.savefig(fpath+'binom_n.pdf', bbox_inches=\"tight\", pad_inches=0.2, transparent=True)"
   ]
  },
  {
   "cell_type": "code",
   "execution_count": 15,
   "metadata": {},
   "outputs": [
    {
     "data": {
      "text/plain": [
       "<matplotlib.legend.Legend at 0x14c4ad100>"
      ]
     },
     "execution_count": 15,
     "metadata": {},
     "output_type": "execute_result"
    },
    {
     "data": {
      "image/png": "[encoded data removed]",
      "text/plain": [
       "<Figure size 350x300 with 1 Axes>"
      ]
     },
     "metadata": {
      "filenames": {
       "image/png": "/Users/narizuka/work/document/lecture/rissho/info_process/2022/material/_build/jupyter_execute/chap_4/sec_4-1/sec_4-1_14_1.png"
      }
     },
     "output_type": "display_data"
    }
   ],
   "source": [
    "fig, ax = plt.subplots()\n",
    "k = np.arange(0, 20, 1)\n",
    "ax.plot(k/5, 5*ff.bi(k, 5, 0.2), '-o', mfc='w', ms=5, label='$n=5, p=0.2$')\n",
    "ax.plot(k/10, 10*ff.bi(k, 10, 0.2), '-o', mfc='w', ms=5, label='$n=10, p=0.2$')\n",
    "ax.plot(k/30, 30*ff.bi(k, 30, 0.2), '-o', mfc='w', ms=5, label='$n=30, p=0.2$')\n",
    "ax.plot(k/50, 50*ff.bi(k, 50, 0.2), '-o', mfc='w', ms=5, label='$n=50, p=0.2$')\n",
    "ax.set_xlim(0, 1); ax.set_ylim(0, 8)\n",
    "ax.set_xlabel('$t=x/n$', fontsize=15)\n",
    "ax.set_ylabel('$g(t)$', fontsize=15)\n",
    "ax.legend(numpoints=1, fontsize=10, loc='upper right', frameon=True)\n",
    "\n",
    "# fig.savefig(fpath+'binom_n2.pdf', bbox_inches=\"tight\", pad_inches=0.2, transparent=True)"
   ]
  },
  {
   "cell_type": "markdown",
   "metadata": {},
   "source": [
    "## 正規分布"
   ]
  },
  {
   "cell_type": "code",
   "execution_count": 16,
   "metadata": {},
   "outputs": [
    {
     "data": {
      "text/plain": [
       "<matplotlib.legend.Legend at 0x14c44ad90>"
      ]
     },
     "execution_count": 16,
     "metadata": {},
     "output_type": "execute_result"
    },
    {
     "data": {
      "image/png": "[encoded data removed]",
      "text/plain": [
       "<Figure size 350x300 with 1 Axes>"
      ]
     },
     "metadata": {
      "filenames": {
       "image/png": "/Users/narizuka/work/document/lecture/rissho/info_process/2022/material/_build/jupyter_execute/chap_4/sec_4-1/sec_4-1_16_1.png"
      }
     },
     "output_type": "display_data"
    }
   ],
   "source": [
    "fig, ax = plt.subplots()\n",
    "x = np.arange(-5, 5, 0.01)\n",
    "ax.plot(x, ff.nm(x, 0, 0.5), '-', mfc='w', ms=5, label='$\\mu=0, \\sigma=0.5$')\n",
    "ax.plot(x, ff.nm(x, 0, 1.0), '-', mfc='w', ms=5, label='$\\mu=0, \\sigma=1.0$')\n",
    "ax.plot(x, ff.nm(x, 0, 2.0), '-', mfc='w', ms=5, label='$\\mu=0, \\sigma=2.0$')\n",
    "# ax.set_xlim(0, 1); ax.set_ylim(0, 8)\n",
    "ax.set_xlabel('$x$', fontsize=15)\n",
    "ax.set_ylabel('$f(x)$', fontsize=15)\n",
    "ax.legend(numpoints=1, fontsize=8, loc='upper right', frameon=True)\n",
    "\n",
    "# fig.savefig(fpath+'normal.pdf', bbox_inches=\"tight\", pad_inches=0.2, transparent=True)"
   ]
  },
  {
   "cell_type": "code",
   "execution_count": 17,
   "metadata": {},
   "outputs": [
    {
     "data": {
      "text/plain": [
       "<matplotlib.legend.Legend at 0x14c4e1be0>"
      ]
     },
     "execution_count": 17,
     "metadata": {},
     "output_type": "execute_result"
    },
    {
     "data": {
      "image/png": "[encoded data removed]",
      "text/plain": [
       "<Figure size 350x300 with 1 Axes>"
      ]
     },
     "metadata": {
      "filenames": {
       "image/png": "/Users/narizuka/work/document/lecture/rissho/info_process/2022/material/_build/jupyter_execute/chap_4/sec_4-1/sec_4-1_17_1.png"
      }
     },
     "output_type": "display_data"
    }
   ],
   "source": [
    "fig, ax = plt.subplots()\n",
    "x = np.arange(-5, 8, 0.01)\n",
    "ax.plot(x, ff.nm(x, 0, 0.5), '-', mfc='w', ms=5, label='$\\mu=0, \\sigma=0.5$')\n",
    "ax.plot(x, ff.nm(x, 1, 1.0), '-', mfc='w', ms=5, label='$\\mu=1, \\sigma=1.0$')\n",
    "ax.plot(x, ff.nm(x, 2, 2.0), '-', mfc='w', ms=5, label='$\\mu=2, \\sigma=2.0$')\n",
    "# ax.set_xlim(0, 1); ax.set_ylim(0, 8)\n",
    "ax.set_xlabel('$x$', fontsize=15)\n",
    "ax.set_ylabel('$f(x)$', fontsize=15)\n",
    "ax.legend(numpoints=1, fontsize=8, loc='upper right', frameon=True)\n",
    "\n",
    "# fig.savefig(fpath+'normal2.pdf', bbox_inches=\"tight\", pad_inches=0.2, transparent=True)"
   ]
  },
  {
   "cell_type": "markdown",
   "metadata": {},
   "source": [
    "## 標準化と標準正規分布"
   ]
  },
  {
   "cell_type": "markdown",
   "metadata": {},
   "source": [
    "正規分布の相補累積分布関数は\n",
    "$$\n",
    "    P(X \\geq x) = \\int_{x}^{\\infty} \\frac{1}{\\sqrt{2\\pi} \\sigma} \\exp \\left[ - \\frac{(x-\\mu)^{2}}{2\\sigma^{2}} \\right] dx\n",
    "$$\n",
    "と表される．\n",
    "これは，誤差関数\n",
    "$$\n",
    "    \\mathrm{erf}(x) = \\frac{2}{\\sqrt{\\pi}} \\int_{0}^{x} \\mathrm{e}^{-t^2} dt\n",
    "$$\n",
    "を用いると，\n",
    "$$\n",
    "    P(X \\geq x) = \\frac{1}{2} \\left[1 - \\mathrm{erf}\\left(\\frac{x-\\mu}{\\sqrt{2}\\sigma} \\right) \\right]\n",
    "$$\n",
    "と表される．"
   ]
  },
  {
   "cell_type": "code",
   "execution_count": 98,
   "metadata": {},
   "outputs": [
    {
     "data": {
      "image/png": "[encoded data removed]",
      "text/plain": [
       "<Figure size 400x300 with 1 Axes>"
      ]
     },
     "metadata": {
      "filenames": {
       "image/png": "/Users/narizuka/work/document/lecture/rissho/info_process/2022/material/_build/jupyter_execute/chap_4/sec_4-1/sec_4-1_20_0.png"
      }
     },
     "output_type": "display_data"
    }
   ],
   "source": [
    "fig, ax = plt.subplots(figsize=(4, 3))\n",
    "x = np.arange(-5, 5, 0.01)\n",
    "ax.plot(x, ff.nm(x, 0, 1), '-', mfc='w', ms=5)\n",
    "x2 = np.arange(1, 5, 0.01)\n",
    "plt.fill_between(x2, ff.nm(x2, 0, 1), facecolor='gray', alpha=0.5)\n",
    "ax.set_xlim(-3.5, 3.5); ax.set_ylim(0, 0.45)\n",
    "ax.set_xticks([-3, -2, -1, 0, 1, 2, 3])\n",
    "ax.set_xlabel('$z$', fontsize=15)\n",
    "ax.set_ylabel('$f(z)$', fontsize=15)\n",
    "# ax.legend(numpoints=1, fontsize=8, loc='upper right', frameon=True)\n",
    "\n",
    "# fig.savefig('figure/normal3.pdf', bbox_inches=\"tight\", pad_inches=0.2, transparent=True)"
   ]
  },
  {
   "cell_type": "markdown",
   "metadata": {},
   "source": [
    "### 標準正規分布の上側確率の計算\n",
    "$$\n",
    "    P(-a \\leq Z \\leq a)  = 1 - 2P(Z \\geq a) = \\mathrm{erf}(x/\\sqrt{2})\n",
    "$$"
   ]
  },
  {
   "cell_type": "code",
   "execution_count": 18,
   "metadata": {},
   "outputs": [],
   "source": [
    "from scipy.special import erf"
   ]
  },
  {
   "cell_type": "code",
   "execution_count": 22,
   "metadata": {},
   "outputs": [
    {
     "data": {
      "text/plain": [
       "0.6826894921370859"
      ]
     },
     "execution_count": 22,
     "metadata": {},
     "output_type": "execute_result"
    }
   ],
   "source": [
    "# a=1\n",
    "erf(1/sqrt(2))"
   ]
  },
  {
   "cell_type": "code",
   "execution_count": 23,
   "metadata": {},
   "outputs": [
    {
     "data": {
      "text/plain": [
       "0.9544997361036416"
      ]
     },
     "execution_count": 23,
     "metadata": {},
     "output_type": "execute_result"
    }
   ],
   "source": [
    "# a=2\n",
    "erf(2/sqrt(2))"
   ]
  },
  {
   "cell_type": "code",
   "execution_count": 24,
   "metadata": {},
   "outputs": [
    {
     "data": {
      "text/plain": [
       "0.9973002039367398"
      ]
     },
     "execution_count": 24,
     "metadata": {},
     "output_type": "execute_result"
    }
   ],
   "source": [
    "# a=3\n",
    "erf(3/sqrt(2))"
   ]
  },
  {
   "cell_type": "markdown",
   "metadata": {},
   "source": [
    "# 実例：視聴率調査の仕組みは？"
   ]
  },
  {
   "cell_type": "markdown",
   "metadata": {},
   "source": [
    "## STEP1: Problem\n",
    "- 2016年10月31日時点で関東地区の世帯数は約1800万世帯である．\n",
    "- これらの世帯の中で，ある番組を見ている世帯の割合を表したものが番組視聴率である．\n",
    "- 通常，全世帯の視聴率を完全に把握するには全世帯を調査する必要があるが，それは現実的ではない．\n",
    "- そこで，一部の世帯だけを抽出し（これを標本と呼ぶ），そこでの視聴率調査から全世帯の視聴率を推定する方法が取られる．\n",
    "- 実際，ビデオリサーチ社の視聴率調査において調査対象となる世帯数は関東地区で900世帯となっている．\n",
    "- では，どのような方法で900世帯のデータから全体の視聴率を推定しているのだろうか？"
   ]
  },
  {
   "cell_type": "markdown",
   "metadata": {},
   "source": [
    "## STEP 2: Plan\n",
    "- 以下のような視聴率調査を模した模擬実験を考え，世帯数と視聴率調査の正確性の関係を調べる．\n",
    "- まず，黒玉を「番組を見た世帯」，白玉を「番組を見ていない世帯」とする．\n",
    "- 黒玉は20個，白玉は60個用意して箱の中に入れる．\n",
    "- すなわち，視聴率の理論値は20/80=25\\%となる．\n",
    "- 実験では，まず，箱の中から$ 4 $個の玉を取り出すことを200回繰り返し，黒玉の比率（視聴率）のヒストグラムを作成する．\n",
    "- 次に，標本サイズが$ n=12,15,30 $の場合に対して同様のことを繰り返し，ヒストグラムの変化を見る．"
   ]
  },
  {
   "cell_type": "markdown",
   "metadata": {},
   "source": [
    "## STEP 3: Data\n",
    "- $ n=4,12,15,30 $の場合に模擬実験を200回繰り返した結果，以下のような結果を得た．"
   ]
  },
  {
   "cell_type": "code",
   "execution_count": 9,
   "metadata": {},
   "outputs": [],
   "source": [
    "D4 = DataFrame({'rate': [0, 25, 50, 75],\n",
    "                'freq': [70, 80, 40, 10]})\n",
    "D12 = DataFrame({'rate': [0, 8, 17, 25, 33, 42, 50],\n",
    "                 'freq': [5, 30, 50, 45, 50, 15, 5]})\n",
    "D15 = DataFrame({'rate': [0, 7, 13, 20, 27, 33, 40, 47, 53],\n",
    "                 'freq': [3, 6, 30, 42, 54, 36, 18, 6, 5]})\n",
    "D30 = DataFrame({'rate': [3, 7, 10, 13, 17, 20, 23, 27, 30, 33, 37, 40, 43],\n",
    "                 'freq': [2, 1, 3, 5, 7, 28, 46, 56, 18, 14, 10, 8, 2]})"
   ]
  },
  {
   "cell_type": "markdown",
   "metadata": {},
   "source": [
    "## STEP 4: Analysis\n",
    "#### 実習\n",
    "- 実験で得られたデータを用いて，各 $ n $ に対する黒玉比率のヒストグラムを作成せよ．\n",
    "- $ n $ の増加に応じてヒストグラムの形がどのように変化するか確認せよ．\n",
    "- 各 $ n $ に対して黒玉比率の標本平均と標準偏差を計算せよ．"
   ]
  },
  {
   "cell_type": "code",
   "execution_count": 24,
   "metadata": {},
   "outputs": [
    {
     "data": {
      "text/plain": [
       "Text(0, 0.5, '頻度')"
      ]
     },
     "execution_count": 24,
     "metadata": {},
     "output_type": "execute_result"
    },
    {
     "data": {
      "image/png": "[encoded data removed]",
      "text/plain": [
       "<Figure size 350x300 with 1 Axes>"
      ]
     },
     "metadata": {
      "filenames": {
       "image/png": "/Users/narizuka/work/document/lecture/rissho/info_process/2022/material/_build/jupyter_execute/chap_4/sec_4-1/sec_4-1_32_1.png"
      }
     },
     "output_type": "display_data"
    }
   ],
   "source": [
    "fig, ax = plt.subplots()\n",
    "ax.bar(D4['rate'], D4['freq'], width=1, color='b')\n",
    "ax.set_xlabel('黒玉比率 [%]')\n",
    "ax.set_ylabel('頻度')"
   ]
  },
  {
   "cell_type": "code",
   "execution_count": 25,
   "metadata": {},
   "outputs": [
    {
     "data": {
      "text/plain": [
       "Text(0, 0.5, '頻度')"
      ]
     },
     "execution_count": 25,
     "metadata": {},
     "output_type": "execute_result"
    },
    {
     "data": {
      "image/png": "[encoded data removed]",
      "text/plain": [
       "<Figure size 350x300 with 1 Axes>"
      ]
     },
     "metadata": {
      "filenames": {
       "image/png": "/Users/narizuka/work/document/lecture/rissho/info_process/2022/material/_build/jupyter_execute/chap_4/sec_4-1/sec_4-1_33_1.png"
      }
     },
     "output_type": "display_data"
    }
   ],
   "source": [
    "# n=12\n",
    "fig, ax = plt.subplots()\n",
    "ax.bar(D12['rate'], D12['freq'], width=1, color='b')\n",
    "ax.set_xlabel('黒玉比率 [%]')\n",
    "ax.set_ylabel('頻度')"
   ]
  },
  {
   "cell_type": "code",
   "execution_count": 26,
   "metadata": {},
   "outputs": [
    {
     "data": {
      "text/plain": [
       "Text(0, 0.5, '頻度')"
      ]
     },
     "execution_count": 26,
     "metadata": {},
     "output_type": "execute_result"
    },
    {
     "data": {
      "image/png": "[encoded data removed]",
      "text/plain": [
       "<Figure size 350x300 with 1 Axes>"
      ]
     },
     "metadata": {
      "filenames": {
       "image/png": "/Users/narizuka/work/document/lecture/rissho/info_process/2022/material/_build/jupyter_execute/chap_4/sec_4-1/sec_4-1_34_1.png"
      }
     },
     "output_type": "display_data"
    }
   ],
   "source": [
    "# n=15\n",
    "fig, ax = plt.subplots()\n",
    "ax.bar(D15['rate'], D15['freq'], width=1, color='b')\n",
    "ax.set_xlabel('黒玉比率 [%]')\n",
    "ax.set_ylabel('頻度')"
   ]
  },
  {
   "cell_type": "code",
   "execution_count": 27,
   "metadata": {},
   "outputs": [
    {
     "data": {
      "text/plain": [
       "Text(0, 0.5, '頻度')"
      ]
     },
     "execution_count": 27,
     "metadata": {},
     "output_type": "execute_result"
    },
    {
     "data": {
      "image/png": "[encoded data removed]",
      "text/plain": [
       "<Figure size 350x300 with 1 Axes>"
      ]
     },
     "metadata": {
      "filenames": {
       "image/png": "/Users/narizuka/work/document/lecture/rissho/info_process/2022/material/_build/jupyter_execute/chap_4/sec_4-1/sec_4-1_35_1.png"
      }
     },
     "output_type": "display_data"
    }
   ],
   "source": [
    "# n=30\n",
    "fig, ax = plt.subplots()\n",
    "ax.bar(D30['rate'], D30['freq'], width=1, color='b')\n",
    "ax.set_xlabel('黒玉比率 [%]')\n",
    "ax.set_ylabel('頻度')"
   ]
  },
  {
   "cell_type": "markdown",
   "metadata": {},
   "source": [
    "#### 各 $ n $ に対する黒玉比率の標本平均と標準偏差"
   ]
  },
  {
   "cell_type": "code",
   "execution_count": null,
   "metadata": {},
   "outputs": [],
   "source": []
  },
  {
   "cell_type": "markdown",
   "metadata": {},
   "source": [
    "## STEP 5: Conclusion\n",
    "#### 実習\n",
    "- 実験の結果得られたヒストグラムについて，大数の法則の観点から考察せよ．\n",
    "- 実験の結果得られたヒストグラムについて，中心極限定理の観点から考察せよ．\n",
    "- 実験全体を踏まえ，視聴率調査の仕組みについて考察せよ．"
   ]
  }
 ],
 "metadata": {
  "kernelspec": {
   "display_name": "Python 3",
   "language": "python",
   "name": "python3"
  },
  "language_info": {
   "codemirror_mode": {
    "name": "ipython",
    "version": 3
   },
   "file_extension": ".py",
   "mimetype": "text/x-python",
   "name": "python",
   "nbconvert_exporter": "python",
   "pygments_lexer": "ipython3",
   "version": "3.9.13"
  },
  "toc-autonumbering": false
 },
 "nbformat": 4,
 "nbformat_minor": 4
}
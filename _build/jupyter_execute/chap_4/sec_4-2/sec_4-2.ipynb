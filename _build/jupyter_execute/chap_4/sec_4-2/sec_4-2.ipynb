{
 "cells": [
  {
   "cell_type": "code",
   "execution_count": 1,
   "metadata": {
    "id": "lcs2r2splZwq"
   },
   "outputs": [
    {
     "ename": "NameError",
     "evalue": "name 'os' is not defined",
     "output_type": "error",
     "traceback": [
      "\u001b[0;31m---------------------------------------------------------------------------\u001b[0m",
      "\u001b[0;31mNameError\u001b[0m                                 Traceback (most recent call last)",
      "Input \u001b[0;32mIn [1]\u001b[0m, in \u001b[0;36m<cell line: 2>\u001b[0;34m()\u001b[0m\n\u001b[1;32m      1\u001b[0m \u001b[38;5;66;03m# カレントディレクトリの変更（自分の作業フォルダのパスを設定）\u001b[39;00m\n\u001b[0;32m----> 2\u001b[0m \u001b[43mos\u001b[49m\u001b[38;5;241m.\u001b[39mchdir(\u001b[38;5;124m'\u001b[39m\u001b[38;5;124m/Users/narizuka/GoogleDrive/My Drive/document/講義/立正/情報処理の応用/\u001b[39m\u001b[38;5;124m'\u001b[39m)\n",
      "\u001b[0;31mNameError\u001b[0m: name 'os' is not defined"
     ]
    }
   ],
   "source": [
    "# カレントディレクトリの変更（自分の作業フォルダのパスを設定）\n",
    "os.chdir('/Users/narizuka/GoogleDrive/My Drive/document/講義/立正/情報処理の応用/')\n",
    "# os.chdir(\"G:\\\\マイドライブ\\\\document\\\\講義\\\\立正\\\\情報処理の応用\")"
   ]
  },
  {
   "cell_type": "markdown",
   "metadata": {
    "id": "gpPitpDa0ro4"
   },
   "source": [
    "使用するモジュールのimport"
   ]
  },
  {
   "cell_type": "code",
   "execution_count": 14,
   "metadata": {
    "executionInfo": {
     "elapsed": 2,
     "status": "ok",
     "timestamp": 1643778940575,
     "user": {
      "displayName": "Takuma Narizuka",
      "photoUrl": "https://lh3.googleusercontent.com/a-/AOh14GikY77c5HAiZw_0rE6X-EeMqDO36i0lZAZwgUjINg=s64",
      "userId": "11234403743201202105"
     },
     "user_tz": -540
    },
    "id": "MXreDC_F0ro8"
   },
   "outputs": [],
   "source": [
    "import sys, os\n",
    "import numpy as np\n",
    "import matplotlib.pyplot as plt\n",
    "import japanize_matplotlib\n",
    "import pandas as pd\n",
    "from pandas import DataFrame\n",
    "from scipy import optimize\n",
    "import material.fit_func as ff"
   ]
  },
  {
   "cell_type": "code",
   "execution_count": null,
   "metadata": {
    "id": "5K-Tbkzd0ro-",
    "outputId": "fc66bff3-3e57-4d2d-d3ea-dc1c57eec7a7"
   },
   "outputs": [
    {
     "data": {
      "text/plain": [
       "'%r'"
      ]
     },
     "execution_count": 5,
     "metadata": {},
     "output_type": "execute_result"
    }
   ],
   "source": [
    "pd.set_option('max_rows', 20)  # 表示する行数\n",
    "pd.set_option('precision', 4)  # 小数点以下の表示桁\n",
    "np.set_printoptions(suppress=True, precision=4)\n",
    "%precision 4  # 小数点以下の表示桁"
   ]
  },
  {
   "cell_type": "markdown",
   "metadata": {
    "id": "rGUw9jJYlZwr"
   },
   "source": [
    "google colab を使う際のセッティング"
   ]
  },
  {
   "cell_type": "code",
   "execution_count": 1,
   "metadata": {
    "colab": {
     "base_uri": "https://localhost:8080/"
    },
    "executionInfo": {
     "elapsed": 11080,
     "status": "ok",
     "timestamp": 1643779036918,
     "user": {
      "displayName": "Takuma Narizuka",
      "photoUrl": "https://lh3.googleusercontent.com/a-/AOh14GikY77c5HAiZw_0rE6X-EeMqDO36i0lZAZwgUjINg=s64",
      "userId": "11234403743201202105"
     },
     "user_tz": -540
    },
    "id": "FPZWw3gdlZwq",
    "outputId": "a58faee0-84f3-47ec-db3b-431bb6fe7df6"
   },
   "outputs": [
    {
     "name": "stdout",
     "output_type": "stream",
     "text": [
      "Collecting japanize-matplotlib\n",
      "  Downloading japanize-matplotlib-1.1.3.tar.gz (4.1 MB)\n",
      "\u001b[K     |████████████████████████████████| 4.1 MB 11.0 MB/s \n",
      "\u001b[?25hRequirement already satisfied: matplotlib in /usr/local/lib/python3.7/dist-packages (from japanize-matplotlib) (3.2.2)\n",
      "Requirement already satisfied: cycler>=0.10 in /usr/local/lib/python3.7/dist-packages (from matplotlib->japanize-matplotlib) (0.11.0)\n",
      "Requirement already satisfied: pyparsing!=2.0.4,!=2.1.2,!=2.1.6,>=2.0.1 in /usr/local/lib/python3.7/dist-packages (from matplotlib->japanize-matplotlib) (3.0.7)\n",
      "Requirement already satisfied: kiwisolver>=1.0.1 in /usr/local/lib/python3.7/dist-packages (from matplotlib->japanize-matplotlib) (1.3.2)\n",
      "Requirement already satisfied: python-dateutil>=2.1 in /usr/local/lib/python3.7/dist-packages (from matplotlib->japanize-matplotlib) (2.8.2)\n",
      "Requirement already satisfied: numpy>=1.11 in /usr/local/lib/python3.7/dist-packages (from matplotlib->japanize-matplotlib) (1.19.5)\n",
      "Requirement already satisfied: six>=1.5 in /usr/local/lib/python3.7/dist-packages (from python-dateutil>=2.1->matplotlib->japanize-matplotlib) (1.15.0)\n",
      "Building wheels for collected packages: japanize-matplotlib\n",
      "  Building wheel for japanize-matplotlib (setup.py) ... \u001b[?25l\u001b[?25hdone\n",
      "  Created wheel for japanize-matplotlib: filename=japanize_matplotlib-1.1.3-py3-none-any.whl size=4120275 sha256=1cf3a153c2e70762a2bb9902d351625a0bfa88257be25706b5fa1437642023c7\n",
      "  Stored in directory: /root/.cache/pip/wheels/83/97/6b/e9e0cde099cc40f972b8dd23367308f7705ae06cd6d4714658\n",
      "Successfully built japanize-matplotlib\n",
      "Installing collected packages: japanize-matplotlib\n",
      "Successfully installed japanize-matplotlib-1.1.3\n"
     ]
    }
   ],
   "source": [
    "# matplotlibで日本語表示\n",
    "!pip install japanize-matplotlib\n",
    "# import matplotlib.pyplot as plt\n",
    "import japanize_matplotlib"
   ]
  },
  {
   "cell_type": "code",
   "execution_count": 2,
   "metadata": {
    "colab": {
     "base_uri": "https://localhost:8080/"
    },
    "executionInfo": {
     "elapsed": 16520,
     "status": "ok",
     "timestamp": 1643779055825,
     "user": {
      "displayName": "Takuma Narizuka",
      "photoUrl": "https://lh3.googleusercontent.com/a-/AOh14GikY77c5HAiZw_0rE6X-EeMqDO36i0lZAZwgUjINg=s64",
      "userId": "11234403743201202105"
     },
     "user_tz": -540
    },
    "id": "zICEJQzWtdrp",
    "outputId": "da8e0df2-39d8-452f-e9d4-36893c9afbd4"
   },
   "outputs": [
    {
     "name": "stdout",
     "output_type": "stream",
     "text": [
      "Mounted at /content/drive\n"
     ]
    }
   ],
   "source": [
    "# google driveをマウントする\n",
    "from google.colab import drive\n",
    "drive.mount('/content/drive')"
   ]
  },
  {
   "cell_type": "code",
   "execution_count": 3,
   "metadata": {
    "executionInfo": {
     "elapsed": 601,
     "status": "ok",
     "timestamp": 1643779070171,
     "user": {
      "displayName": "Takuma Narizuka",
      "photoUrl": "https://lh3.googleusercontent.com/a-/AOh14GikY77c5HAiZw_0rE6X-EeMqDO36i0lZAZwgUjINg=s64",
      "userId": "11234403743201202105"
     },
     "user_tz": -540
    },
    "id": "AiIoejRsyUBR"
   },
   "outputs": [],
   "source": [
    "# カレントディレクトリを変更（自分の作業フォルダのパスを設定）\n",
    "import os\n",
    "os.chdir('/content/drive/My Drive/document/講義/立正/情報処理の応用/')"
   ]
  },
  {
   "cell_type": "code",
   "execution_count": 7,
   "metadata": {
    "executionInfo": {
     "elapsed": 2,
     "status": "ok",
     "timestamp": 1643780105714,
     "user": {
      "displayName": "Takuma Narizuka",
      "photoUrl": "https://lh3.googleusercontent.com/a-/AOh14GikY77c5HAiZw_0rE6X-EeMqDO36i0lZAZwgUjINg=s64",
      "userId": "11234403743201202105"
     },
     "user_tz": -540
    },
    "id": "yaRuc56_7OVF"
   },
   "outputs": [],
   "source": [
    "import sys\n",
    "sys.path.append('/content/drive/My Drive/program/python')\n",
    "\n",
    "import science.stats.fitfunc as ff"
   ]
  },
  {
   "cell_type": "code",
   "execution_count": 4,
   "metadata": {
    "executionInfo": {
     "elapsed": 896,
     "status": "ok",
     "timestamp": 1643779072950,
     "user": {
      "displayName": "Takuma Narizuka",
      "photoUrl": "https://lh3.googleusercontent.com/a-/AOh14GikY77c5HAiZw_0rE6X-EeMqDO36i0lZAZwgUjINg=s64",
      "userId": "11234403743201202105"
     },
     "user_tz": -540
    },
    "id": "Wig-L0bu2-Cf"
   },
   "outputs": [],
   "source": [
    "import matplotlib.pyplot as plt\n",
    "plt.style.use('/content/drive/My Drive/program/Colab Notebooks/setting/matplotlibrc')"
   ]
  },
  {
   "cell_type": "markdown",
   "metadata": {
    "id": "_06gOFUGyXlp"
   },
   "source": [
    "jupyter lab のcssスタイルを変更（必要な場合だけ）"
   ]
  },
  {
   "cell_type": "code",
   "execution_count": null,
   "metadata": {
    "colab": {
     "base_uri": "https://localhost:8080/",
     "height": 17
    },
    "executionInfo": {
     "elapsed": 691,
     "status": "ok",
     "timestamp": 1643778825295,
     "user": {
      "displayName": "Takuma Narizuka",
      "photoUrl": "https://lh3.googleusercontent.com/a-/AOh14GikY77c5HAiZw_0rE6X-EeMqDO36i0lZAZwgUjINg=s64",
      "userId": "11234403743201202105"
     },
     "user_tz": -540
    },
    "id": "7gse4i5FyUBR",
    "outputId": "e96bdb99-fa70-46ce-beb0-abeee62bae54"
   },
   "outputs": [
    {
     "data": {
      "text/html": [
       "<style>.jp-Cell { width:100% !important; margin: 0 auto; }</style>"
      ],
      "text/plain": [
       "<IPython.core.display.HTML object>"
      ]
     },
     "metadata": {},
     "output_type": "display_data"
    },
    {
     "data": {
      "text/html": [
       "<style type=\"text/css\">/*-----------------------------------------------------------------------------\n",
       "| Copyright (c) Jupyter Development Team.\n",
       "| Distributed under the terms of the Modified BSD License.\n",
       "|----------------------------------------------------------------------------*/\n",
       "\n",
       "/*\n",
       "The following CSS variables define the main, public API for styling JupyterLab.\n",
       "These variables should be used by all plugins wherever possible. In other\n",
       "words, plugins should not define custom colors, sizes, etc unless absolutely\n",
       "necessary. This enables users to change the visual theme of JupyterLab\n",
       "by changing these variables.\n",
       "\n",
       "Many variables appear in an ordered sequence (0,1,2,3). These sequences\n",
       "are designed to work well together, so for example, `--jp-border-color1` should\n",
       "be used with `--jp-layout-color1`. The numbers have the following meanings:\n",
       "\n",
       "* 0: super-primary, reserved for special emphasis\n",
       "* 1: primary, most important under normal situations\n",
       "* 2: secondary, next most important under normal situations\n",
       "* 3: tertiary, next most important under normal situations\n",
       "\n",
       "Throughout JupyterLab, we are mostly following principles from Google's\n",
       "Material Design when selecting colors. We are not, however, following\n",
       "all of MD as it is not optimized for dense, information rich UIs.\n",
       "*/\n",
       "\n",
       ":root {\n",
       "  /* Elevation\n",
       "   *\n",
       "   * We style box-shadows using Material Design's idea of elevation. These particular numbers are taken from here:\n",
       "   *\n",
       "   * https://github.com/material-components/material-components-web\n",
       "   * https://material-components-web.appspot.com/elevation.html\n",
       "   */\n",
       "\n",
       "\n",
       "  /* The dark theme shadows need a bit of work, but this will probably also require work on the core layout\n",
       "   * colors used in the theme as well. */\n",
       "  --jp-shadow-base-lightness: 32 !important;\n",
       "  --jp-shadow-umbra-color: rgba(\n",
       "    var(--jp-shadow-base-lightness),\n",
       "    var(--jp-shadow-base-lightness),\n",
       "    var(--jp-shadow-base-lightness),\n",
       "    0.2\n",
       "  ) !important;\n",
       "  --jp-shadow-penumbra-color: rgba(\n",
       "    var(--jp-shadow-base-lightness),\n",
       "    var(--jp-shadow-base-lightness),\n",
       "    var(--jp-shadow-base-lightness),\n",
       "    0.14\n",
       "  ) !important;\n",
       "  --jp-shadow-ambient-color: rgba(\n",
       "    var(--jp-shadow-base-lightness),\n",
       "    var(--jp-shadow-base-lightness),\n",
       "    var(--jp-shadow-base-lightness),\n",
       "    0.12\n",
       "  ) !important;\n",
       "  --jp-elevation-z0: none !important;\n",
       "  --jp-elevation-z1: 0px 2px 1px -1px var(--jp-shadow-umbra-color),\n",
       "    0px 1px 1px 0px var(--jp-shadow-penumbra-color),\n",
       "    0px 1px 3px 0px var(--jp-shadow-ambient-color) !important;\n",
       "  --jp-elevation-z2: 0px 3px 1px -2px var(--jp-shadow-umbra-color),\n",
       "    0px 2px 2px 0px var(--jp-shadow-penumbra-color),\n",
       "    0px 1px 5px 0px var(--jp-shadow-ambient-color) !important;\n",
       "  --jp-elevation-z4: 0px 2px 4px -1px var(--jp-shadow-umbra-color),\n",
       "    0px 4px 5px 0px var(--jp-shadow-penumbra-color),\n",
       "    0px 1px 10px 0px var(--jp-shadow-ambient-color) !important;\n",
       "  --jp-elevation-z6: 0px 3px 5px -1px var(--jp-shadow-umbra-color),\n",
       "    0px 6px 10px 0px var(--jp-shadow-penumbra-color),\n",
       "    0px 1px 18px 0px var(--jp-shadow-ambient-color) !important;\n",
       "  --jp-elevation-z8: 0px 5px 5px -3px var(--jp-shadow-umbra-color),\n",
       "    0px 8px 10px 1px var(--jp-shadow-penumbra-color),\n",
       "    0px 3px 14px 2px var(--jp-shadow-ambient-color) !important;\n",
       "  --jp-elevation-z12: 0px 7px 8px -4px var(--jp-shadow-umbra-color),\n",
       "    0px 12px 17px 2px var(--jp-shadow-penumbra-color),\n",
       "    0px 5px 22px 4px var(--jp-shadow-ambient-color) !important;\n",
       "  --jp-elevation-z16: 0px 8px 10px -5px var(--jp-shadow-umbra-color),\n",
       "    0px 16px 24px 2px var(--jp-shadow-penumbra-color),\n",
       "    0px 6px 30px 5px var(--jp-shadow-ambient-color) !important;\n",
       "  --jp-elevation-z20: 0px 10px 13px -6px var(--jp-shadow-umbra-color),\n",
       "    0px 20px 31px 3px var(--jp-shadow-penumbra-color),\n",
       "    0px 8px 38px 7px var(--jp-shadow-ambient-color) !important;\n",
       "  --jp-elevation-z24: 0px 11px 15px -7px var(--jp-shadow-umbra-color),\n",
       "    0px 24px 38px 3px var(--jp-shadow-penumbra-color),\n",
       "    0px 9px 46px 8px var(--jp-shadow-ambient-color) !important;\n",
       "\n",
       "  /* Borders\n",
       "   *\n",
       "   * The following variables, specify the visual styling of borders in JupyterLab.\n",
       "   */\n",
       "\n",
       "  --jp-border-width: 1px !important;\n",
       "  --jp-border-color0: var(--md-grey-700) !important;\n",
       "  --jp-border-color1: var(--md-grey-800) !important;\n",
       "  --jp-border-color2: var(--md-grey-800) !important;\n",
       "  --jp-border-color3: var(--md-grey-900) !important;\n",
       "  --jp-border-radius: 2px !important;\n",
       "\n",
       "  /* UI Fonts\n",
       "   *\n",
       "   * The UI font CSS variables are used for the typography all of the JupyterLab\n",
       "   * user interface elements that are not directly user generated content.\n",
       "   *\n",
       "   * The font sizing here is done assuming that the body font size of --jp-ui-font-size1\n",
       "   * is applied to a parent element. When children elements, such as headings, are sized\n",
       "   * in em all things will be computed relative to that body size.\n",
       "   */\n",
       "\n",
       "  --jp-ui-font-scale-factor: 1.2 !important;\n",
       "  --jp-ui-font-size0: 0.83333em !important;\n",
       "  --jp-ui-font-size1: 13px !important; /* Base font size */\n",
       "  --jp-ui-font-size2: 1.2em !important;\n",
       "  --jp-ui-font-size3: 1.44em !important;\n",
       "\n",
       "  --jp-ui-font-family: 'Source Han Code JP L', -apple-system, BlinkMacSystemFont, 'Segoe UI', Helvetica,\n",
       "    Arial, sans-serif, 'Apple Color Emoji', 'Segoe UI Emoji', 'Segoe UI Symbol' !important;\n",
       "\n",
       "  /*\n",
       "   * Use these font colors against the corresponding main layout colors.\n",
       "   * In a light theme, these go from dark to light.\n",
       "   */\n",
       "\n",
       "  /* Defaults use Material Design specification */\n",
       "  --jp-ui-font-color0: white !important;\n",
       "  --jp-ui-font-color1: var(--md-grey-300) !important;\n",
       "  --jp-ui-font-color2: var(--md-grey-500) !important;\n",
       "  --jp-ui-font-color3: var(--md-grey-700) !important;\n",
       "\n",
       "  /*\n",
       "   * Use these against the brand/accent/warn/error colors.\n",
       "   * These will typically go from light to darker, in both a dark and light theme.\n",
       "   */\n",
       "\n",
       "  --jp-ui-inverse-font-color0: rgba(0, 0, 0, 1) !important;\n",
       "  --jp-ui-inverse-font-color1: rgba(0, 0, 0, 0.8) !important;\n",
       "  --jp-ui-inverse-font-color2: rgba(0, 0, 0, 0.5) !important;\n",
       "  --jp-ui-inverse-font-color3: rgba(0, 0, 0, 0.3) !important;\n",
       "\n",
       "  /* Content Fonts\n",
       "   *\n",
       "   * Content font variables are used for typography of user generated content.\n",
       "   *\n",
       "   * The font sizing here is done assuming that the body font size of --jp-content-font-size1\n",
       "   * is applied to a parent element. When children elements, such as headings, are sized\n",
       "   * in em all things will be computed relative to that body size.\n",
       "   */\n",
       "\n",
       "  --jp-content-line-height: 2 !important; /* markdownの行間 */\n",
       "  --jp-content-font-scale-factor: 1.2 !important;\n",
       "  --jp-content-font-size0: 0.83333em !important;\n",
       "  --jp-content-font-size1: 14px !important; /* Base font size */\n",
       "  --jp-content-font-size2: 1.2em !important;\n",
       "  --jp-content-font-size3: 1.44em !important;\n",
       "  --jp-content-font-size4: 1.728em !important;\n",
       "  --jp-content-font-size5: 2.0736em !important;\n",
       "\n",
       "  /* This gives a magnification of about 125% in presentation mode over normal. */\n",
       "  --jp-content-presentation-font-size1: 17px !important;\n",
       "\n",
       "  --jp-content-heading-line-height: 2 !important;\n",
       "  --jp-content-heading-margin-top: 1.2em !important;\n",
       "  --jp-content-heading-margin-bottom: 0.8em !important;\n",
       "  --jp-content-heading-font-weight: 500 !important;\n",
       "\n",
       "  /* Defaults use Material Design specification */\n",
       "  --jp-content-font-color0: rgba(255, 255, 255, 1) !important;\n",
       "  --jp-content-font-color1: rgba(255, 255, 255, 1) !important;\n",
       "  --jp-content-font-color2: rgba(255, 255, 255, 0.7) !important;\n",
       "  --jp-content-font-color3: rgba(255, 255, 255, 0.5) !important;\n",
       "\n",
       "  --jp-content-link-color: var(--md-blue-300) !important;\n",
       "\n",
       "  --jp-content-font-family: 'Source Han Code JP L', -apple-system, BlinkMacSystemFont, 'Segoe UI',\n",
       "    Helvetica, Arial, sans-serif, 'Apple Color Emoji', 'Segoe UI Emoji',\n",
       "    'Segoe UI Symbol' !important;\n",
       "\n",
       "  /*\n",
       "   * Code Fonts\n",
       "   *\n",
       "   * Code font variables are used for typography of code and other monospaces content.\n",
       "   */\n",
       "\n",
       "  --jp-code-font-size: 13px !important;\n",
       "  --jp-code-line-height: 1.3077 !important; /* 17px for 13px base */\n",
       "  --jp-code-padding: 0.385em !important; /* 5px for 13px base */\n",
       "  --jp-code-font-family-default: 'Source Han Code JP L', Menlo, Consolas, 'DejaVu Sans Mono', monospace !important;\n",
       "  --jp-code-font-family: var(--jp-code-font-family-default) !important;\n",
       "\n",
       "  /* This gives a magnification of about 125% in presentation mode over normal. */\n",
       "  --jp-code-presentation-font-size: 16px !important;\n",
       "\n",
       "  /* Layout\n",
       "   *\n",
       "   * The following are the main layout colors use in JupyterLab. In a light\n",
       "   * theme these would go from light to dark.\n",
       "   */\n",
       "\n",
       "  --jp-layout-color0: #111111 !important;\n",
       "  --jp-layout-color1: var(--md-grey-900) !important;\n",
       "  --jp-layout-color2: var(--md-grey-800) !important;\n",
       "  --jp-layout-color3: var(--md-grey-700) !important;\n",
       "  --jp-layout-color4: var(--md-grey-600) !important;\n",
       "\n",
       "  /* Inverse Layout\n",
       "   *\n",
       "   * The following are the inverse layout colors use in JupyterLab. In a light\n",
       "   * theme these would go from dark to light.\n",
       "   */\n",
       "\n",
       "  --jp-inverse-layout-color0: white !important;\n",
       "  --jp-inverse-layout-color1: white !important;\n",
       "  --jp-inverse-layout-color2: var(--md-grey-200) !important;\n",
       "  --jp-inverse-layout-color3: var(--md-grey-400) !important;\n",
       "  --jp-inverse-layout-color4: var(--md-grey-600) !important;\n",
       "\n",
       "  /* Brand/accent */\n",
       "\n",
       "  --jp-brand-color0: var(--md-blue-700) !important;\n",
       "  --jp-brand-color1: var(--md-blue-500) !important;\n",
       "  --jp-brand-color2: var(--md-blue-300) !important;\n",
       "  --jp-brand-color3: var(--md-blue-100) !important;\n",
       "\n",
       "  --jp-accent-color0: var(--md-green-700) !important;\n",
       "  --jp-accent-color1: var(--md-green-500) !important;\n",
       "  --jp-accent-color2: var(--md-green-300) !important;\n",
       "  --jp-accent-color3: var(--md-green-100) !important;\n",
       "\n",
       "  /* State colors (warn, error, success, info) */\n",
       "\n",
       "  --jp-warn-color0: var(--md-orange-700) !important;\n",
       "  --jp-warn-color1: var(--md-orange-500) !important;\n",
       "  --jp-warn-color2: var(--md-orange-300) !important;\n",
       "  --jp-warn-color3: var(--md-orange-100) !important;\n",
       "\n",
       "  --jp-error-color0: var(--md-red-700) !important;\n",
       "  --jp-error-color1: var(--md-red-500) !important;\n",
       "  --jp-error-color2: var(--md-red-300) !important;\n",
       "  --jp-error-color3: var(--md-red-100) !important;\n",
       "\n",
       "  --jp-success-color0: var(--md-green-700) !important;\n",
       "  --jp-success-color1: var(--md-green-500) !important;\n",
       "  --jp-success-color2: var(--md-green-300) !important;\n",
       "  --jp-success-color3: var(--md-green-100) !important;\n",
       "\n",
       "  --jp-info-color0: var(--md-cyan-700) !important;\n",
       "  --jp-info-color1: var(--md-cyan-500) !important;\n",
       "  --jp-info-color2: var(--md-cyan-300) !important;\n",
       "  --jp-info-color3: var(--md-cyan-100) !important;\n",
       "\n",
       "  /* Cell specific styles */\n",
       "\n",
       "  --jp-cell-padding: 8px !important;  /* cell間のスペース */\n",
       "\n",
       "  --jp-cell-collapser-width: 8px !important;\n",
       "  --jp-cell-collapser-min-height: 20px !important;\n",
       "  --jp-cell-collapser-not-active-hover-opacity: 0.6 !important;\n",
       "\n",
       "  --jp-cell-editor-background: var(--md-grey-900) !important;\n",
       "  --jp-cell-editor-border-color: var(--md-grey-700) !important;\n",
       "  --jp-cell-editor-box-shadow: inset 0 0 2px var(--md-blue-300) !important;\n",
       "  --jp-cell-editor-active-background: var(--md-grey-900) !important;\n",
       "  --jp-cell-editor-active-border-color: var(--jp-brand-color1) !important;\n",
       "\n",
       "  --jp-cell-prompt-width: 64px !important;\n",
       "  --jp-cell-prompt-font-family: 'Source Han Code JP L', monospace !important;\n",
       "  --jp-cell-prompt-letter-spacing: 0px !important;\n",
       "  --jp-cell-prompt-opacity: 1 !important;\n",
       "  --jp-cell-prompt-not-active-opacity: 1 !important;\n",
       "  --jp-cell-prompt-not-active-font-color: var(--md-grey-300) !important;\n",
       "\n",
       "  /* A custom blend of MD grey and blue 600\n",
       "   * See https://meyerweb.com/eric/tools/color-blend/#546E7A:1E88E5:5:hex */\n",
       "  --jp-cell-inprompt-font-color: #307fc1 !important;\n",
       "  /* A custom blend of MD grey and orange 600\n",
       "   * https://meyerweb.com/eric/tools/color-blend/#546E7A:F4511E:5:hex */\n",
       "  --jp-cell-outprompt-font-color: #bf5b3d !important;\n",
       "\n",
       "  /* Notebook specific styles */\n",
       "\n",
       "  --jp-notebook-padding: 10px !important;\n",
       "  --jp-notebook-scroll-padding: 100px !important;\n",
       "  --jp-notebook-select-background: var(--md-grey-900) !important;\n",
       "  --jp-notebook-multiselected-color: rgba(33, 150, 243, 0.24) !important;\n",
       "\n",
       "  /* Rendermime styles */\n",
       "\n",
       "  --jp-rendermime-error-background: var(--md-grey-900) !important;\n",
       "  --jp-rendermime-table-row-background: var(--md-grey-900) !important;\n",
       "  --jp-rendermime-table-row-hover-background: rgba(3, 169, 244, 0.2) !important;\n",
       "\n",
       "  /* Dialog specific styles */\n",
       "\n",
       "  --jp-dialog-background: rgba(0, 0, 0, 0.6) !important;\n",
       "\n",
       "  /* Console specific styles */\n",
       "\n",
       "  --jp-console-padding: 10px !important;\n",
       "\n",
       "  /* Toolbar specific styles */\n",
       "\n",
       "  --jp-toolbar-border-color: var(--jp-border-color2) !important;\n",
       "  --jp-toolbar-micro-height: 8px !important;\n",
       "  --jp-toolbar-background: var(--md-grey-900) !important;\n",
       "  --jp-toolbar-box-shadow: 0px 0px 2px 0px rgba(0, 0, 0, 0.8) !important;\n",
       "  --jp-toolbar-header-margin: 4px 4px 0px 4px !important;\n",
       "  --jp-toolbar-active-background: var(--jp-layout-color0) !important;\n",
       "\n",
       "  /* Input field styles */\n",
       "\n",
       "  --jp-input-box-shadow: inset 0 0 2px var(--md-blue-300) !important;\n",
       "  --jp-input-active-background: var(--md-grey-900) !important;\n",
       "  --jp-input-hover-background: var(--md-grey-900) !important;\n",
       "  --jp-input-background: var(--md-grey-900) !important;\n",
       "  --jp-input-border-color: var(--jp-border-color1) !important;\n",
       "  --jp-input-active-border-color: var(--jp-brand-color1) !important;\n",
       "\n",
       "  /* General editor styles */\n",
       "\n",
       "  --jp-editor-selected-background: var(--md-grey-900) !important;\n",
       "  --jp-editor-selected-focused-background: var(--md-grey-700) !important;\n",
       "  --jp-editor-cursor-color: var(--jp-ui-font-color0) !important;\n",
       "\n",
       "  /* Code mirror specific styles */\n",
       "\n",
       "  --jp-mirror-editor-keyword-color: var(--md-pink-100) !important;\n",
       "  --jp-mirror-editor-atom-color: var(--md-blue-300) !important;\n",
       "  --jp-mirror-editor-number-color: white !important;\n",
       "  --jp-mirror-editor-def-color: var(--md-orange-200) !important;   /* 関数名 */\n",
       "  --jp-mirror-editor-variable-color: white !important;\n",
       "  --jp-mirror-editor-variable-2-color: var(--md-blue-100) !important;\n",
       "  --jp-mirror-editor-variable-3-color: var(--md-pink-100) !important;\n",
       "  --jp-mirror-editor-punctuation-color: var(--md-blue-100) !important;\n",
       "  --jp-mirror-editor-property-color: var(--md-blue-100) !important;\n",
       "  --jp-mirror-editor-operator-color: var(--md-pink-100)  !important;  /* = */\n",
       "  --jp-mirror-editor-comment-color: var(--md-green-200) !important;   /* コメント */\n",
       "  --jp-mirror-editor-string-color: \tvar(--md-cyan-200) !important;    /* 文字列 */\n",
       "  --jp-mirror-editor-string-2-color: var(--md-purple-300) !important;\n",
       "  --jp-mirror-editor-meta-color: var(--md-pink-200) !important;\n",
       "  --jp-mirror-editor-qualifier-color: #555 !important;\n",
       "  --jp-mirror-editor-builtin-color: var(--md-pink-100) !important;\n",
       "  --jp-mirror-editor-bracket-color: cyan !important;\n",
       "  --jp-mirror-editor-tag-color: var(--md-blue-200) !important;  /* markdown */\n",
       "  --jp-mirror-editor-attribute-color: var(--md-blue-700) !important;\n",
       "  --jp-mirror-editor-header-color: var(--md-blue-500) !important;\n",
       "  --jp-mirror-editor-quote-color: var(--md-green-300) !important;\n",
       "  --jp-mirror-editor-link-color: var(--md-blue-200) !important;\n",
       "  --jp-mirror-editor-error-color: #f00 !important;\n",
       "  --jp-mirror-editor-hr-color: #999 !important;\n",
       "\n",
       "  /* Vega extension styles */\n",
       "\n",
       "  --jp-vega-background: var(--md-grey-900) !important;\n",
       "\n",
       "  /* Sidebar-related styles */\n",
       "\n",
       "  --jp-sidebar-min-width: 180px !important;\n",
       "}</style>"
      ],
      "text/plain": [
       "<IPython.core.display.HTML object>"
      ]
     },
     "metadata": {},
     "output_type": "display_data"
    }
   ],
   "source": [
    "from IPython.core.display import display, HTML\n",
    "display(HTML(\"<style>.jp-Cell { width:100% !important; margin: 0 auto; }</style>\"))\n",
    "with open('./material/variables.css') as f: \n",
    "    css = f.read().replace(';', ' !important;')\n",
    "display(HTML('<style type=\"text/css\">%s</style>'%css))"
   ]
  },
  {
   "cell_type": "markdown",
   "metadata": {
    "id": "DFHeqdA00rpL"
   },
   "source": [
    "# 二項分布からポアソン分布へ"
   ]
  },
  {
   "cell_type": "markdown",
   "metadata": {
    "id": "vIb6Nd3p0rpM"
   },
   "source": [
    "## ポアソン分布"
   ]
  },
  {
   "cell_type": "code",
   "execution_count": 15,
   "metadata": {
    "colab": {
     "base_uri": "https://localhost:8080/",
     "height": 324
    },
    "executionInfo": {
     "elapsed": 1215,
     "status": "ok",
     "timestamp": 1643778943896,
     "user": {
      "displayName": "Takuma Narizuka",
      "photoUrl": "https://lh3.googleusercontent.com/a-/AOh14GikY77c5HAiZw_0rE6X-EeMqDO36i0lZAZwgUjINg=s64",
      "userId": "11234403743201202105"
     },
     "user_tz": -540
    },
    "id": "zxEdVBDp0rpN",
    "outputId": "e29d6cc9-0c2a-4765-fc80-e171b8a677b2"
   },
   "outputs": [
    {
     "data": {
      "text/plain": [
       "<matplotlib.legend.Legend at 0x7fee19c34950>"
      ]
     },
     "execution_count": 15,
     "metadata": {},
     "output_type": "execute_result"
    },
    {
     "data": {
      "image/png": "[encoded data removed]",
      "text/plain": [
       "<Figure size 350x300 with 1 Axes>"
      ]
     },
     "metadata": {
      "filenames": {
       "image/png": "/Users/narizuka/work/document/lecture/rissho/info_process/2022/material/_build/jupyter_execute/chap_4/sec_4-2/sec_4-2_14_1.png"
      }
     },
     "output_type": "display_data"
    }
   ],
   "source": [
    "fig, ax = plt.subplots()\n",
    "k = np.arange(0, 20, 1)\n",
    "ax.plot(k, ff.po2(k, 1, 1), '-o', mfc='w', ms=5, label='$\\mu=1$')\n",
    "ax.plot(k, ff.po2(k, 4, 1), '-o', mfc='w', ms=5, label='$\\mu=4$')\n",
    "ax.plot(k, ff.po2(k, 8, 1), '-o', mfc='w', ms=5, label='$\\mu=8$')\n",
    "ax.set_xlabel('$x$', fontsize=15)\n",
    "ax.set_ylabel('$f(x)$', fontsize=15)\n",
    "ax.legend(numpoints=1, fontsize=10, loc='upper right', frameon=True)\n",
    "\n",
    "# fig.savefig(fpath+'poisson.pdf', bbox_inches=\"tight\", pad_inches=0.2, transparent=True)"
   ]
  },
  {
   "cell_type": "markdown",
   "metadata": {
    "id": "WO2iYq_J0rpP"
   },
   "source": [
    "# 実例：サッカーとバスケの得点頻度の違いは？"
   ]
  },
  {
   "cell_type": "markdown",
   "metadata": {
    "id": "Mw-AaC4F0rpP"
   },
   "source": [
    "## サッカー（ドイツリーグ）"
   ]
  },
  {
   "cell_type": "code",
   "execution_count": null,
   "metadata": {
    "id": "yYbKEUze0rpQ"
   },
   "outputs": [],
   "source": [
    "score_s = np.loadtxt('./material/sec_4-2/score_germany_h.txt')"
   ]
  },
  {
   "cell_type": "code",
   "execution_count": null,
   "metadata": {
    "id": "0f0zkgzU0rpR",
    "outputId": "4002a4fe-c9b7-4456-9eb8-b53fc4fa98a5"
   },
   "outputs": [
    {
     "data": {
      "text/plain": [
       "(1.6013071895424837, 1.6384296638045197)"
      ]
     },
     "execution_count": 19,
     "metadata": {},
     "output_type": "execute_result"
    }
   ],
   "source": [
    "# １試合の平均得点と分散\n",
    "np.mean(score_s), np.var(score_s)"
   ]
  },
  {
   "cell_type": "code",
   "execution_count": null,
   "metadata": {
    "id": "ZNzoyoLm0rpS"
   },
   "outputs": [],
   "source": [
    "f_s, x_s = np.histogram(score_s, bins=[0,1,2,3,4,5,6,7], density=0)"
   ]
  },
  {
   "cell_type": "code",
   "execution_count": null,
   "metadata": {
    "id": "NN4M9UTN0rpS",
    "outputId": "4d0d7ce2-8701-468e-d2fe-339e17b27d6d"
   },
   "outputs": [
    {
     "data": {
      "image/png": "[encoded data removed]",
      "text/plain": [
       "<Figure size 350x300 with 1 Axes>"
      ]
     },
     "metadata": {
      "filenames": {
       "image/png": "/Users/narizuka/work/document/lecture/rissho/info_process/2022/material/_build/jupyter_execute/chap_4/sec_4-2/sec_4-2_20_0.png"
      }
     },
     "output_type": "display_data"
    }
   ],
   "source": [
    "''' ヒストグラム '''\n",
    "fig, ax = plt.subplots()\n",
    "ax.set_xlabel('1試合でのホームチームの得点', fontsize=10)\n",
    "ax.set_ylabel('試合数', fontsize=10)\n",
    "\n",
    "# 実データ\n",
    "ax.bar(x_s[:-1], f_s, width=0.1, color='k')\n",
    "\n",
    "# ポアソン分布のモデル値\n",
    "f_s_2 = ff.po(x_s[:-1], np.mean(score_s)) * len(score_s)\n",
    "ax.plot(x_s[:-1], f_s_2, '-o', mfc='w', ms=5)\n",
    "\n",
    "fig.savefig('figure/hist_germany.pdf', bbox_inches=\"tight\", pad_inches=0.2, transparent=True)"
   ]
  },
  {
   "cell_type": "code",
   "execution_count": null,
   "metadata": {
    "id": "Xr1sR-sM0rpT",
    "outputId": "7d5e31da-c68d-4417-f387-77e1e24117a5"
   },
   "outputs": [
    {
     "data": {
      "text/plain": [
       "array([[  0.    ,  61.    ,  61.6996],\n",
       "       [  1.    , 101.    ,  98.8001],\n",
       "       [  2.    ,  79.    ,  79.1046],\n",
       "       [  3.    ,  41.    ,  42.2236],\n",
       "       [  4.    ,  16.    ,  16.9032],\n",
       "       [  5.    ,   4.    ,   5.4135],\n",
       "       [  6.    ,   4.    ,   1.4448]])"
      ]
     },
     "execution_count": 158,
     "metadata": {},
     "output_type": "execute_result"
    }
   ],
   "source": [
    "'''ヒストグラム（実測値とモデル値の比較）'''\n",
    "np.c_[x_s[:-1], f_s, f_s_2]"
   ]
  },
  {
   "cell_type": "markdown",
   "metadata": {
    "id": "XIsrNntm0rpV"
   },
   "source": [
    "## NBA"
   ]
  },
  {
   "cell_type": "code",
   "execution_count": null,
   "metadata": {
    "id": "q9bc3Arv0rpV"
   },
   "outputs": [],
   "source": [
    "score_b = np.loadtxt('./material/sec_4-2/score_nba_h.txt')"
   ]
  },
  {
   "cell_type": "code",
   "execution_count": null,
   "metadata": {
    "id": "fQRH3dDM0rpW",
    "outputId": "1e67c16b-63d1-46cb-e91a-2c3940204c56"
   },
   "outputs": [
    {
     "data": {
      "text/plain": [
       "(36.152963671128106, 28.21751989734178)"
      ]
     },
     "execution_count": 165,
     "metadata": {},
     "output_type": "execute_result"
    }
   ],
   "source": [
    "# １試合の平均得点と分散\n",
    "np.mean(score_b), np.var(score_b)"
   ]
  },
  {
   "cell_type": "code",
   "execution_count": null,
   "metadata": {
    "id": "gnMTjbC-0rpX",
    "outputId": "4fac55b9-e598-4edc-9b77-64da943885da"
   },
   "outputs": [
    {
     "data": {
      "image/png": "[encoded data removed]",
      "text/plain": [
       "<Figure size 350x300 with 1 Axes>"
      ]
     },
     "metadata": {
      "filenames": {
       "image/png": "/Users/narizuka/work/document/lecture/rissho/info_process/2022/material/_build/jupyter_execute/chap_4/sec_4-2/sec_4-2_25_0.png"
      }
     },
     "output_type": "display_data"
    }
   ],
   "source": [
    "fig, ax = plt.subplots()\n",
    "ax.set_xlabel('得点', fontsize=12)\n",
    "ax.set_ylabel('頻度', fontsize=12)\n",
    "\n",
    "BN = np.arange(score_b.min(), score_b.max()+4, 4)\n",
    "f_b, x = ax.hist(score_b, bins=BN, histtype='bar', color='w', ec='k')[:2]\n",
    "x_b = 0.5*(x[1:]+x[:-1])  # 横軸に表示する階級値を計算（中央値）\n",
    "ax.set_xticks(x_b)  \n",
    "\n",
    "# ポアソン分布のモデル値\n",
    "f_b_2 = ff.po(x_b, np.mean(score_b)) * len(score_b) * 4\n",
    "ax.plot(x_b, f_b_2, '-o', mfc='w', ms=5)\n",
    "\n",
    "fig.savefig('figure/hist_nba.pdf', bbox_inches=\"tight\", pad_inches=0.2, transparent=True)"
   ]
  },
  {
   "cell_type": "code",
   "execution_count": null,
   "metadata": {
    "id": "xq6dVOBN0rpY",
    "outputId": "5905fb87-91ac-4fa6-ea84-f47c9bec9908"
   },
   "outputs": [
    {
     "data": {
      "text/plain": [
       "array([[ 16.    ,   1.    ,   0.1695],\n",
       "       [ 20.    ,   2.    ,   2.4905],\n",
       "       [ 24.    ,   6.    ,  16.6831],\n",
       "       [ 28.    ,  45.    ,  57.9986],\n",
       "       [ 32.    , 112.    , 114.8054],\n",
       "       [ 36.    , 142.    , 138.7313],\n",
       "       [ 40.    , 129.    , 108.0538],\n",
       "       [ 44.    ,  68.    ,  56.658 ],\n",
       "       [ 48.    ,  16.    ,  20.7266],\n",
       "       [ 52.    ,   2.    ,   5.4496]])"
      ]
     },
     "execution_count": 161,
     "metadata": {},
     "output_type": "execute_result"
    }
   ],
   "source": [
    "'''ヒストグラム（実測値とモデル値の比較）'''\n",
    "np.c_[x_b, f_b, f_b_2]"
   ]
  }
 ],
 "metadata": {
  "colab": {
   "collapsed_sections": [],
   "name": "sec_4-2.ipynb",
   "provenance": []
  },
  "kernelspec": {
   "display_name": "Python 3",
   "language": "python",
   "name": "python3"
  },
  "language_info": {
   "codemirror_mode": {
    "name": "ipython",
    "version": 3
   },
   "file_extension": ".py",
   "mimetype": "text/x-python",
   "name": "python",
   "nbconvert_exporter": "python",
   "pygments_lexer": "ipython3",
   "version": "3.9.13"
  },
  "toc-autonumbering": false
 },
 "nbformat": 4,
 "nbformat_minor": 0
}
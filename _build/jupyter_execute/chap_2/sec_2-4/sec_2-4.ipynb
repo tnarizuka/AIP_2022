{
 "cells": [
  {
   "cell_type": "markdown",
   "metadata": {},
   "source": [
    "使用するモジュールのimport"
   ]
  },
  {
   "cell_type": "code",
   "execution_count": 1,
   "metadata": {},
   "outputs": [
    {
     "ename": "ModuleNotFoundError",
     "evalue": "No module named 'japanize_matplotlib'",
     "output_type": "error",
     "traceback": [
      "\u001b[0;31m---------------------------------------------------------------------------\u001b[0m",
      "\u001b[0;31mModuleNotFoundError\u001b[0m                       Traceback (most recent call last)",
      "Input \u001b[0;32mIn [1]\u001b[0m, in \u001b[0;36m<cell line: 4>\u001b[0;34m()\u001b[0m\n\u001b[1;32m      2\u001b[0m \u001b[38;5;28;01mimport\u001b[39;00m \u001b[38;5;21;01mnumpy\u001b[39;00m \u001b[38;5;28;01mas\u001b[39;00m \u001b[38;5;21;01mnp\u001b[39;00m\n\u001b[1;32m      3\u001b[0m \u001b[38;5;28;01mimport\u001b[39;00m \u001b[38;5;21;01mmatplotlib\u001b[39;00m\u001b[38;5;21;01m.\u001b[39;00m\u001b[38;5;21;01mpyplot\u001b[39;00m \u001b[38;5;28;01mas\u001b[39;00m \u001b[38;5;21;01mplt\u001b[39;00m\n\u001b[0;32m----> 4\u001b[0m \u001b[38;5;28;01mimport\u001b[39;00m \u001b[38;5;21;01mjapanize_matplotlib\u001b[39;00m\n\u001b[1;32m      5\u001b[0m \u001b[38;5;28;01mimport\u001b[39;00m \u001b[38;5;21;01mpandas\u001b[39;00m \u001b[38;5;28;01mas\u001b[39;00m \u001b[38;5;21;01mpd\u001b[39;00m\n\u001b[1;32m      6\u001b[0m \u001b[38;5;28;01mfrom\u001b[39;00m \u001b[38;5;21;01mpandas\u001b[39;00m \u001b[38;5;28;01mimport\u001b[39;00m DataFrame\n",
      "\u001b[0;31mModuleNotFoundError\u001b[0m: No module named 'japanize_matplotlib'"
     ]
    }
   ],
   "source": [
    "import sys, os\n",
    "import numpy as np\n",
    "import matplotlib.pyplot as plt\n",
    "import japanize_matplotlib\n",
    "import pandas as pd\n",
    "from pandas import DataFrame\n",
    "from scipy import optimize"
   ]
  },
  {
   "cell_type": "code",
   "execution_count": 7,
   "metadata": {
    "id": "lcs2r2splZwq"
   },
   "outputs": [],
   "source": [
    "# カレントディレクトリの変更（自分の作業フォルダのパスを設定）\n",
    "# os.chdir('/Users/narizuka/GoogleDrive/My Drive/document/講義/立正/情報処理の応用/')\n",
    "os.chdir(r\"G:\\マイドライブ\\document\\講義\\立正\\情報処理の応用\")"
   ]
  },
  {
   "cell_type": "code",
   "execution_count": 4,
   "metadata": {},
   "outputs": [
    {
     "data": {
      "text/plain": [
       "'%r'"
      ]
     },
     "execution_count": 4,
     "metadata": {},
     "output_type": "execute_result"
    }
   ],
   "source": [
    "pd.set_option('max_rows', 20)  # 表示する行数\n",
    "pd.set_option('precision', 4)  # 小数点以下の表示桁\n",
    "np.set_printoptions(suppress=True, precision=4)\n",
    "%precision 4  # 小数点以下の表示桁"
   ]
  },
  {
   "cell_type": "markdown",
   "metadata": {
    "id": "rGUw9jJYlZwr"
   },
   "source": [
    "google colab を使う際のセッティング"
   ]
  },
  {
   "cell_type": "code",
   "execution_count": null,
   "metadata": {
    "colab": {
     "base_uri": "https://localhost:8080/"
    },
    "executionInfo": {
     "elapsed": 5323,
     "status": "ok",
     "timestamp": 1633931763530,
     "user": {
      "displayName": "Takuma Narizuka",
      "photoUrl": "https://lh3.googleusercontent.com/a-/AOh14GikY77c5HAiZw_0rE6X-EeMqDO36i0lZAZwgUjINg=s64",
      "userId": "11234403743201202105"
     },
     "user_tz": -540
    },
    "id": "FPZWw3gdlZwq",
    "outputId": "a4122b51-31a2-40a4-b212-be79da174b35"
   },
   "outputs": [],
   "source": [
    "# matplotlibで日本語表示\n",
    "!pip install japanize-matplotlib\n",
    "import matplotlib.pyplot as plt\n",
    "import japanize_matplotlib"
   ]
  },
  {
   "cell_type": "code",
   "execution_count": null,
   "metadata": {
    "colab": {
     "base_uri": "https://localhost:8080/"
    },
    "executionInfo": {
     "elapsed": 27779,
     "status": "ok",
     "timestamp": 1633931822727,
     "user": {
      "displayName": "Takuma Narizuka",
      "photoUrl": "https://lh3.googleusercontent.com/a-/AOh14GikY77c5HAiZw_0rE6X-EeMqDO36i0lZAZwgUjINg=s64",
      "userId": "11234403743201202105"
     },
     "user_tz": -540
    },
    "id": "zICEJQzWtdrp",
    "outputId": "f1f4820b-923a-4e73-a9fe-3e7c50f8ecec"
   },
   "outputs": [],
   "source": [
    "# google driveをマウントする\n",
    "from google.colab import drive\n",
    "drive.mount('/content/drive')"
   ]
  },
  {
   "cell_type": "code",
   "execution_count": null,
   "metadata": {
    "executionInfo": {
     "elapsed": 526,
     "status": "ok",
     "timestamp": 1633931832147,
     "user": {
      "displayName": "Takuma Narizuka",
      "photoUrl": "https://lh3.googleusercontent.com/a-/AOh14GikY77c5HAiZw_0rE6X-EeMqDO36i0lZAZwgUjINg=s64",
      "userId": "11234403743201202105"
     },
     "user_tz": -540
    },
    "id": "AiIoejRsyUBR"
   },
   "outputs": [],
   "source": [
    "# カレントディレクトリを変更（自分の作業フォルダのパスを設定）\n",
    "os.chdir('/content/drive/My Drive/document/講義/立正/情報処理の応用/')"
   ]
  },
  {
   "cell_type": "markdown",
   "metadata": {
    "id": "_06gOFUGyXlp"
   },
   "source": [
    "jupyter lab のcssスタイルを変更（必要な場合だけ）"
   ]
  },
  {
   "cell_type": "code",
   "execution_count": 5,
   "metadata": {
    "id": "7gse4i5FyUBR"
   },
   "outputs": [
    {
     "data": {
      "text/html": [
       "<style>.jp-Cell { width:100% !important; margin: 0 auto; }</style>"
      ],
      "text/plain": [
       "<IPython.core.display.HTML object>"
      ]
     },
     "metadata": {},
     "output_type": "display_data"
    },
    {
     "data": {
      "text/html": [
       "<style type=\"text/css\">/*-----------------------------------------------------------------------------\n",
       "| Copyright (c) Jupyter Development Team.\n",
       "| Distributed under the terms of the Modified BSD License.\n",
       "|----------------------------------------------------------------------------*/\n",
       "\n",
       "/*\n",
       "The following CSS variables define the main, public API for styling JupyterLab.\n",
       "These variables should be used by all plugins wherever possible. In other\n",
       "words, plugins should not define custom colors, sizes, etc unless absolutely\n",
       "necessary. This enables users to change the visual theme of JupyterLab\n",
       "by changing these variables.\n",
       "\n",
       "Many variables appear in an ordered sequence (0,1,2,3). These sequences\n",
       "are designed to work well together, so for example, `--jp-border-color1` should\n",
       "be used with `--jp-layout-color1`. The numbers have the following meanings:\n",
       "\n",
       "* 0: super-primary, reserved for special emphasis\n",
       "* 1: primary, most important under normal situations\n",
       "* 2: secondary, next most important under normal situations\n",
       "* 3: tertiary, next most important under normal situations\n",
       "\n",
       "Throughout JupyterLab, we are mostly following principles from Google's\n",
       "Material Design when selecting colors. We are not, however, following\n",
       "all of MD as it is not optimized for dense, information rich UIs.\n",
       "*/\n",
       "\n",
       ":root {\n",
       "  /* Elevation\n",
       "   *\n",
       "   * We style box-shadows using Material Design's idea of elevation. These particular numbers are taken from here:\n",
       "   *\n",
       "   * https://github.com/material-components/material-components-web\n",
       "   * https://material-components-web.appspot.com/elevation.html\n",
       "   */\n",
       "\n",
       "\n",
       "  /* The dark theme shadows need a bit of work, but this will probably also require work on the core layout\n",
       "   * colors used in the theme as well. */\n",
       "  --jp-shadow-base-lightness: 32 !important;\n",
       "  --jp-shadow-umbra-color: rgba(\n",
       "    var(--jp-shadow-base-lightness),\n",
       "    var(--jp-shadow-base-lightness),\n",
       "    var(--jp-shadow-base-lightness),\n",
       "    0.2\n",
       "  ) !important;\n",
       "  --jp-shadow-penumbra-color: rgba(\n",
       "    var(--jp-shadow-base-lightness),\n",
       "    var(--jp-shadow-base-lightness),\n",
       "    var(--jp-shadow-base-lightness),\n",
       "    0.14\n",
       "  ) !important;\n",
       "  --jp-shadow-ambient-color: rgba(\n",
       "    var(--jp-shadow-base-lightness),\n",
       "    var(--jp-shadow-base-lightness),\n",
       "    var(--jp-shadow-base-lightness),\n",
       "    0.12\n",
       "  ) !important;\n",
       "  --jp-elevation-z0: none !important;\n",
       "  --jp-elevation-z1: 0px 2px 1px -1px var(--jp-shadow-umbra-color),\n",
       "    0px 1px 1px 0px var(--jp-shadow-penumbra-color),\n",
       "    0px 1px 3px 0px var(--jp-shadow-ambient-color) !important;\n",
       "  --jp-elevation-z2: 0px 3px 1px -2px var(--jp-shadow-umbra-color),\n",
       "    0px 2px 2px 0px var(--jp-shadow-penumbra-color),\n",
       "    0px 1px 5px 0px var(--jp-shadow-ambient-color) !important;\n",
       "  --jp-elevation-z4: 0px 2px 4px -1px var(--jp-shadow-umbra-color),\n",
       "    0px 4px 5px 0px var(--jp-shadow-penumbra-color),\n",
       "    0px 1px 10px 0px var(--jp-shadow-ambient-color) !important;\n",
       "  --jp-elevation-z6: 0px 3px 5px -1px var(--jp-shadow-umbra-color),\n",
       "    0px 6px 10px 0px var(--jp-shadow-penumbra-color),\n",
       "    0px 1px 18px 0px var(--jp-shadow-ambient-color) !important;\n",
       "  --jp-elevation-z8: 0px 5px 5px -3px var(--jp-shadow-umbra-color),\n",
       "    0px 8px 10px 1px var(--jp-shadow-penumbra-color),\n",
       "    0px 3px 14px 2px var(--jp-shadow-ambient-color) !important;\n",
       "  --jp-elevation-z12: 0px 7px 8px -4px var(--jp-shadow-umbra-color),\n",
       "    0px 12px 17px 2px var(--jp-shadow-penumbra-color),\n",
       "    0px 5px 22px 4px var(--jp-shadow-ambient-color) !important;\n",
       "  --jp-elevation-z16: 0px 8px 10px -5px var(--jp-shadow-umbra-color),\n",
       "    0px 16px 24px 2px var(--jp-shadow-penumbra-color),\n",
       "    0px 6px 30px 5px var(--jp-shadow-ambient-color) !important;\n",
       "  --jp-elevation-z20: 0px 10px 13px -6px var(--jp-shadow-umbra-color),\n",
       "    0px 20px 31px 3px var(--jp-shadow-penumbra-color),\n",
       "    0px 8px 38px 7px var(--jp-shadow-ambient-color) !important;\n",
       "  --jp-elevation-z24: 0px 11px 15px -7px var(--jp-shadow-umbra-color),\n",
       "    0px 24px 38px 3px var(--jp-shadow-penumbra-color),\n",
       "    0px 9px 46px 8px var(--jp-shadow-ambient-color) !important;\n",
       "\n",
       "  /* Borders\n",
       "   *\n",
       "   * The following variables, specify the visual styling of borders in JupyterLab.\n",
       "   */\n",
       "\n",
       "  --jp-border-width: 1px !important;\n",
       "  --jp-border-color0: var(--md-grey-700) !important;\n",
       "  --jp-border-color1: var(--md-grey-800) !important;\n",
       "  --jp-border-color2: var(--md-grey-800) !important;\n",
       "  --jp-border-color3: var(--md-grey-900) !important;\n",
       "  --jp-border-radius: 2px !important;\n",
       "\n",
       "  /* UI Fonts\n",
       "   *\n",
       "   * The UI font CSS variables are used for the typography all of the JupyterLab\n",
       "   * user interface elements that are not directly user generated content.\n",
       "   *\n",
       "   * The font sizing here is done assuming that the body font size of --jp-ui-font-size1\n",
       "   * is applied to a parent element. When children elements, such as headings, are sized\n",
       "   * in em all things will be computed relative to that body size.\n",
       "   */\n",
       "\n",
       "  --jp-ui-font-scale-factor: 1.2 !important;\n",
       "  --jp-ui-font-size0: 0.83333em !important;\n",
       "  --jp-ui-font-size1: 13px !important; /* Base font size */\n",
       "  --jp-ui-font-size2: 1.2em !important;\n",
       "  --jp-ui-font-size3: 1.44em !important;\n",
       "\n",
       "  --jp-ui-font-family: 'Source Han Code JP L', -apple-system, BlinkMacSystemFont, 'Segoe UI', Helvetica,\n",
       "    Arial, sans-serif, 'Apple Color Emoji', 'Segoe UI Emoji', 'Segoe UI Symbol' !important;\n",
       "\n",
       "  /*\n",
       "   * Use these font colors against the corresponding main layout colors.\n",
       "   * In a light theme, these go from dark to light.\n",
       "   */\n",
       "\n",
       "  /* Defaults use Material Design specification */\n",
       "  --jp-ui-font-color0: white !important;\n",
       "  --jp-ui-font-color1: var(--md-grey-300) !important;\n",
       "  --jp-ui-font-color2: var(--md-grey-500) !important;\n",
       "  --jp-ui-font-color3: var(--md-grey-700) !important;\n",
       "\n",
       "  /*\n",
       "   * Use these against the brand/accent/warn/error colors.\n",
       "   * These will typically go from light to darker, in both a dark and light theme.\n",
       "   */\n",
       "\n",
       "  --jp-ui-inverse-font-color0: rgba(0, 0, 0, 1) !important;\n",
       "  --jp-ui-inverse-font-color1: rgba(0, 0, 0, 0.8) !important;\n",
       "  --jp-ui-inverse-font-color2: rgba(0, 0, 0, 0.5) !important;\n",
       "  --jp-ui-inverse-font-color3: rgba(0, 0, 0, 0.3) !important;\n",
       "\n",
       "  /* Content Fonts\n",
       "   *\n",
       "   * Content font variables are used for typography of user generated content.\n",
       "   *\n",
       "   * The font sizing here is done assuming that the body font size of --jp-content-font-size1\n",
       "   * is applied to a parent element. When children elements, such as headings, are sized\n",
       "   * in em all things will be computed relative to that body size.\n",
       "   */\n",
       "\n",
       "  --jp-content-line-height: 2 !important; /* markdownの行間 */\n",
       "  --jp-content-font-scale-factor: 1.2 !important;\n",
       "  --jp-content-font-size0: 0.83333em !important;\n",
       "  --jp-content-font-size1: 14px !important; /* Base font size */\n",
       "  --jp-content-font-size2: 1.2em !important;\n",
       "  --jp-content-font-size3: 1.44em !important;\n",
       "  --jp-content-font-size4: 1.728em !important;\n",
       "  --jp-content-font-size5: 2.0736em !important;\n",
       "\n",
       "  /* This gives a magnification of about 125% in presentation mode over normal. */\n",
       "  --jp-content-presentation-font-size1: 17px !important;\n",
       "\n",
       "  --jp-content-heading-line-height: 2 !important;\n",
       "  --jp-content-heading-margin-top: 1.2em !important;\n",
       "  --jp-content-heading-margin-bottom: 0.8em !important;\n",
       "  --jp-content-heading-font-weight: 500 !important;\n",
       "\n",
       "  /* Defaults use Material Design specification */\n",
       "  --jp-content-font-color0: rgba(255, 255, 255, 1) !important;\n",
       "  --jp-content-font-color1: rgba(255, 255, 255, 1) !important;\n",
       "  --jp-content-font-color2: rgba(255, 255, 255, 0.7) !important;\n",
       "  --jp-content-font-color3: rgba(255, 255, 255, 0.5) !important;\n",
       "\n",
       "  --jp-content-link-color: var(--md-blue-300) !important;\n",
       "\n",
       "  --jp-content-font-family: 'Source Han Code JP L', -apple-system, BlinkMacSystemFont, 'Segoe UI',\n",
       "    Helvetica, Arial, sans-serif, 'Apple Color Emoji', 'Segoe UI Emoji',\n",
       "    'Segoe UI Symbol' !important;\n",
       "\n",
       "  /*\n",
       "   * Code Fonts\n",
       "   *\n",
       "   * Code font variables are used for typography of code and other monospaces content.\n",
       "   */\n",
       "\n",
       "  --jp-code-font-size: 13px !important;\n",
       "  --jp-code-line-height: 1.3077 !important; /* 17px for 13px base */\n",
       "  --jp-code-padding: 0.385em !important; /* 5px for 13px base */\n",
       "  --jp-code-font-family-default: 'Source Han Code JP L', Menlo, Consolas, 'DejaVu Sans Mono', monospace !important;\n",
       "  --jp-code-font-family: var(--jp-code-font-family-default) !important;\n",
       "\n",
       "  /* This gives a magnification of about 125% in presentation mode over normal. */\n",
       "  --jp-code-presentation-font-size: 16px !important;\n",
       "\n",
       "  /* Layout\n",
       "   *\n",
       "   * The following are the main layout colors use in JupyterLab. In a light\n",
       "   * theme these would go from light to dark.\n",
       "   */\n",
       "\n",
       "  --jp-layout-color0: #111111 !important;\n",
       "  --jp-layout-color1: var(--md-grey-900) !important;\n",
       "  --jp-layout-color2: var(--md-grey-800) !important;\n",
       "  --jp-layout-color3: var(--md-grey-700) !important;\n",
       "  --jp-layout-color4: var(--md-grey-600) !important;\n",
       "\n",
       "  /* Inverse Layout\n",
       "   *\n",
       "   * The following are the inverse layout colors use in JupyterLab. In a light\n",
       "   * theme these would go from dark to light.\n",
       "   */\n",
       "\n",
       "  --jp-inverse-layout-color0: white !important;\n",
       "  --jp-inverse-layout-color1: white !important;\n",
       "  --jp-inverse-layout-color2: var(--md-grey-200) !important;\n",
       "  --jp-inverse-layout-color3: var(--md-grey-400) !important;\n",
       "  --jp-inverse-layout-color4: var(--md-grey-600) !important;\n",
       "\n",
       "  /* Brand/accent */\n",
       "\n",
       "  --jp-brand-color0: var(--md-blue-700) !important;\n",
       "  --jp-brand-color1: var(--md-blue-500) !important;\n",
       "  --jp-brand-color2: var(--md-blue-300) !important;\n",
       "  --jp-brand-color3: var(--md-blue-100) !important;\n",
       "\n",
       "  --jp-accent-color0: var(--md-green-700) !important;\n",
       "  --jp-accent-color1: var(--md-green-500) !important;\n",
       "  --jp-accent-color2: var(--md-green-300) !important;\n",
       "  --jp-accent-color3: var(--md-green-100) !important;\n",
       "\n",
       "  /* State colors (warn, error, success, info) */\n",
       "\n",
       "  --jp-warn-color0: var(--md-orange-700) !important;\n",
       "  --jp-warn-color1: var(--md-orange-500) !important;\n",
       "  --jp-warn-color2: var(--md-orange-300) !important;\n",
       "  --jp-warn-color3: var(--md-orange-100) !important;\n",
       "\n",
       "  --jp-error-color0: var(--md-red-700) !important;\n",
       "  --jp-error-color1: var(--md-red-500) !important;\n",
       "  --jp-error-color2: var(--md-red-300) !important;\n",
       "  --jp-error-color3: var(--md-red-100) !important;\n",
       "\n",
       "  --jp-success-color0: var(--md-green-700) !important;\n",
       "  --jp-success-color1: var(--md-green-500) !important;\n",
       "  --jp-success-color2: var(--md-green-300) !important;\n",
       "  --jp-success-color3: var(--md-green-100) !important;\n",
       "\n",
       "  --jp-info-color0: var(--md-cyan-700) !important;\n",
       "  --jp-info-color1: var(--md-cyan-500) !important;\n",
       "  --jp-info-color2: var(--md-cyan-300) !important;\n",
       "  --jp-info-color3: var(--md-cyan-100) !important;\n",
       "\n",
       "  /* Cell specific styles */\n",
       "\n",
       "  --jp-cell-padding: 8px !important;  /* cell間のスペース */\n",
       "\n",
       "  --jp-cell-collapser-width: 8px !important;\n",
       "  --jp-cell-collapser-min-height: 20px !important;\n",
       "  --jp-cell-collapser-not-active-hover-opacity: 0.6 !important;\n",
       "\n",
       "  --jp-cell-editor-background: var(--md-grey-900) !important;\n",
       "  --jp-cell-editor-border-color: var(--md-grey-700) !important;\n",
       "  --jp-cell-editor-box-shadow: inset 0 0 2px var(--md-blue-300) !important;\n",
       "  --jp-cell-editor-active-background: var(--md-grey-900) !important;\n",
       "  --jp-cell-editor-active-border-color: var(--jp-brand-color1) !important;\n",
       "\n",
       "  --jp-cell-prompt-width: 64px !important;\n",
       "  --jp-cell-prompt-font-family: 'Source Han Code JP L', monospace !important;\n",
       "  --jp-cell-prompt-letter-spacing: 0px !important;\n",
       "  --jp-cell-prompt-opacity: 1 !important;\n",
       "  --jp-cell-prompt-not-active-opacity: 1 !important;\n",
       "  --jp-cell-prompt-not-active-font-color: var(--md-grey-300) !important;\n",
       "\n",
       "  /* A custom blend of MD grey and blue 600\n",
       "   * See https://meyerweb.com/eric/tools/color-blend/#546E7A:1E88E5:5:hex */\n",
       "  --jp-cell-inprompt-font-color: #307fc1 !important;\n",
       "  /* A custom blend of MD grey and orange 600\n",
       "   * https://meyerweb.com/eric/tools/color-blend/#546E7A:F4511E:5:hex */\n",
       "  --jp-cell-outprompt-font-color: #bf5b3d !important;\n",
       "\n",
       "  /* Notebook specific styles */\n",
       "\n",
       "  --jp-notebook-padding: 10px !important;\n",
       "  --jp-notebook-scroll-padding: 100px !important;\n",
       "  --jp-notebook-select-background: var(--md-grey-900) !important;\n",
       "  --jp-notebook-multiselected-color: rgba(33, 150, 243, 0.24) !important;\n",
       "\n",
       "  /* Rendermime styles */\n",
       "\n",
       "  --jp-rendermime-error-background: var(--md-grey-900) !important;\n",
       "  --jp-rendermime-table-row-background: var(--md-grey-900) !important;\n",
       "  --jp-rendermime-table-row-hover-background: rgba(3, 169, 244, 0.2) !important;\n",
       "\n",
       "  /* Dialog specific styles */\n",
       "\n",
       "  --jp-dialog-background: rgba(0, 0, 0, 0.6) !important;\n",
       "\n",
       "  /* Console specific styles */\n",
       "\n",
       "  --jp-console-padding: 10px !important;\n",
       "\n",
       "  /* Toolbar specific styles */\n",
       "\n",
       "  --jp-toolbar-border-color: var(--jp-border-color2) !important;\n",
       "  --jp-toolbar-micro-height: 8px !important;\n",
       "  --jp-toolbar-background: var(--md-grey-900) !important;\n",
       "  --jp-toolbar-box-shadow: 0px 0px 2px 0px rgba(0, 0, 0, 0.8) !important;\n",
       "  --jp-toolbar-header-margin: 4px 4px 0px 4px !important;\n",
       "  --jp-toolbar-active-background: var(--jp-layout-color0) !important;\n",
       "\n",
       "  /* Input field styles */\n",
       "\n",
       "  --jp-input-box-shadow: inset 0 0 2px var(--md-blue-300) !important;\n",
       "  --jp-input-active-background: var(--md-grey-900) !important;\n",
       "  --jp-input-hover-background: var(--md-grey-900) !important;\n",
       "  --jp-input-background: var(--md-grey-900) !important;\n",
       "  --jp-input-border-color: var(--jp-border-color1) !important;\n",
       "  --jp-input-active-border-color: var(--jp-brand-color1) !important;\n",
       "\n",
       "  /* General editor styles */\n",
       "\n",
       "  --jp-editor-selected-background: var(--md-grey-900) !important;\n",
       "  --jp-editor-selected-focused-background: var(--md-grey-700) !important;\n",
       "  --jp-editor-cursor-color: var(--jp-ui-font-color0) !important;\n",
       "\n",
       "  /* Code mirror specific styles */\n",
       "\n",
       "  --jp-mirror-editor-keyword-color: var(--md-pink-100) !important;\n",
       "  --jp-mirror-editor-atom-color: var(--md-blue-300) !important;\n",
       "  --jp-mirror-editor-number-color: white !important;\n",
       "  --jp-mirror-editor-def-color: var(--md-orange-200) !important;   /* 関数名 */\n",
       "  --jp-mirror-editor-variable-color: white !important;\n",
       "  --jp-mirror-editor-variable-2-color: var(--md-blue-100) !important;\n",
       "  --jp-mirror-editor-variable-3-color: var(--md-pink-100) !important;\n",
       "  --jp-mirror-editor-punctuation-color: var(--md-blue-100) !important;\n",
       "  --jp-mirror-editor-property-color: var(--md-blue-100) !important;\n",
       "  --jp-mirror-editor-operator-color: var(--md-pink-100)  !important;  /* = */\n",
       "  --jp-mirror-editor-comment-color: var(--md-green-200) !important;   /* コメント */\n",
       "  --jp-mirror-editor-string-color: \tvar(--md-cyan-200) !important;    /* 文字列 */\n",
       "  --jp-mirror-editor-string-2-color: var(--md-purple-300) !important;\n",
       "  --jp-mirror-editor-meta-color: var(--md-pink-200) !important;\n",
       "  --jp-mirror-editor-qualifier-color: #555 !important;\n",
       "  --jp-mirror-editor-builtin-color: var(--md-pink-100) !important;\n",
       "  --jp-mirror-editor-bracket-color: cyan !important;\n",
       "  --jp-mirror-editor-tag-color: var(--md-blue-200) !important;  /* markdown */\n",
       "  --jp-mirror-editor-attribute-color: var(--md-blue-700) !important;\n",
       "  --jp-mirror-editor-header-color: var(--md-blue-500) !important;\n",
       "  --jp-mirror-editor-quote-color: var(--md-green-300) !important;\n",
       "  --jp-mirror-editor-link-color: var(--md-blue-200) !important;\n",
       "  --jp-mirror-editor-error-color: #f00 !important;\n",
       "  --jp-mirror-editor-hr-color: #999 !important;\n",
       "\n",
       "  /* Vega extension styles */\n",
       "\n",
       "  --jp-vega-background: var(--md-grey-900) !important;\n",
       "\n",
       "  /* Sidebar-related styles */\n",
       "\n",
       "  --jp-sidebar-min-width: 180px !important;\n",
       "}</style>"
      ],
      "text/plain": [
       "<IPython.core.display.HTML object>"
      ]
     },
     "metadata": {},
     "output_type": "display_data"
    }
   ],
   "source": [
    "from IPython.core.display import display, HTML\n",
    "display(HTML(\"<style>.jp-Cell { width:100% !important; margin: 0 auto; }</style>\"))\n",
    "with open('./material/variables.css') as f: \n",
    "    css = f.read().replace(';', ' !important;')\n",
    "display(HTML('<style type=\"text/css\">%s</style>'%css))"
   ]
  },
  {
   "cell_type": "markdown",
   "metadata": {
    "id": "1EQiVyvJK9OJ"
   },
   "source": [
    "# 回帰直線と最小二乗法"
   ]
  },
  {
   "cell_type": "markdown",
   "metadata": {},
   "source": [
    "### データの作成"
   ]
  },
  {
   "cell_type": "code",
   "execution_count": 15,
   "metadata": {},
   "outputs": [],
   "source": [
    "np.random.seed(1234)\n",
    "x_data = np.linspace(-10, 10, num=100)\n",
    "y_data = 2*x_data + 5 + 5.*np.random.randn(x_data.size)\n",
    "np.savetxt('material\\sec_2-4\\data_lsm.csv', np.c_[x_data, y_data], fmt='%.2f', delimiter=',')"
   ]
  },
  {
   "cell_type": "code",
   "execution_count": 6,
   "metadata": {},
   "outputs": [
    {
     "data": {
      "text/plain": [
       "array([-10.    ,  -9.798 ,  -9.596 ,  -9.3939,  -9.1919,  -8.9899,\n",
       "        -8.7879,  -8.5859,  -8.3838,  -8.1818,  -7.9798,  -7.7778,\n",
       "        -7.5758,  -7.3737,  -7.1717,  -6.9697,  -6.7677,  -6.5657,\n",
       "        -6.3636,  -6.1616,  -5.9596,  -5.7576,  -5.5556,  -5.3535,\n",
       "        -5.1515,  -4.9495,  -4.7475,  -4.5455,  -4.3434,  -4.1414,\n",
       "        -3.9394,  -3.7374,  -3.5354,  -3.3333,  -3.1313,  -2.9293,\n",
       "        -2.7273,  -2.5253,  -2.3232,  -2.1212,  -1.9192,  -1.7172,\n",
       "        -1.5152,  -1.3131,  -1.1111,  -0.9091,  -0.7071,  -0.5051,\n",
       "        -0.303 ,  -0.101 ,   0.101 ,   0.303 ,   0.5051,   0.7071,\n",
       "         0.9091,   1.1111,   1.3131,   1.5152,   1.7172,   1.9192,\n",
       "         2.1212,   2.3232,   2.5253,   2.7273,   2.9293,   3.1313,\n",
       "         3.3333,   3.5354,   3.7374,   3.9394,   4.1414,   4.3434,\n",
       "         4.5455,   4.7475,   4.9495,   5.1515,   5.3535,   5.5556,\n",
       "         5.7576,   5.9596,   6.1616,   6.3636,   6.5657,   6.7677,\n",
       "         6.9697,   7.1717,   7.3737,   7.5758,   7.7778,   7.9798,\n",
       "         8.1818,   8.3838,   8.5859,   8.7879,   8.9899,   9.1919,\n",
       "         9.3939,   9.596 ,   9.798 ,  10.    ])"
      ]
     },
     "execution_count": 6,
     "metadata": {},
     "output_type": "execute_result"
    }
   ],
   "source": [
    "x_data"
   ]
  },
  {
   "cell_type": "code",
   "execution_count": 7,
   "metadata": {},
   "outputs": [
    {
     "data": {
      "text/plain": [
       "array([-12.6428, -20.5508,  -7.0284, -15.3511, -16.9868,  -8.544 ,\n",
       "        -8.2778, -15.3543, -11.6892, -22.5771,  -5.2094,  -5.5958,\n",
       "        -5.3849, -19.8537, -11.0138,  -8.9288,  -6.5081,  -6.6859,\n",
       "        -1.1215, -15.0578,  -7.9324,  -9.795 ,  -5.144 ,  -2.9399,\n",
       "         1.2877,  -7.2455,  -1.1172, -13.176 ,  -4.6024,   2.012 ,\n",
       "        -4.868 ,  -0.7876,   3.1672,   3.563 ,   3.056 ,  -1.469 ,\n",
       "         0.169 ,  -1.6645,   4.5619,  12.7124,   1.5426,  -1.2666,\n",
       "         2.1504,  -8.0012,   4.0167,  -1.304 ,   2.9019,   4.0813,\n",
       "         8.171 ,   5.8743,   9.4071,  -1.623 ,  -0.9998,   5.9096,\n",
       "         4.077 ,   6.4991,   9.3964,   7.8527,  11.263 ,  16.5667,\n",
       "         4.3712,   9.2947,  11.5903,   9.4121,  16.0276,  -0.7396,\n",
       "        21.8197,   6.3576,  13.5342,  16.4024,   9.3557,  15.9972,\n",
       "        17.6121,  17.1125,  10.2677,  25.3422,  16.8419,  10.3478,\n",
       "        19.675 ,  17.1168,  19.6452,  -0.0903,  24.7368,  19.2985,\n",
       "        19.762 ,  17.193 ,  23.5843,  25.0761,  21.9097,  27.9195,\n",
       "        21.7628,  19.7679,  17.0325,  19.6522,  27.0628,  22.9741,\n",
       "        22.064 ,  26.8334,  19.251 ,  22.4406])"
      ]
     },
     "execution_count": 7,
     "metadata": {},
     "output_type": "execute_result"
    }
   ],
   "source": [
    "y_data"
   ]
  },
  {
   "cell_type": "markdown",
   "metadata": {},
   "source": [
    "### 最小二乗法"
   ]
  },
  {
   "cell_type": "code",
   "execution_count": 8,
   "metadata": {},
   "outputs": [
    {
     "data": {
      "text/plain": [
       "array([1.9828, 5.1756])"
      ]
     },
     "execution_count": 8,
     "metadata": {},
     "output_type": "execute_result"
    }
   ],
   "source": [
    "# scipy.optimize.curve_fit\n",
    "def fit_func(x, a, b):\n",
    "    return a*x + b\n",
    "\n",
    "p = optimize.curve_fit(fit_func, x_data, y_data)[0]\n",
    "p"
   ]
  },
  {
   "cell_type": "code",
   "execution_count": 9,
   "metadata": {},
   "outputs": [
    {
     "data": {
      "text/plain": [
       "array([1.9828, 5.1756])"
      ]
     },
     "execution_count": 9,
     "metadata": {},
     "output_type": "execute_result"
    }
   ],
   "source": [
    "# scipy.optimize.leastsq\n",
    "def func(p, x, y):\n",
    "    residual = y - (p[0]*x + p[1])\n",
    "    return residual\n",
    " \n",
    "p0 = [0, 0]\n",
    "p = optimize.leastsq(func, p0, args=(x_data, y_data))[0]\n",
    "p"
   ]
  },
  {
   "cell_type": "code",
   "execution_count": 10,
   "metadata": {},
   "outputs": [
    {
     "data": {
      "text/plain": [
       "(1.9827762695911915, 5.1755614156271825)"
      ]
     },
     "execution_count": 10,
     "metadata": {},
     "output_type": "execute_result"
    }
   ],
   "source": [
    "# 公式から\n",
    "nume = np.sum(x_data * y_data) - np.sum(x_data) * np.sum(y_data) / x_data.size\n",
    "denom = np.sum(x_data**2) - (np.sum(x_data)**2)/x_data.size\n",
    "a = nume / denom\n",
    "b = np.mean(y_data - a*x_data)\n",
    "(a, b)"
   ]
  },
  {
   "cell_type": "markdown",
   "metadata": {},
   "source": [
    "### 決定係数"
   ]
  },
  {
   "cell_type": "code",
   "execution_count": 11,
   "metadata": {},
   "outputs": [
    {
     "data": {
      "text/plain": [
       "0.8436624304844442"
      ]
     },
     "execution_count": 11,
     "metadata": {},
     "output_type": "execute_result"
    }
   ],
   "source": [
    "R2 = np.var(fit_func(x_data, p[0], p[1])) / np.var(y_data)\n",
    "R2"
   ]
  },
  {
   "cell_type": "code",
   "execution_count": 18,
   "metadata": {},
   "outputs": [
    {
     "data": {
      "image/png": "[encoded data removed]",
      "text/plain": [
       "<Figure size 350x300 with 1 Axes>"
      ]
     },
     "metadata": {
      "filenames": {
       "image/png": "/Users/narizuka/work/document/lecture/rissho/info_process/2022/material/_build/jupyter_execute/chap_2/sec_2-4/sec_2-4_21_0.png"
      }
     },
     "output_type": "display_data"
    }
   ],
   "source": [
    "fig, ax = plt.subplots()\n",
    "ax.plot(x_data, y_data, 'o', mfc='None')\n",
    "ax.plot(x_data, fit_func(x_data, p[0], p[1]), 'r-', mfc='None')\n",
    "ax.set_xlabel('$X$', fontsize=15)\n",
    "ax.set_ylabel('$Y$', fontsize=15)\n",
    "fig.savefig('figure/lsm_ex.pdf', bbox_inches=\"tight\", pad_inches=0.2, transparent=True, dpi=300) # 保存"
   ]
  },
  {
   "cell_type": "markdown",
   "metadata": {},
   "source": [
    "# 実例：都市の平均気温と緯度の関係"
   ]
  },
  {
   "cell_type": "markdown",
   "metadata": {},
   "source": [
    "## STEP1: Problem\n",
    "- 地球上では，赤道付近は暑く，極地に近づくほど寒くなる．\n",
    "- 世界の様々な地域の年間平均気温がどのように決まっているのだろうか？"
   ]
  },
  {
   "cell_type": "markdown",
   "metadata": {},
   "source": [
    "## STEP2: Plan\n",
    "- 世界の各地域で年間平均気温は異なっている．\n",
    "- 各地域での年間平均気温に影響を与える要因は，各地域の地球上での位置，都市の自然環境，人間活動などが考えられる．\n",
    "- 以下では，各都市の地球上での位置に関するデータを収集し，年間平均気温との関係を探る．"
   ]
  },
  {
   "cell_type": "markdown",
   "metadata": {},
   "source": [
    "## STEP3: Data \n",
    "- 理科年表から得られた各都市の年間平均気温，緯度，標高のデータを用いる"
   ]
  },
  {
   "cell_type": "code",
   "execution_count": 12,
   "metadata": {},
   "outputs": [],
   "source": [
    "D = pd.read_csv('material/sec_2-4/data_25city.csv')"
   ]
  },
  {
   "cell_type": "code",
   "execution_count": 13,
   "metadata": {},
   "outputs": [],
   "source": [
    "# 絶対緯度\n",
    "D['L2'] = D['L'].abs()"
   ]
  },
  {
   "cell_type": "markdown",
   "metadata": {},
   "source": [
    "## STEP4: Analysis"
   ]
  },
  {
   "cell_type": "markdown",
   "metadata": {},
   "source": [
    "### 散布図\n",
    "- まず，相関関係を視覚的に確認するために散布図を調べることにする．\n",
    "- 散布図を見ると，平均気温は緯度に対して上に凸の2次関数のような関係となり，かつ赤道（0度）に対して左右対称になっていることが分かる．\n",
    "- 一方，標高と平均気温については特定の関数関係はない．\n",
    "- このように，散布図がそもそも直線関係となっていない場合には，相関係数を求めるのは不適切である．"
   ]
  },
  {
   "cell_type": "code",
   "execution_count": 14,
   "metadata": {},
   "outputs": [
    {
     "data": {
      "text/plain": [
       "Text(0, 0.5, '平均気温（℃）')"
      ]
     },
     "execution_count": 14,
     "metadata": {},
     "output_type": "execute_result"
    },
    {
     "data": {
      "image/png": "[encoded data removed]",
      "text/plain": [
       "<Figure size 640x480 with 1 Axes>"
      ]
     },
     "metadata": {
      "filenames": {
       "image/png": "/Users/narizuka/work/document/lecture/rissho/info_process/2022/material/_build/jupyter_execute/chap_2/sec_2-4/sec_2-4_30_1.png"
      }
     },
     "output_type": "display_data"
    }
   ],
   "source": [
    "# 緯度と平均気温の散布図\n",
    "fig, ax = plt.subplots()\n",
    "ax.plot(D['L'], D['T'], 'bo', mfc='None')\n",
    "ax.set_xlim(-100, 100); ax.set_ylim(-15, 35)\n",
    "ax.set_xlabel('緯度（度）')\n",
    "ax.set_ylabel('平均気温（℃）')\n",
    "# fig.savefig('figure/lat_temp.pdf', bbox_inches=\"tight\", pad_inches=0.2, transparent=True, dpi=300) # 保存"
   ]
  },
  {
   "cell_type": "code",
   "execution_count": 15,
   "metadata": {},
   "outputs": [
    {
     "data": {
      "text/plain": [
       "Text(0, 0.5, '平均気温（℃）')"
      ]
     },
     "execution_count": 15,
     "metadata": {},
     "output_type": "execute_result"
    },
    {
     "data": {
      "image/png": "[encoded data removed]",
      "text/plain": [
       "<Figure size 640x480 with 1 Axes>"
      ]
     },
     "metadata": {
      "filenames": {
       "image/png": "/Users/narizuka/work/document/lecture/rissho/info_process/2022/material/_build/jupyter_execute/chap_2/sec_2-4/sec_2-4_31_1.png"
      }
     },
     "output_type": "display_data"
    }
   ],
   "source": [
    "# 標高と平均気温の散布図\n",
    "fig, ax = plt.subplots()\n",
    "ax.plot(D['Z'], D['T'], 'bo', mfc='None')\n",
    "ax.set_xlim(0, 3000); ax.set_ylim(-15, 35)\n",
    "ax.set_xlabel('標高（$m$）')\n",
    "ax.set_ylabel('平均気温（℃）')\n",
    "# fig.savefig('figure/alt_temp.pdf', bbox_inches=\"tight\", pad_inches=0.2, transparent=True, dpi=300) # 保存"
   ]
  },
  {
   "cell_type": "markdown",
   "metadata": {},
   "source": [
    "### 緯度と平均気温の関数関係\n",
    "- 緯度と平均気温の関数関係を特定すれば，散布図が直線関係を示すような適切な変数変換を導ける．\n",
    "- そこで，緯度の値別に複数のグループに分け，グループ内で平均気温，平均緯度などを求めて関係を調べることにする．\n",
    "- ここでは25都市を緯度の絶対値の昇順に5都市ずつのグループに分ける：\n",
    "    - 群1：シンガポール，ボコタ，ジャカルタ，コロンボ，アジスアベバ\n",
    "    - 群2：リマ，チェンマイ，メキシコ，リオデジャネイロ，ドーハ\n",
    "    - 群3：ブリスベン，カイロ，ケープタウン，ブエノスアイレス，東京\n",
    "    - 群4：サンフランシスコ，メルボルン，北京，サラエボ，リオン\n",
    "    - 群5：チューリッヒ，プラハ，ダブリン，レイキャビク，昭和基地"
   ]
  },
  {
   "cell_type": "markdown",
   "metadata": {},
   "source": [
    "#### 実習\n",
    "- 各群に対し，絶対緯度の平均，平均気温の平均，平均気温の標準偏差を求めよ\n",
    "- 平均絶対緯度を横軸，平均気温の平均を縦軸に取った図をエラーバー付きで描け"
   ]
  },
  {
   "cell_type": "code",
   "execution_count": 16,
   "metadata": {},
   "outputs": [],
   "source": [
    "# 群ごとの集計\n",
    "D2 = D.groupby('group').mean()  # groupごとの平均\n",
    "y_err = D.groupby('group').std()['T']  # groupごとの標準偏差"
   ]
  },
  {
   "cell_type": "code",
   "execution_count": 17,
   "metadata": {},
   "outputs": [
    {
     "data": {
      "text/plain": [
       "Text(0, 0.5, '平均気温（℃）')"
      ]
     },
     "execution_count": 17,
     "metadata": {},
     "output_type": "execute_result"
    },
    {
     "data": {
      "image/png": "[encoded data removed]",
      "text/plain": [
       "<Figure size 640x480 with 1 Axes>"
      ]
     },
     "metadata": {
      "filenames": {
       "image/png": "/Users/narizuka/work/document/lecture/rissho/info_process/2022/material/_build/jupyter_execute/chap_2/sec_2-4/sec_2-4_35_1.png"
      }
     },
     "output_type": "display_data"
    }
   ],
   "source": [
    "# 平均絶対緯度と平均気温の平均\n",
    "fig, ax = plt.subplots()\n",
    "ax.errorbar(D2['L2'], D2['T'], yerr= y_err,\\\n",
    "            capsize=3, fmt='co', markersize=7, ecolor='k', markeredgecolor='k', color='w')\n",
    "ax.set_xlim(0, 60); ax.set_ylim(-10, 35)\n",
    "ax.set_xlabel('平均絶対緯度（度）')\n",
    "ax.set_ylabel('平均気温（℃）')\n",
    "# fig.savefig('figure/ave_latitude_temp.pdf', bbox_inches=\"tight\", pad_inches=0.2, transparent=True, dpi=300) # 保存"
   ]
  },
  {
   "cell_type": "markdown",
   "metadata": {},
   "source": [
    "#### 実習\n",
    "- 横軸に絶対緯度の２乗，縦軸に平均気温を取った散布図を描け\n",
    "- この散布図に対して，最小二乗法で回帰直線を求めよ\n",
    "- この散布図に対して，相関係数を求めよ"
   ]
  },
  {
   "cell_type": "code",
   "execution_count": 18,
   "metadata": {},
   "outputs": [
    {
     "name": "stdout",
     "output_type": "stream",
     "text": [
      "[-0.0061 24.0986]\n"
     ]
    },
    {
     "data": {
      "text/plain": [
       "Text(0, 0.5, '平均気温（℃）')"
      ]
     },
     "execution_count": 18,
     "metadata": {},
     "output_type": "execute_result"
    },
    {
     "data": {
      "image/png": "[encoded data removed]",
      "text/plain": [
       "<Figure size 640x480 with 1 Axes>"
      ]
     },
     "metadata": {
      "filenames": {
       "image/png": "/Users/narizuka/work/document/lecture/rissho/info_process/2022/material/_build/jupyter_execute/chap_2/sec_2-4/sec_2-4_37_2.png"
      }
     },
     "output_type": "display_data"
    }
   ],
   "source": [
    "''' 平均気温と緯度の２乗の散布図 '''\n",
    "fig, ax = plt.subplots()\n",
    "\n",
    "# 最小二乗法による回帰直線\n",
    "p = optimize.curve_fit(fit_func, D['L']**2, D['T'])[0]\n",
    "print(p)\n",
    "ax.plot(D['L']**2, fit_func(D['L']**2, p[0], p[1]), 'r-')\n",
    "\n",
    "# 散布図\n",
    "ax.plot(D['L']**2, D['T'], 'ko', mfc='None')\n",
    "ax.set_xlim(0, 5000); ax.set_ylim(-15, 35)\n",
    "ax.set_xlabel('緯度の2乗')\n",
    "ax.set_ylabel('平均気温（℃）')\n",
    "# fig.savefig('figure/lat2_temp.pdf', bbox_inches=\"tight\", pad_inches=0.2, transparent=True, dpi=300) # 保存"
   ]
  },
  {
   "cell_type": "code",
   "execution_count": 19,
   "metadata": {},
   "outputs": [
    {
     "data": {
      "text/plain": [
       "array([[ 1.    , -0.8771],\n",
       "       [-0.8771,  1.    ]])"
      ]
     },
     "execution_count": 19,
     "metadata": {},
     "output_type": "execute_result"
    }
   ],
   "source": [
    "# 相関係数\n",
    "np.corrcoef(D['L']**2, D['T'])"
   ]
  },
  {
   "cell_type": "markdown",
   "metadata": {},
   "source": [
    "## STEP5: Conclusion\n",
    "- 各都市の年間平均気温と緯度の関係を散布図によって調べた結果，緯度の２乗に対して直線関係があることが分かった．\n",
    "- 一方，年間平均気温が緯度の2次関数になるということは，緯度が高くなれば気温もいくらでも大きくなることを意味し，やや奇妙である．\n",
    "\n",
    "#### 実習\n",
    "- 緯度$ \\theta $における太陽エネルギーは$ \\cos\\theta $に比例することが知られている．これより，年間平均気温と緯度を結びつける，より適切な関数を求めよ．\n",
    "- テイラー展開の観点から，2次関数の妥当性を議論せよ．"
   ]
  },
  {
   "cell_type": "code",
   "execution_count": 20,
   "metadata": {},
   "outputs": [
    {
     "name": "stdout",
     "output_type": "stream",
     "text": [
      "[ 44.3151 -19.9226]\n"
     ]
    },
    {
     "data": {
      "text/plain": [
       "Text(0, 0.5, '平均気温（℃）')"
      ]
     },
     "execution_count": 20,
     "metadata": {},
     "output_type": "execute_result"
    },
    {
     "data": {
      "image/png": "[encoded data removed]",
      "text/plain": [
       "<Figure size 640x480 with 1 Axes>"
      ]
     },
     "metadata": {
      "filenames": {
       "image/png": "/Users/narizuka/work/document/lecture/rissho/info_process/2022/material/_build/jupyter_execute/chap_2/sec_2-4/sec_2-4_40_2.png"
      }
     },
     "output_type": "display_data"
    }
   ],
   "source": [
    "''' 平均気温とcos(緯度)の散布図 '''\n",
    "fig, ax = plt.subplots()\n",
    "\n",
    "# 最小二乗法による回帰直線\n",
    "p = optimize.curve_fit(fit_func, np.cos(np.radians(D['L'])), D['T'])[0]\n",
    "print(p)\n",
    "ax.plot(np.cos(np.radians(D['L'])), fit_func(np.cos(np.radians(D['L'])), p[0], p[1]), 'r-')\n",
    "\n",
    "# 散布図\n",
    "ax.plot(np.cos(np.radians(D['L'])), D['T'], 'ko', mfc='None')\n",
    "ax.set_xlim(0.3, 1); ax.set_ylim(-15, 35)\n",
    "ax.set_xlabel('cos(緯度)')\n",
    "ax.set_ylabel('平均気温（℃）')\n",
    "# fig.savefig('figure/cos_lat_temp.pdf', bbox_inches=\"tight\", pad_inches=0.2, transparent=True, dpi=300) # 保存"
   ]
  },
  {
   "cell_type": "code",
   "execution_count": 21,
   "metadata": {},
   "outputs": [
    {
     "data": {
      "text/plain": [
       "array([[1.    , 0.8743],\n",
       "       [0.8743, 1.    ]])"
      ]
     },
     "execution_count": 21,
     "metadata": {},
     "output_type": "execute_result"
    }
   ],
   "source": [
    "# 相関係数\n",
    "np.corrcoef(np.cos(np.radians(D['L'])), D['T'])"
   ]
  },
  {
   "cell_type": "markdown",
   "metadata": {},
   "source": [
    "## STEP 6: Problem 2\n",
    "- 緯度の2乗と平均気温の散布図を見ると，直線関係から少し外れる都市がいくつかあることが分かる．\n",
    "- これらの都市は，外れ値の大きい順にボコダ，メキシコ，アジスアベバ，である．\n",
    "- では，これらの都市はなぜ直線関係から外れるのだろうか？"
   ]
  },
  {
   "cell_type": "markdown",
   "metadata": {},
   "source": [
    "## STEP 7: Plan & Data 2\n",
    "- 直線から外れている都市についてのデータを見ると，ある共通点が浮かび上がる．\n",
    "- それは，標高が高いことである（いずれも標高2000m以上）．\n",
    "- 一般的に，標高が高くなるほど都市の気温は低くなる．\n",
    "- よって，平均気温と緯度の関係を見るためには，標高の影響を調整する必要がある．\n",
    "- 一般に，標高が100m高くなると，気温は0.6℃低くなると言われている．\n",
    "- これより，平均気温（$ T $）に対して標高（$ z $）の影響を調整した気温（高度調整済み平均気温）は\n",
    "    $$ T_{0}=T+0.006z \n",
    "    $$\n",
    "  と表される．"
   ]
  },
  {
   "cell_type": "markdown",
   "metadata": {},
   "source": [
    "## STEP 8: Analysis 2\n",
    "\n",
    "#### 実習\n",
    "- 緯度の２乗，$\\cos(緯度)$と高度調整済み平均気温の散布図を描け\n",
    "- この散布図から相関係数を求めよ\n",
    "- この散布図に対して回帰直線を引き，直線の式を求めよ"
   ]
  },
  {
   "cell_type": "code",
   "execution_count": 24,
   "metadata": {},
   "outputs": [],
   "source": [
    "# 高度調整済み平均気温\n",
    "D['T0'] = D['T'] + 0.006 * D['Z']"
   ]
  },
  {
   "cell_type": "code",
   "execution_count": 25,
   "metadata": {},
   "outputs": [
    {
     "name": "stdout",
     "output_type": "stream",
     "text": [
      "[-0.0071 27.6614]\n"
     ]
    },
    {
     "data": {
      "text/plain": [
       "Text(0, 0.5, '高度調整済み平均気温（℃）')"
      ]
     },
     "execution_count": 25,
     "metadata": {},
     "output_type": "execute_result"
    },
    {
     "data": {
      "image/png": "[encoded data removed]",
      "text/plain": [
       "<Figure size 640x480 with 1 Axes>"
      ]
     },
     "metadata": {
      "filenames": {
       "image/png": "/Users/narizuka/work/document/lecture/rissho/info_process/2022/material/_build/jupyter_execute/chap_2/sec_2-4/sec_2-4_46_2.png"
      }
     },
     "output_type": "display_data"
    }
   ],
   "source": [
    "''' 高度調整済み平均気温と緯度の２乗の散布図 '''\n",
    "fig, ax = plt.subplots()\n",
    "\n",
    "# 最小二乗法による回帰直線\n",
    "p = optimize.curve_fit(fit_func, D['L']**2, D['T0'])[0]\n",
    "print(p)\n",
    "ax.plot(D['L']**2, fit_func(D['L']**2, p[0], p[1]), 'r-')\n",
    "\n",
    "# 散布図\n",
    "ax.plot(D['L']**2, D['T0'], 'ko', mfc='None')\n",
    "ax.set_xlim(0, 5000); ax.set_ylim(-15, 35)\n",
    "ax.set_xlabel('緯度の2乗')\n",
    "ax.set_ylabel('高度調整済み平均気温（℃）')\n",
    "# fig.savefig('figure/lat2_temp0.pdf', bbox_inches=\"tight\", pad_inches=0.2, transparent=True, dpi=300) # 保存"
   ]
  },
  {
   "cell_type": "code",
   "execution_count": 26,
   "metadata": {},
   "outputs": [
    {
     "data": {
      "text/plain": [
       "array([[ 1.    , -0.9432],\n",
       "       [-0.9432,  1.    ]])"
      ]
     },
     "execution_count": 26,
     "metadata": {},
     "output_type": "execute_result"
    }
   ],
   "source": [
    "# 相関係数\n",
    "np.corrcoef(D['L']**2, D['T0'])"
   ]
  },
  {
   "cell_type": "code",
   "execution_count": 27,
   "metadata": {},
   "outputs": [
    {
     "name": "stdout",
     "output_type": "stream",
     "text": [
      "[ 51.6927 -23.6513]\n"
     ]
    },
    {
     "data": {
      "text/plain": [
       "Text(0, 0.5, '高度調整済み平均気温（℃）')"
      ]
     },
     "execution_count": 27,
     "metadata": {},
     "output_type": "execute_result"
    },
    {
     "data": {
      "image/png": "[encoded data removed]",
      "text/plain": [
       "<Figure size 640x480 with 1 Axes>"
      ]
     },
     "metadata": {
      "filenames": {
       "image/png": "/Users/narizuka/work/document/lecture/rissho/info_process/2022/material/_build/jupyter_execute/chap_2/sec_2-4/sec_2-4_48_2.png"
      }
     },
     "output_type": "display_data"
    }
   ],
   "source": [
    "''' 高度調整済み平均気温とcos(緯度)の散布図 '''\n",
    "fig, ax = plt.subplots()\n",
    "\n",
    "# 最小二乗法による回帰直線\n",
    "p = optimize.curve_fit(fit_func, np.cos(np.radians(D['L'])), D['T0'])[0]\n",
    "print(p)\n",
    "ax.plot(np.cos(np.radians(D['L'])), fit_func(np.cos(np.radians(D['L'])), p[0], p[1]), 'r-')\n",
    "\n",
    "# 散布図\n",
    "ax.plot(np.cos(np.radians(D['L'])), D['T0'], 'ko', mfc='None')\n",
    "ax.set_xlim(0.3, 1); ax.set_ylim(-15, 35)\n",
    "ax.set_xlabel('cos(緯度)')\n",
    "ax.set_ylabel('高度調整済み平均気温（℃）')\n",
    "# fig.savefig('figure/cos_lat_temp2.pdf', bbox_inches=\"tight\", pad_inches=0.2, transparent=True, dpi=300) # 保存"
   ]
  },
  {
   "cell_type": "code",
   "execution_count": 28,
   "metadata": {},
   "outputs": [
    {
     "data": {
      "text/plain": [
       "array([[1.    , 0.9439],\n",
       "       [0.9439, 1.    ]])"
      ]
     },
     "execution_count": 28,
     "metadata": {},
     "output_type": "execute_result"
    }
   ],
   "source": [
    "# 相関係数\n",
    "np.corrcoef(np.cos(np.radians(D['L'])), D['T0'])"
   ]
  },
  {
   "cell_type": "markdown",
   "metadata": {},
   "source": [
    "## STEP 9: Conclusion 2\n",
    "- 年間平均気温と緯度の2乗の関係において発生する外れ値は，標高の影響によるものであることが分かった．\n",
    "- そこで，標高の影響を調整することで，年間平均気温，緯度，標高に対する適切な関数を推定することができた．"
   ]
  }
 ],
 "metadata": {
  "colab": {
   "name": "sec_2-2.ipynb",
   "provenance": []
  },
  "kernelspec": {
   "display_name": "Python 3",
   "language": "python",
   "name": "python3"
  },
  "language_info": {
   "codemirror_mode": {
    "name": "ipython",
    "version": 3
   },
   "file_extension": ".py",
   "mimetype": "text/x-python",
   "name": "python",
   "nbconvert_exporter": "python",
   "pygments_lexer": "ipython3",
   "version": "3.9.13"
  },
  "toc-autonumbering": false
 },
 "nbformat": 4,
 "nbformat_minor": 4
}
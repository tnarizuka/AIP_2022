{
 "cells": [
  {
   "cell_type": "markdown",
   "metadata": {},
   "source": [
    "使用するモジュールのimport"
   ]
  },
  {
   "cell_type": "code",
   "execution_count": 1,
   "metadata": {},
   "outputs": [],
   "source": [
    "import sys, os\n",
    "import numpy as np\n",
    "import matplotlib.pyplot as plt\n",
    "import japanize_matplotlib\n",
    "import pandas as pd\n",
    "from pandas import DataFrame"
   ]
  },
  {
   "cell_type": "code",
   "execution_count": 2,
   "metadata": {
    "id": "lcs2r2splZwq"
   },
   "outputs": [
    {
     "ename": "FileNotFoundError",
     "evalue": "[Errno 2] No such file or directory: '/Users/narizuka/GoogleDrive/My Drive/document/講義/立正/情報処理の応用/'",
     "output_type": "error",
     "traceback": [
      "\u001b[0;31m---------------------------------------------------------------------------\u001b[0m",
      "\u001b[0;31mFileNotFoundError\u001b[0m                         Traceback (most recent call last)",
      "Input \u001b[0;32mIn [2]\u001b[0m, in \u001b[0;36m<cell line: 2>\u001b[0;34m()\u001b[0m\n\u001b[1;32m      1\u001b[0m \u001b[38;5;66;03m# カレントディレクトリの変更（自分の作業フォルダのパスを設定）\u001b[39;00m\n\u001b[0;32m----> 2\u001b[0m \u001b[43mos\u001b[49m\u001b[38;5;241;43m.\u001b[39;49m\u001b[43mchdir\u001b[49m\u001b[43m(\u001b[49m\u001b[38;5;124;43m'\u001b[39;49m\u001b[38;5;124;43m/Users/narizuka/GoogleDrive/My Drive/document/講義/立正/情報処理の応用/\u001b[39;49m\u001b[38;5;124;43m'\u001b[39;49m\u001b[43m)\u001b[49m\n",
      "\u001b[0;31mFileNotFoundError\u001b[0m: [Errno 2] No such file or directory: '/Users/narizuka/GoogleDrive/My Drive/document/講義/立正/情報処理の応用/'"
     ]
    }
   ],
   "source": [
    "# カレントディレクトリの変更（自分の作業フォルダのパスを設定）\n",
    "os.chdir('/Users/narizuka/GoogleDrive/My Drive/document/講義/立正/情報処理の応用/')\n",
    "# os.chdir(\"G:\\\\マイドライブ\\\\document\\\\講義\\\\立正\\\\情報処理の応用\")"
   ]
  },
  {
   "cell_type": "code",
   "execution_count": 4,
   "metadata": {},
   "outputs": [
    {
     "data": {
      "text/plain": [
       "'%r'"
      ]
     },
     "execution_count": 4,
     "metadata": {},
     "output_type": "execute_result"
    }
   ],
   "source": [
    "pd.set_option('max_rows', 20)  # 表示する行数\n",
    "pd.set_option('precision', 2)  # 小数点以下の表示桁\n",
    "np.set_printoptions(suppress=True, precision=2)\n",
    "%precision 2  # 小数点以下の表示桁"
   ]
  },
  {
   "cell_type": "markdown",
   "metadata": {
    "id": "rGUw9jJYlZwr"
   },
   "source": [
    "google colab を使う際のセッティング"
   ]
  },
  {
   "cell_type": "code",
   "execution_count": null,
   "metadata": {
    "colab": {
     "base_uri": "https://localhost:8080/"
    },
    "executionInfo": {
     "elapsed": 5323,
     "status": "ok",
     "timestamp": 1633931763530,
     "user": {
      "displayName": "Takuma Narizuka",
      "photoUrl": "https://lh3.googleusercontent.com/a-/AOh14GikY77c5HAiZw_0rE6X-EeMqDO36i0lZAZwgUjINg=s64",
      "userId": "11234403743201202105"
     },
     "user_tz": -540
    },
    "id": "FPZWw3gdlZwq",
    "outputId": "a4122b51-31a2-40a4-b212-be79da174b35"
   },
   "outputs": [],
   "source": [
    "# matplotlibで日本語表示\n",
    "!pip install japanize-matplotlib\n",
    "import matplotlib.pyplot as plt\n",
    "import japanize_matplotlib"
   ]
  },
  {
   "cell_type": "code",
   "execution_count": null,
   "metadata": {
    "colab": {
     "base_uri": "https://localhost:8080/"
    },
    "executionInfo": {
     "elapsed": 27779,
     "status": "ok",
     "timestamp": 1633931822727,
     "user": {
      "displayName": "Takuma Narizuka",
      "photoUrl": "https://lh3.googleusercontent.com/a-/AOh14GikY77c5HAiZw_0rE6X-EeMqDO36i0lZAZwgUjINg=s64",
      "userId": "11234403743201202105"
     },
     "user_tz": -540
    },
    "id": "zICEJQzWtdrp",
    "outputId": "f1f4820b-923a-4e73-a9fe-3e7c50f8ecec"
   },
   "outputs": [],
   "source": [
    "# google driveをマウントする\n",
    "from google.colab import drive\n",
    "drive.mount('/content/drive')"
   ]
  },
  {
   "cell_type": "code",
   "execution_count": null,
   "metadata": {
    "executionInfo": {
     "elapsed": 526,
     "status": "ok",
     "timestamp": 1633931832147,
     "user": {
      "displayName": "Takuma Narizuka",
      "photoUrl": "https://lh3.googleusercontent.com/a-/AOh14GikY77c5HAiZw_0rE6X-EeMqDO36i0lZAZwgUjINg=s64",
      "userId": "11234403743201202105"
     },
     "user_tz": -540
    },
    "id": "AiIoejRsyUBR"
   },
   "outputs": [],
   "source": [
    "# カレントディレクトリを変更（自分の作業フォルダのパスを設定）\n",
    "os.chdir('/content/drive/My Drive/document/講義/立正/情報処理の応用/')"
   ]
  },
  {
   "cell_type": "markdown",
   "metadata": {
    "id": "_06gOFUGyXlp"
   },
   "source": [
    "jupyter lab のcssスタイルを変更（必要な場合だけ）"
   ]
  },
  {
   "cell_type": "code",
   "execution_count": 27,
   "metadata": {
    "id": "7gse4i5FyUBR"
   },
   "outputs": [
    {
     "data": {
      "text/html": [
       "<style>.jp-Cell { width:100% !important; margin: 0 auto; }</style>"
      ],
      "text/plain": [
       "<IPython.core.display.HTML object>"
      ]
     },
     "metadata": {},
     "output_type": "display_data"
    },
    {
     "data": {
      "text/html": [
       "<style type=\"text/css\">/*-----------------------------------------------------------------------------\n",
       "| Copyright (c) Jupyter Development Team.\n",
       "| Distributed under the terms of the Modified BSD License.\n",
       "|----------------------------------------------------------------------------*/\n",
       "\n",
       "/*\n",
       "The following CSS variables define the main, public API for styling JupyterLab.\n",
       "These variables should be used by all plugins wherever possible. In other\n",
       "words, plugins should not define custom colors, sizes, etc unless absolutely\n",
       "necessary. This enables users to change the visual theme of JupyterLab\n",
       "by changing these variables.\n",
       "\n",
       "Many variables appear in an ordered sequence (0,1,2,3). These sequences\n",
       "are designed to work well together, so for example, `--jp-border-color1` should\n",
       "be used with `--jp-layout-color1`. The numbers have the following meanings:\n",
       "\n",
       "* 0: super-primary, reserved for special emphasis\n",
       "* 1: primary, most important under normal situations\n",
       "* 2: secondary, next most important under normal situations\n",
       "* 3: tertiary, next most important under normal situations\n",
       "\n",
       "Throughout JupyterLab, we are mostly following principles from Google's\n",
       "Material Design when selecting colors. We are not, however, following\n",
       "all of MD as it is not optimized for dense, information rich UIs.\n",
       "*/\n",
       "\n",
       ":root {\n",
       "  /* Elevation\n",
       "   *\n",
       "   * We style box-shadows using Material Design's idea of elevation. These particular numbers are taken from here:\n",
       "   *\n",
       "   * https://github.com/material-components/material-components-web\n",
       "   * https://material-components-web.appspot.com/elevation.html\n",
       "   */\n",
       "\n",
       "\n",
       "  /* The dark theme shadows need a bit of work, but this will probably also require work on the core layout\n",
       "   * colors used in the theme as well. */\n",
       "  --jp-shadow-base-lightness: 32 !important;\n",
       "  --jp-shadow-umbra-color: rgba(\n",
       "    var(--jp-shadow-base-lightness),\n",
       "    var(--jp-shadow-base-lightness),\n",
       "    var(--jp-shadow-base-lightness),\n",
       "    0.2\n",
       "  ) !important;\n",
       "  --jp-shadow-penumbra-color: rgba(\n",
       "    var(--jp-shadow-base-lightness),\n",
       "    var(--jp-shadow-base-lightness),\n",
       "    var(--jp-shadow-base-lightness),\n",
       "    0.14\n",
       "  ) !important;\n",
       "  --jp-shadow-ambient-color: rgba(\n",
       "    var(--jp-shadow-base-lightness),\n",
       "    var(--jp-shadow-base-lightness),\n",
       "    var(--jp-shadow-base-lightness),\n",
       "    0.12\n",
       "  ) !important;\n",
       "  --jp-elevation-z0: none !important;\n",
       "  --jp-elevation-z1: 0px 2px 1px -1px var(--jp-shadow-umbra-color),\n",
       "    0px 1px 1px 0px var(--jp-shadow-penumbra-color),\n",
       "    0px 1px 3px 0px var(--jp-shadow-ambient-color) !important;\n",
       "  --jp-elevation-z2: 0px 3px 1px -2px var(--jp-shadow-umbra-color),\n",
       "    0px 2px 2px 0px var(--jp-shadow-penumbra-color),\n",
       "    0px 1px 5px 0px var(--jp-shadow-ambient-color) !important;\n",
       "  --jp-elevation-z4: 0px 2px 4px -1px var(--jp-shadow-umbra-color),\n",
       "    0px 4px 5px 0px var(--jp-shadow-penumbra-color),\n",
       "    0px 1px 10px 0px var(--jp-shadow-ambient-color) !important;\n",
       "  --jp-elevation-z6: 0px 3px 5px -1px var(--jp-shadow-umbra-color),\n",
       "    0px 6px 10px 0px var(--jp-shadow-penumbra-color),\n",
       "    0px 1px 18px 0px var(--jp-shadow-ambient-color) !important;\n",
       "  --jp-elevation-z8: 0px 5px 5px -3px var(--jp-shadow-umbra-color),\n",
       "    0px 8px 10px 1px var(--jp-shadow-penumbra-color),\n",
       "    0px 3px 14px 2px var(--jp-shadow-ambient-color) !important;\n",
       "  --jp-elevation-z12: 0px 7px 8px -4px var(--jp-shadow-umbra-color),\n",
       "    0px 12px 17px 2px var(--jp-shadow-penumbra-color),\n",
       "    0px 5px 22px 4px var(--jp-shadow-ambient-color) !important;\n",
       "  --jp-elevation-z16: 0px 8px 10px -5px var(--jp-shadow-umbra-color),\n",
       "    0px 16px 24px 2px var(--jp-shadow-penumbra-color),\n",
       "    0px 6px 30px 5px var(--jp-shadow-ambient-color) !important;\n",
       "  --jp-elevation-z20: 0px 10px 13px -6px var(--jp-shadow-umbra-color),\n",
       "    0px 20px 31px 3px var(--jp-shadow-penumbra-color),\n",
       "    0px 8px 38px 7px var(--jp-shadow-ambient-color) !important;\n",
       "  --jp-elevation-z24: 0px 11px 15px -7px var(--jp-shadow-umbra-color),\n",
       "    0px 24px 38px 3px var(--jp-shadow-penumbra-color),\n",
       "    0px 9px 46px 8px var(--jp-shadow-ambient-color) !important;\n",
       "\n",
       "  /* Borders\n",
       "   *\n",
       "   * The following variables, specify the visual styling of borders in JupyterLab.\n",
       "   */\n",
       "\n",
       "  --jp-border-width: 1px !important;\n",
       "  --jp-border-color0: var(--md-grey-700) !important;\n",
       "  --jp-border-color1: var(--md-grey-800) !important;\n",
       "  --jp-border-color2: var(--md-grey-800) !important;\n",
       "  --jp-border-color3: var(--md-grey-900) !important;\n",
       "  --jp-border-radius: 2px !important;\n",
       "\n",
       "  /* UI Fonts\n",
       "   *\n",
       "   * The UI font CSS variables are used for the typography all of the JupyterLab\n",
       "   * user interface elements that are not directly user generated content.\n",
       "   *\n",
       "   * The font sizing here is done assuming that the body font size of --jp-ui-font-size1\n",
       "   * is applied to a parent element. When children elements, such as headings, are sized\n",
       "   * in em all things will be computed relative to that body size.\n",
       "   */\n",
       "\n",
       "  --jp-ui-font-scale-factor: 1.2 !important;\n",
       "  --jp-ui-font-size0: 0.83333em !important;\n",
       "  --jp-ui-font-size1: 13px !important; /* Base font size */\n",
       "  --jp-ui-font-size2: 1.2em !important;\n",
       "  --jp-ui-font-size3: 1.44em !important;\n",
       "\n",
       "  --jp-ui-font-family: 'Source Han Code JP L', -apple-system, BlinkMacSystemFont, 'Segoe UI', Helvetica,\n",
       "    Arial, sans-serif, 'Apple Color Emoji', 'Segoe UI Emoji', 'Segoe UI Symbol' !important;\n",
       "\n",
       "  /*\n",
       "   * Use these font colors against the corresponding main layout colors.\n",
       "   * In a light theme, these go from dark to light.\n",
       "   */\n",
       "\n",
       "  /* Defaults use Material Design specification */\n",
       "  --jp-ui-font-color0: white !important;\n",
       "  --jp-ui-font-color1: var(--md-grey-300) !important;\n",
       "  --jp-ui-font-color2: var(--md-grey-500) !important;\n",
       "  --jp-ui-font-color3: var(--md-grey-700) !important;\n",
       "\n",
       "  /*\n",
       "   * Use these against the brand/accent/warn/error colors.\n",
       "   * These will typically go from light to darker, in both a dark and light theme.\n",
       "   */\n",
       "\n",
       "  --jp-ui-inverse-font-color0: rgba(0, 0, 0, 1) !important;\n",
       "  --jp-ui-inverse-font-color1: rgba(0, 0, 0, 0.8) !important;\n",
       "  --jp-ui-inverse-font-color2: rgba(0, 0, 0, 0.5) !important;\n",
       "  --jp-ui-inverse-font-color3: rgba(0, 0, 0, 0.3) !important;\n",
       "\n",
       "  /* Content Fonts\n",
       "   *\n",
       "   * Content font variables are used for typography of user generated content.\n",
       "   *\n",
       "   * The font sizing here is done assuming that the body font size of --jp-content-font-size1\n",
       "   * is applied to a parent element. When children elements, such as headings, are sized\n",
       "   * in em all things will be computed relative to that body size.\n",
       "   */\n",
       "\n",
       "  --jp-content-line-height: 2 !important; /* markdownの行間 */\n",
       "  --jp-content-font-scale-factor: 1.2 !important;\n",
       "  --jp-content-font-size0: 0.83333em !important;\n",
       "  --jp-content-font-size1: 14px !important; /* Base font size */\n",
       "  --jp-content-font-size2: 1.2em !important;\n",
       "  --jp-content-font-size3: 1.44em !important;\n",
       "  --jp-content-font-size4: 1.728em !important;\n",
       "  --jp-content-font-size5: 2.0736em !important;\n",
       "\n",
       "  /* This gives a magnification of about 125% in presentation mode over normal. */\n",
       "  --jp-content-presentation-font-size1: 17px !important;\n",
       "\n",
       "  --jp-content-heading-line-height: 2 !important;\n",
       "  --jp-content-heading-margin-top: 1.2em !important;\n",
       "  --jp-content-heading-margin-bottom: 0.8em !important;\n",
       "  --jp-content-heading-font-weight: 500 !important;\n",
       "\n",
       "  /* Defaults use Material Design specification */\n",
       "  --jp-content-font-color0: rgba(255, 255, 255, 1) !important;\n",
       "  --jp-content-font-color1: rgba(255, 255, 255, 1) !important;\n",
       "  --jp-content-font-color2: rgba(255, 255, 255, 0.7) !important;\n",
       "  --jp-content-font-color3: rgba(255, 255, 255, 0.5) !important;\n",
       "\n",
       "  --jp-content-link-color: var(--md-blue-300) !important;\n",
       "\n",
       "  --jp-content-font-family: 'Source Han Code JP L', -apple-system, BlinkMacSystemFont, 'Segoe UI',\n",
       "    Helvetica, Arial, sans-serif, 'Apple Color Emoji', 'Segoe UI Emoji',\n",
       "    'Segoe UI Symbol' !important;\n",
       "\n",
       "  /*\n",
       "   * Code Fonts\n",
       "   *\n",
       "   * Code font variables are used for typography of code and other monospaces content.\n",
       "   */\n",
       "\n",
       "  --jp-code-font-size: 13px !important;\n",
       "  --jp-code-line-height: 1.3077 !important; /* 17px for 13px base */\n",
       "  --jp-code-padding: 0.385em !important; /* 5px for 13px base */\n",
       "  --jp-code-font-family-default: 'Source Han Code JP L', Menlo, Consolas, 'DejaVu Sans Mono', monospace !important;\n",
       "  --jp-code-font-family: var(--jp-code-font-family-default) !important;\n",
       "\n",
       "  /* This gives a magnification of about 125% in presentation mode over normal. */\n",
       "  --jp-code-presentation-font-size: 16px !important;\n",
       "\n",
       "  /* Layout\n",
       "   *\n",
       "   * The following are the main layout colors use in JupyterLab. In a light\n",
       "   * theme these would go from light to dark.\n",
       "   */\n",
       "\n",
       "  --jp-layout-color0: #111111 !important;\n",
       "  --jp-layout-color1: var(--md-grey-900) !important;\n",
       "  --jp-layout-color2: var(--md-grey-800) !important;\n",
       "  --jp-layout-color3: var(--md-grey-700) !important;\n",
       "  --jp-layout-color4: var(--md-grey-600) !important;\n",
       "\n",
       "  /* Inverse Layout\n",
       "   *\n",
       "   * The following are the inverse layout colors use in JupyterLab. In a light\n",
       "   * theme these would go from dark to light.\n",
       "   */\n",
       "\n",
       "  --jp-inverse-layout-color0: white !important;\n",
       "  --jp-inverse-layout-color1: white !important;\n",
       "  --jp-inverse-layout-color2: var(--md-grey-200) !important;\n",
       "  --jp-inverse-layout-color3: var(--md-grey-400) !important;\n",
       "  --jp-inverse-layout-color4: var(--md-grey-600) !important;\n",
       "\n",
       "  /* Brand/accent */\n",
       "\n",
       "  --jp-brand-color0: var(--md-blue-700) !important;\n",
       "  --jp-brand-color1: var(--md-blue-500) !important;\n",
       "  --jp-brand-color2: var(--md-blue-300) !important;\n",
       "  --jp-brand-color3: var(--md-blue-100) !important;\n",
       "\n",
       "  --jp-accent-color0: var(--md-green-700) !important;\n",
       "  --jp-accent-color1: var(--md-green-500) !important;\n",
       "  --jp-accent-color2: var(--md-green-300) !important;\n",
       "  --jp-accent-color3: var(--md-green-100) !important;\n",
       "\n",
       "  /* State colors (warn, error, success, info) */\n",
       "\n",
       "  --jp-warn-color0: var(--md-orange-700) !important;\n",
       "  --jp-warn-color1: var(--md-orange-500) !important;\n",
       "  --jp-warn-color2: var(--md-orange-300) !important;\n",
       "  --jp-warn-color3: var(--md-orange-100) !important;\n",
       "\n",
       "  --jp-error-color0: var(--md-red-700) !important;\n",
       "  --jp-error-color1: var(--md-red-500) !important;\n",
       "  --jp-error-color2: var(--md-red-300) !important;\n",
       "  --jp-error-color3: var(--md-red-100) !important;\n",
       "\n",
       "  --jp-success-color0: var(--md-green-700) !important;\n",
       "  --jp-success-color1: var(--md-green-500) !important;\n",
       "  --jp-success-color2: var(--md-green-300) !important;\n",
       "  --jp-success-color3: var(--md-green-100) !important;\n",
       "\n",
       "  --jp-info-color0: var(--md-cyan-700) !important;\n",
       "  --jp-info-color1: var(--md-cyan-500) !important;\n",
       "  --jp-info-color2: var(--md-cyan-300) !important;\n",
       "  --jp-info-color3: var(--md-cyan-100) !important;\n",
       "\n",
       "  /* Cell specific styles */\n",
       "\n",
       "  --jp-cell-padding: 8px !important;  /* cell間のスペース */\n",
       "\n",
       "  --jp-cell-collapser-width: 8px !important;\n",
       "  --jp-cell-collapser-min-height: 20px !important;\n",
       "  --jp-cell-collapser-not-active-hover-opacity: 0.6 !important;\n",
       "\n",
       "  --jp-cell-editor-background: var(--md-grey-900) !important;\n",
       "  --jp-cell-editor-border-color: var(--md-grey-700) !important;\n",
       "  --jp-cell-editor-box-shadow: inset 0 0 2px var(--md-blue-300) !important;\n",
       "  --jp-cell-editor-active-background: var(--md-grey-900) !important;\n",
       "  --jp-cell-editor-active-border-color: var(--jp-brand-color1) !important;\n",
       "\n",
       "  --jp-cell-prompt-width: 64px !important;\n",
       "  --jp-cell-prompt-font-family: 'Source Han Code JP L', monospace !important;\n",
       "  --jp-cell-prompt-letter-spacing: 0px !important;\n",
       "  --jp-cell-prompt-opacity: 1 !important;\n",
       "  --jp-cell-prompt-not-active-opacity: 1 !important;\n",
       "  --jp-cell-prompt-not-active-font-color: var(--md-grey-300) !important;\n",
       "\n",
       "  /* A custom blend of MD grey and blue 600\n",
       "   * See https://meyerweb.com/eric/tools/color-blend/#546E7A:1E88E5:5:hex */\n",
       "  --jp-cell-inprompt-font-color: #307fc1 !important;\n",
       "  /* A custom blend of MD grey and orange 600\n",
       "   * https://meyerweb.com/eric/tools/color-blend/#546E7A:F4511E:5:hex */\n",
       "  --jp-cell-outprompt-font-color: #bf5b3d !important;\n",
       "\n",
       "  /* Notebook specific styles */\n",
       "\n",
       "  --jp-notebook-padding: 10px !important;\n",
       "  --jp-notebook-scroll-padding: 100px !important;\n",
       "  --jp-notebook-select-background: var(--md-grey-900) !important;\n",
       "  --jp-notebook-multiselected-color: rgba(33, 150, 243, 0.24) !important;\n",
       "\n",
       "  /* Rendermime styles */\n",
       "\n",
       "  --jp-rendermime-error-background: var(--md-grey-900) !important;\n",
       "  --jp-rendermime-table-row-background: var(--md-grey-900) !important;\n",
       "  --jp-rendermime-table-row-hover-background: rgba(3, 169, 244, 0.2) !important;\n",
       "\n",
       "  /* Dialog specific styles */\n",
       "\n",
       "  --jp-dialog-background: rgba(0, 0, 0, 0.6) !important;\n",
       "\n",
       "  /* Console specific styles */\n",
       "\n",
       "  --jp-console-padding: 10px !important;\n",
       "\n",
       "  /* Toolbar specific styles */\n",
       "\n",
       "  --jp-toolbar-border-color: var(--jp-border-color2) !important;\n",
       "  --jp-toolbar-micro-height: 8px !important;\n",
       "  --jp-toolbar-background: var(--md-grey-900) !important;\n",
       "  --jp-toolbar-box-shadow: 0px 0px 2px 0px rgba(0, 0, 0, 0.8) !important;\n",
       "  --jp-toolbar-header-margin: 4px 4px 0px 4px !important;\n",
       "  --jp-toolbar-active-background: var(--jp-layout-color0) !important;\n",
       "\n",
       "  /* Input field styles */\n",
       "\n",
       "  --jp-input-box-shadow: inset 0 0 2px var(--md-blue-300) !important;\n",
       "  --jp-input-active-background: var(--md-grey-900) !important;\n",
       "  --jp-input-hover-background: var(--md-grey-900) !important;\n",
       "  --jp-input-background: var(--md-grey-900) !important;\n",
       "  --jp-input-border-color: var(--jp-border-color1) !important;\n",
       "  --jp-input-active-border-color: var(--jp-brand-color1) !important;\n",
       "\n",
       "  /* General editor styles */\n",
       "\n",
       "  --jp-editor-selected-background: var(--md-grey-900) !important;\n",
       "  --jp-editor-selected-focused-background: var(--md-grey-700) !important;\n",
       "  --jp-editor-cursor-color: var(--jp-ui-font-color0) !important;\n",
       "\n",
       "  /* Code mirror specific styles */\n",
       "\n",
       "  --jp-mirror-editor-keyword-color: var(--md-pink-100) !important;\n",
       "  --jp-mirror-editor-atom-color: var(--md-blue-300) !important;\n",
       "  --jp-mirror-editor-number-color: white !important;\n",
       "  --jp-mirror-editor-def-color: var(--md-orange-200) !important;   /* 関数名 */\n",
       "  --jp-mirror-editor-variable-color: white !important;\n",
       "  --jp-mirror-editor-variable-2-color: var(--md-blue-100) !important;\n",
       "  --jp-mirror-editor-variable-3-color: var(--md-pink-100) !important;\n",
       "  --jp-mirror-editor-punctuation-color: var(--md-blue-100) !important;\n",
       "  --jp-mirror-editor-property-color: var(--md-blue-100) !important;\n",
       "  --jp-mirror-editor-operator-color: var(--md-pink-100)  !important;  /* = */\n",
       "  --jp-mirror-editor-comment-color: var(--md-green-200) !important;   /* コメント */\n",
       "  --jp-mirror-editor-string-color: \tvar(--md-cyan-200) !important;    /* 文字列 */\n",
       "  --jp-mirror-editor-string-2-color: var(--md-purple-300) !important;\n",
       "  --jp-mirror-editor-meta-color: var(--md-pink-200) !important;\n",
       "  --jp-mirror-editor-qualifier-color: #555 !important;\n",
       "  --jp-mirror-editor-builtin-color: var(--md-pink-100) !important;\n",
       "  --jp-mirror-editor-bracket-color: cyan !important;\n",
       "  --jp-mirror-editor-tag-color: var(--md-blue-200) !important;  /* markdown */\n",
       "  --jp-mirror-editor-attribute-color: var(--md-blue-700) !important;\n",
       "  --jp-mirror-editor-header-color: var(--md-blue-500) !important;\n",
       "  --jp-mirror-editor-quote-color: var(--md-green-300) !important;\n",
       "  --jp-mirror-editor-link-color: var(--md-blue-200) !important;\n",
       "  --jp-mirror-editor-error-color: #f00 !important;\n",
       "  --jp-mirror-editor-hr-color: #999 !important;\n",
       "\n",
       "  /* Vega extension styles */\n",
       "\n",
       "  --jp-vega-background: var(--md-grey-900) !important;\n",
       "\n",
       "  /* Sidebar-related styles */\n",
       "\n",
       "  --jp-sidebar-min-width: 180px !important;\n",
       "}</style>"
      ],
      "text/plain": [
       "<IPython.core.display.HTML object>"
      ]
     },
     "metadata": {},
     "output_type": "display_data"
    }
   ],
   "source": [
    "from IPython.core.display import display, HTML\n",
    "display(HTML(\"<style>.jp-Cell { width:100% !important; margin: 0 auto; }</style>\"))\n",
    "with open('./material/variables.css') as f: \n",
    "    css = f.read().replace(';', ' !important;')\n",
    "display(HTML('<style type=\"text/css\">%s</style>'%css))"
   ]
  },
  {
   "cell_type": "markdown",
   "metadata": {
    "id": "1EQiVyvJK9OJ"
   },
   "source": [
    "## 散布図と相関係数"
   ]
  },
  {
   "cell_type": "markdown",
   "metadata": {},
   "source": [
    "- アヤメのデータセット\n",
    "    - Sepal Length – がく片の長さ(cm)\n",
    "    - Sepal Width – がく片の幅(cm)\n",
    "    - Petal Length – 花弁の長さ(cm)\n",
    "    - Petal Width – 花弁の幅(cm)"
   ]
  },
  {
   "cell_type": "code",
   "execution_count": 5,
   "metadata": {
    "executionInfo": {
     "elapsed": 1260,
     "status": "ok",
     "timestamp": 1635148279091,
     "user": {
      "displayName": "Takuma Narizuka",
      "photoUrl": "https://lh3.googleusercontent.com/a-/AOh14GikY77c5HAiZw_0rE6X-EeMqDO36i0lZAZwgUjINg=s64",
      "userId": "11234403743201202105"
     },
     "user_tz": -540
    },
    "id": "LYBjf4W9lZw0"
   },
   "outputs": [],
   "source": [
    "# アヤメデータの読み込み\n",
    "Iris = pd.read_csv('material/sec_2-1/Iris.csv').iloc[:, 1:5]\n",
    "Iris.columns=['Sepal_Length', 'Sepal_Width', 'Petal_Length', 'Petal_Width']"
   ]
  },
  {
   "cell_type": "code",
   "execution_count": 6,
   "metadata": {},
   "outputs": [
    {
     "data": {
      "text/html": [
       "<div>\n",
       "<style scoped>\n",
       "    .dataframe tbody tr th:only-of-type {\n",
       "        vertical-align: middle;\n",
       "    }\n",
       "\n",
       "    .dataframe tbody tr th {\n",
       "        vertical-align: top;\n",
       "    }\n",
       "\n",
       "    .dataframe thead th {\n",
       "        text-align: right;\n",
       "    }\n",
       "</style>\n",
       "<table border=\"1\" class=\"dataframe\">\n",
       "  <thead>\n",
       "    <tr style=\"text-align: right;\">\n",
       "      <th></th>\n",
       "      <th>Sepal_Length</th>\n",
       "      <th>Sepal_Width</th>\n",
       "      <th>Petal_Length</th>\n",
       "      <th>Petal_Width</th>\n",
       "    </tr>\n",
       "  </thead>\n",
       "  <tbody>\n",
       "    <tr>\n",
       "      <th>0</th>\n",
       "      <td>5.1</td>\n",
       "      <td>3.5</td>\n",
       "      <td>1.4</td>\n",
       "      <td>0.2</td>\n",
       "    </tr>\n",
       "    <tr>\n",
       "      <th>1</th>\n",
       "      <td>4.9</td>\n",
       "      <td>3.0</td>\n",
       "      <td>1.4</td>\n",
       "      <td>0.2</td>\n",
       "    </tr>\n",
       "    <tr>\n",
       "      <th>2</th>\n",
       "      <td>4.7</td>\n",
       "      <td>3.2</td>\n",
       "      <td>1.3</td>\n",
       "      <td>0.2</td>\n",
       "    </tr>\n",
       "    <tr>\n",
       "      <th>3</th>\n",
       "      <td>4.6</td>\n",
       "      <td>3.1</td>\n",
       "      <td>1.5</td>\n",
       "      <td>0.2</td>\n",
       "    </tr>\n",
       "    <tr>\n",
       "      <th>4</th>\n",
       "      <td>5.0</td>\n",
       "      <td>3.6</td>\n",
       "      <td>1.4</td>\n",
       "      <td>0.2</td>\n",
       "    </tr>\n",
       "    <tr>\n",
       "      <th>...</th>\n",
       "      <td>...</td>\n",
       "      <td>...</td>\n",
       "      <td>...</td>\n",
       "      <td>...</td>\n",
       "    </tr>\n",
       "    <tr>\n",
       "      <th>145</th>\n",
       "      <td>6.7</td>\n",
       "      <td>3.0</td>\n",
       "      <td>5.2</td>\n",
       "      <td>2.3</td>\n",
       "    </tr>\n",
       "    <tr>\n",
       "      <th>146</th>\n",
       "      <td>6.3</td>\n",
       "      <td>2.5</td>\n",
       "      <td>5.0</td>\n",
       "      <td>1.9</td>\n",
       "    </tr>\n",
       "    <tr>\n",
       "      <th>147</th>\n",
       "      <td>6.5</td>\n",
       "      <td>3.0</td>\n",
       "      <td>5.2</td>\n",
       "      <td>2.0</td>\n",
       "    </tr>\n",
       "    <tr>\n",
       "      <th>148</th>\n",
       "      <td>6.2</td>\n",
       "      <td>3.4</td>\n",
       "      <td>5.4</td>\n",
       "      <td>2.3</td>\n",
       "    </tr>\n",
       "    <tr>\n",
       "      <th>149</th>\n",
       "      <td>5.9</td>\n",
       "      <td>3.0</td>\n",
       "      <td>5.1</td>\n",
       "      <td>1.8</td>\n",
       "    </tr>\n",
       "  </tbody>\n",
       "</table>\n",
       "<p>150 rows × 4 columns</p>\n",
       "</div>"
      ],
      "text/plain": [
       "     Sepal_Length  Sepal_Width  Petal_Length  Petal_Width\n",
       "0             5.1          3.5           1.4          0.2\n",
       "1             4.9          3.0           1.4          0.2\n",
       "2             4.7          3.2           1.3          0.2\n",
       "3             4.6          3.1           1.5          0.2\n",
       "4             5.0          3.6           1.4          0.2\n",
       "..            ...          ...           ...          ...\n",
       "145           6.7          3.0           5.2          2.3\n",
       "146           6.3          2.5           5.0          1.9\n",
       "147           6.5          3.0           5.2          2.0\n",
       "148           6.2          3.4           5.4          2.3\n",
       "149           5.9          3.0           5.1          1.8\n",
       "\n",
       "[150 rows x 4 columns]"
      ]
     },
     "execution_count": 6,
     "metadata": {},
     "output_type": "execute_result"
    }
   ],
   "source": [
    "Iris"
   ]
  },
  {
   "cell_type": "markdown",
   "metadata": {},
   "source": [
    "### がく片の長さと幅の相関"
   ]
  },
  {
   "cell_type": "code",
   "execution_count": 7,
   "metadata": {},
   "outputs": [
    {
     "data": {
      "text/plain": [
       "Text(0, 0.5, 'Sepal Width [cm]')"
      ]
     },
     "execution_count": 7,
     "metadata": {},
     "output_type": "execute_result"
    },
    {
     "data": {
      "image/png": "[encoded data removed]",
      "text/plain": [
       "<Figure size 350x300 with 1 Axes>"
      ]
     },
     "metadata": {
      "filenames": {
       "image/png": "/Users/narizuka/work/document/lecture/rissho/info_process/2022/material/_build/jupyter_execute/chap_2/sec_2-3/sec_2-3_15_1.png"
      }
     },
     "output_type": "display_data"
    }
   ],
   "source": [
    "# 散布図\n",
    "fig, ax = plt.subplots()\n",
    "ax.plot(Iris['Sepal_Length'], Iris['Sepal_Width'], 'co', mfc='None')\n",
    "ax.set_xlim(4, 8); ax.set_ylim(0, 5)\n",
    "ax.set_xlabel('Sepal Length [cm]')\n",
    "ax.set_ylabel('Sepal Width [cm]')\n",
    "# fig.savefig('figure/sepal_l-w.pdf', bbox_inches=\"tight\", pad_inches=0.2, transparent=True, dpi=300) # 保存"
   ]
  },
  {
   "cell_type": "code",
   "execution_count": 13,
   "metadata": {},
   "outputs": [
    {
     "data": {
      "text/html": [
       "<div>\n",
       "<style scoped>\n",
       "    .dataframe tbody tr th:only-of-type {\n",
       "        vertical-align: middle;\n",
       "    }\n",
       "\n",
       "    .dataframe tbody tr th {\n",
       "        vertical-align: top;\n",
       "    }\n",
       "\n",
       "    .dataframe thead th {\n",
       "        text-align: right;\n",
       "    }\n",
       "</style>\n",
       "<table border=\"1\" class=\"dataframe\">\n",
       "  <thead>\n",
       "    <tr style=\"text-align: right;\">\n",
       "      <th></th>\n",
       "      <th>Sepal_Length</th>\n",
       "      <th>Sepal_Width</th>\n",
       "      <th>Petal_Length</th>\n",
       "      <th>Petal_Width</th>\n",
       "    </tr>\n",
       "  </thead>\n",
       "  <tbody>\n",
       "    <tr>\n",
       "      <th>Sepal_Length</th>\n",
       "      <td>1.00</td>\n",
       "      <td>-0.11</td>\n",
       "      <td>0.87</td>\n",
       "      <td>0.82</td>\n",
       "    </tr>\n",
       "    <tr>\n",
       "      <th>Sepal_Width</th>\n",
       "      <td>-0.11</td>\n",
       "      <td>1.00</td>\n",
       "      <td>-0.42</td>\n",
       "      <td>-0.36</td>\n",
       "    </tr>\n",
       "    <tr>\n",
       "      <th>Petal_Length</th>\n",
       "      <td>0.87</td>\n",
       "      <td>-0.42</td>\n",
       "      <td>1.00</td>\n",
       "      <td>0.96</td>\n",
       "    </tr>\n",
       "    <tr>\n",
       "      <th>Petal_Width</th>\n",
       "      <td>0.82</td>\n",
       "      <td>-0.36</td>\n",
       "      <td>0.96</td>\n",
       "      <td>1.00</td>\n",
       "    </tr>\n",
       "  </tbody>\n",
       "</table>\n",
       "</div>"
      ],
      "text/plain": [
       "              Sepal_Length  Sepal_Width  Petal_Length  Petal_Width\n",
       "Sepal_Length          1.00        -0.11          0.87         0.82\n",
       "Sepal_Width          -0.11         1.00         -0.42        -0.36\n",
       "Petal_Length          0.87        -0.42          1.00         0.96\n",
       "Petal_Width           0.82        -0.36          0.96         1.00"
      ]
     },
     "execution_count": 13,
     "metadata": {},
     "output_type": "execute_result"
    }
   ],
   "source": [
    "# 相関係数\n",
    "Iris.corr()"
   ]
  },
  {
   "cell_type": "code",
   "execution_count": 14,
   "metadata": {},
   "outputs": [
    {
     "data": {
      "text/plain": [
       "-0.10936924995064935"
      ]
     },
     "execution_count": 14,
     "metadata": {},
     "output_type": "execute_result"
    }
   ],
   "source": [
    "Iris.corr()['Sepal_Length']['Sepal_Width']"
   ]
  },
  {
   "cell_type": "code",
   "execution_count": 11,
   "metadata": {},
   "outputs": [
    {
     "data": {
      "text/plain": [
       "array([[ 1.  , -0.11],\n",
       "       [-0.11,  1.  ]])"
      ]
     },
     "execution_count": 11,
     "metadata": {},
     "output_type": "execute_result"
    }
   ],
   "source": [
    "np.corrcoef(Iris['Sepal_Length'], Iris['Sepal_Width'])"
   ]
  },
  {
   "cell_type": "markdown",
   "metadata": {},
   "source": [
    "### 花弁の長さと幅の相関"
   ]
  },
  {
   "cell_type": "code",
   "execution_count": 11,
   "metadata": {},
   "outputs": [
    {
     "data": {
      "text/plain": [
       "Text(0, 0.5, 'Petal Width [cm]')"
      ]
     },
     "execution_count": 11,
     "metadata": {},
     "output_type": "execute_result"
    },
    {
     "data": {
      "image/png": "[encoded data removed]",
      "text/plain": [
       "<Figure size 350x300 with 1 Axes>"
      ]
     },
     "metadata": {
      "filenames": {
       "image/png": "/Users/narizuka/work/document/lecture/rissho/info_process/2022/material/_build/jupyter_execute/chap_2/sec_2-3/sec_2-3_20_1.png"
      }
     },
     "output_type": "display_data"
    }
   ],
   "source": [
    "# 散布図\n",
    "fig, ax = plt.subplots()\n",
    "ax.plot(Iris['Petal_Length'], Iris['Petal_Width'], 'co', mfc='None')\n",
    "ax.set_xlim(0, 8); ax.set_ylim(0, 3)\n",
    "ax.set_xlabel('Petal Length [cm]')\n",
    "ax.set_ylabel('Petal Width [cm]')\n",
    "# fig.savefig('figure/petal_l-w.pdf', bbox_inches=\"tight\", pad_inches=0.2, transparent=True, dpi=300) # 保存"
   ]
  },
  {
   "cell_type": "code",
   "execution_count": 12,
   "metadata": {},
   "outputs": [
    {
     "data": {
      "text/plain": [
       "0.9627570970509667"
      ]
     },
     "execution_count": 12,
     "metadata": {},
     "output_type": "execute_result"
    }
   ],
   "source": [
    "# 相関係数\n",
    "Iris.corr()['Petal_Length']['Petal_Width']"
   ]
  },
  {
   "cell_type": "markdown",
   "metadata": {},
   "source": [
    "## 実例：警察職員数と刑法犯認知件数の関係"
   ]
  },
  {
   "cell_type": "markdown",
   "metadata": {},
   "source": [
    "### STEP1: Problem\n",
    "- ある統計によると，警察官の数と犯罪の件数には正の相関関係があると言われている．\n",
    "- では，これらの間に因果関係はあるだろうか？"
   ]
  },
  {
   "cell_type": "markdown",
   "metadata": {},
   "source": [
    "### STEP2, 3: Plan, Data"
   ]
  },
  {
   "cell_type": "markdown",
   "metadata": {},
   "source": [
    "- 都道府県別の警察職員数と刑法犯認知件数のデータを用い，これらの相関関係および因果関係の有無を調べることにする．\n",
    "- 今回用いるデータは以下の通りである：\n",
    "    - 都道府県別の刑法犯認知件数\n",
    "        - [H27年，都道府県別刑法犯の認知件数，検挙件数，検挙人員](https://www.npa.go.jp/hakusyo/h27/data.html)\n",
    "    - 都道府県別の警察職員数\n",
    "        - [H27年，地方公共団体定員管理関係](https://www.soumu.go.jp/main_sosiki/jichi_gyousei/c-gyousei/teiin/109981data.html)\n",
    "     - 都道府県別の人口\n",
    "         - [住民基本台帳に基づく人口，人口動態及び世帯数調査](https://www.e-stat.go.jp/stat-search/files?page=1&layout=datalist&toukei=00200241&tstat=000001039591&cycle=7&year=20150&month=0&tclass1=000001039601&result_back=1&tclass2val=0)"
   ]
  },
  {
   "cell_type": "code",
   "execution_count": 13,
   "metadata": {},
   "outputs": [],
   "source": [
    "# データの読み込み\n",
    "Crime = pd.read_csv('material/sec_2-3/number_crime.csv', index_col='p')"
   ]
  },
  {
   "cell_type": "markdown",
   "metadata": {},
   "source": [
    "- 下図は2015年度の都道府県別警察職員数と刑法犯認知件数の散布図を表している．\n",
    "- この散布図を見ると確かに両者には正の相関関係があり，相関係数も高くなりそうである．\n",
    "- では，このことから警察職員数と刑法犯認知件数に因果関係があるといえるだろうか？\n",
    "- これを調べるため，今回は都道府県の人口を第3の変数と仮定して解析を行う．"
   ]
  },
  {
   "cell_type": "code",
   "execution_count": 14,
   "metadata": {},
   "outputs": [
    {
     "data": {
      "text/plain": [
       "Text(0, 0.5, '刑法犯認知件数（万件）')"
      ]
     },
     "execution_count": 14,
     "metadata": {},
     "output_type": "execute_result"
    },
    {
     "data": {
      "image/png": "[encoded data removed]",
      "text/plain": [
       "<Figure size 350x300 with 1 Axes>"
      ]
     },
     "metadata": {
      "filenames": {
       "image/png": "/Users/narizuka/work/document/lecture/rissho/info_process/2022/material/_build/jupyter_execute/chap_2/sec_2-3/sec_2-3_28_1.png"
      }
     },
     "output_type": "display_data"
    }
   ],
   "source": [
    "fig, ax = plt.subplots()\n",
    "ax.plot(Crime['警察職員数']/10000, Crime['刑法犯認知件数']/10000, 'co', mfc='None')\n",
    "ax.set_xticks([0, 1, 2, 3, 4]); ax.set_yticks([0, 5, 10, 15])\n",
    "ax.set_xlabel('警察職員数（万人）')\n",
    "ax.set_ylabel('刑法犯認知件数（万件）')\n",
    "# fig.savefig('figure/police_crime.pdf', bbox_inches=\"tight\", pad_inches=0.2, transparent=True, dpi=300) # 保存"
   ]
  },
  {
   "cell_type": "markdown",
   "metadata": {},
   "source": [
    "#### 実習：相関係数\n",
    "- 上図について，相関係数を求めよ．"
   ]
  },
  {
   "cell_type": "code",
   "execution_count": 7,
   "metadata": {},
   "outputs": [
    {
     "data": {
      "text/plain": [
       "0.9424697256476458"
      ]
     },
     "execution_count": 7,
     "metadata": {},
     "output_type": "execute_result"
    }
   ],
   "source": [
    "# 相関係数\n",
    "Crime.corr()['刑法犯認知件数']['警察職員数']"
   ]
  },
  {
   "cell_type": "markdown",
   "metadata": {},
   "source": [
    "### STEP4: Analysis\n",
    "\n",
    "- まず，都道府県の人口を第3の変数と仮定し，警察職員数と刑法犯認知件数の関係が疑似相関であるか調べる．"
   ]
  },
  {
   "cell_type": "markdown",
   "metadata": {},
   "source": [
    "#### 実習：人口との散布図\n",
    "- 刑法犯認知件数と警察職員数のそれぞれについて人口との散布図を描け．\n",
    "- これらの散布図の相関係数を求め，それが何を意味するか考察せよ．"
   ]
  },
  {
   "cell_type": "code",
   "execution_count": 15,
   "metadata": {},
   "outputs": [
    {
     "data": {
      "text/plain": [
       "Text(0, 0.5, '刑法犯認知件数（万件）')"
      ]
     },
     "execution_count": 15,
     "metadata": {},
     "output_type": "execute_result"
    },
    {
     "data": {
      "image/png": "[encoded data removed]",
      "text/plain": [
       "<Figure size 350x300 with 1 Axes>"
      ]
     },
     "metadata": {
      "filenames": {
       "image/png": "/Users/narizuka/work/document/lecture/rissho/info_process/2022/material/_build/jupyter_execute/chap_2/sec_2-3/sec_2-3_33_1.png"
      }
     },
     "output_type": "display_data"
    }
   ],
   "source": [
    "fig, ax = plt.subplots()\n",
    "ax.plot(Crime['人口']/10000, Crime['刑法犯認知件数']/10000, 'co', mfc='None')\n",
    "ax.set_xticks([0, 500, 1000]); ax.set_yticks([0, 5, 10, 15])\n",
    "ax.set_xlabel('人口（万人）')\n",
    "ax.set_ylabel('刑法犯認知件数（万件）')\n",
    "# fig.savefig('figure/pop_crime.pdf', bbox_inches=\"tight\", pad_inches=0.2, transparent=True, dpi=300) # 保存"
   ]
  },
  {
   "cell_type": "code",
   "execution_count": 16,
   "metadata": {},
   "outputs": [
    {
     "data": {
      "text/plain": [
       "0.9576469769539204"
      ]
     },
     "execution_count": 16,
     "metadata": {},
     "output_type": "execute_result"
    }
   ],
   "source": [
    "# 相関係数\n",
    "Crime.corr()['人口']['刑法犯認知件数']"
   ]
  },
  {
   "cell_type": "code",
   "execution_count": 17,
   "metadata": {},
   "outputs": [
    {
     "data": {
      "text/plain": [
       "Text(0, 0.5, '警察職員数（万人）')"
      ]
     },
     "execution_count": 17,
     "metadata": {},
     "output_type": "execute_result"
    },
    {
     "data": {
      "image/png": "[encoded data removed]",
      "text/plain": [
       "<Figure size 350x300 with 1 Axes>"
      ]
     },
     "metadata": {
      "filenames": {
       "image/png": "/Users/narizuka/work/document/lecture/rissho/info_process/2022/material/_build/jupyter_execute/chap_2/sec_2-3/sec_2-3_35_1.png"
      }
     },
     "output_type": "display_data"
    }
   ],
   "source": [
    "fig, ax = plt.subplots()\n",
    "ax.plot(Crime['人口']/10000, Crime['警察職員数']/10000, 'co', mfc='None')\n",
    "ax.set_xticks([0, 500, 1000]); ax.set_yticks([0, 1, 2, 3, 4])\n",
    "ax.set_xlabel('人口（万人）')\n",
    "ax.set_ylabel('警察職員数（万人）')\n",
    "# fig.savefig('figure/pop_police.pdf', bbox_inches=\"tight\", pad_inches=0.2, transparent=True, dpi=300) # 保存"
   ]
  },
  {
   "cell_type": "code",
   "execution_count": 18,
   "metadata": {},
   "outputs": [
    {
     "data": {
      "text/plain": [
       "0.9478341323186452"
      ]
     },
     "execution_count": 18,
     "metadata": {},
     "output_type": "execute_result"
    }
   ],
   "source": [
    "# 相関係数\n",
    "Crime.corr()['人口']['警察職員数']"
   ]
  },
  {
   "cell_type": "markdown",
   "metadata": {},
   "source": [
    "#### 実習：人口の影響を取り除く方法\n",
    "- 刑法犯認知件数と警察職員数の散布図について，人口が100万人未満，100万人以上200万人未満，200万人以上500万人未満で層別し，結果を考察せよ．\n",
    "- 人口1000人あたりの警察職員数と刑法犯罪認知件数に関する散布図を描いてその相関係数を求め，結果を考察せよ．\n",
    "- 人口の影響を除いた警察職員数と刑法犯認知件数の偏相関係数を求め，結果を考察せよ．"
   ]
  },
  {
   "cell_type": "code",
   "execution_count": 25,
   "metadata": {},
   "outputs": [],
   "source": [
    "cnd1 = (Crime['人口'] <  1000000)\n",
    "cnd2 = (Crime['人口'] >= 1000000) & (Crime['人口'] < 2000000)\n",
    "cnd3 = (Crime['人口'] >= 2000000) & (Crime['人口'] < 5000000)"
   ]
  },
  {
   "cell_type": "code",
   "execution_count": 26,
   "metadata": {},
   "outputs": [
    {
     "data": {
      "text/plain": [
       "Text(0, 0.5, '刑法犯認知件数（万件）')"
      ]
     },
     "execution_count": 26,
     "metadata": {},
     "output_type": "execute_result"
    },
    {
     "data": {
      "image/png": "[encoded data removed]",
      "text/plain": [
       "<Figure size 350x300 with 1 Axes>"
      ]
     },
     "metadata": {
      "filenames": {
       "image/png": "/Users/narizuka/work/document/lecture/rissho/info_process/2022/material/_build/jupyter_execute/chap_2/sec_2-3/sec_2-3_39_1.png"
      }
     },
     "output_type": "display_data"
    }
   ],
   "source": [
    "# 層別散布図\n",
    "fig, ax = plt.subplots()\n",
    "ax.plot(Crime.loc[cnd1, '警察職員数']/1000, Crime.loc[cnd1, '刑法犯認知件数']/10000, 'ko', mfc='None')\n",
    "ax.plot(Crime.loc[cnd2, '警察職員数']/1000, Crime.loc[cnd2, '刑法犯認知件数']/10000, 'co', mfc='None')\n",
    "ax.plot(Crime.loc[cnd3, '警察職員数']/1000, Crime.loc[cnd3, '刑法犯認知件数']/10000, 'mo', mfc='None')\n",
    "ax.set_xticks([0, 1, 2, 3, 4, 5, 6, 7]); ax.set_yticks([0, 1, 2, 3])\n",
    "ax.set_xlabel('警察職員数（千人）')\n",
    "ax.set_ylabel('刑法犯認知件数（万件）')\n",
    "# fig.savefig('figure/police_crime2.pdf', bbox_inches=\"tight\", pad_inches=0.2, transparent=True, dpi=300) # 保存"
   ]
  },
  {
   "cell_type": "code",
   "execution_count": 24,
   "metadata": {},
   "outputs": [
    {
     "data": {
      "text/plain": [
       "Text(0, 0.5, '刑法犯認知件数（人口1000人あたり）')"
      ]
     },
     "execution_count": 24,
     "metadata": {},
     "output_type": "execute_result"
    },
    {
     "data": {
      "image/png": "[encoded data removed]",
      "text/plain": [
       "<Figure size 350x300 with 1 Axes>"
      ]
     },
     "metadata": {
      "filenames": {
       "image/png": "/Users/narizuka/work/document/lecture/rissho/info_process/2022/material/_build/jupyter_execute/chap_2/sec_2-3/sec_2-3_40_1.png"
      }
     },
     "output_type": "display_data"
    }
   ],
   "source": [
    "# 人口1000人あたりの散布図\n",
    "fig, ax = plt.subplots()\n",
    "ax.plot(1000*Crime['警察職員数']/Crime['人口'], 1000*Crime['刑法犯認知件数']/Crime['人口'], 'co', mfc='None')\n",
    "ax.set_xticks([2, 2.5, 3, 3.5]); ax.set_yticks([0, 5, 10, 15])\n",
    "ax.set_xlabel('警察職員数（人口1000人あたり）')\n",
    "ax.set_ylabel('刑法犯認知件数（人口1000人あたり）')\n",
    "# fig.savefig('figure/police_crime3.pdf', bbox_inches=\"tight\", pad_inches=0.2, transparent=True, dpi=300) # 保存"
   ]
  },
  {
   "cell_type": "code",
   "execution_count": 23,
   "metadata": {},
   "outputs": [
    {
     "data": {
      "text/plain": [
       "0.37891466581890526"
      ]
     },
     "execution_count": 23,
     "metadata": {},
     "output_type": "execute_result"
    }
   ],
   "source": [
    "# 偏相関係数\n",
    "r = Crime.corr()\n",
    "cov = r['警察職員数']['刑法犯認知件数'] - r['警察職員数']['人口']*r['刑法犯認知件数']['人口']\n",
    "denom = np.sqrt((1-r['警察職員数']['人口']**2)*(1-r['刑法犯認知件数']['人口']**2))\n",
    "cov / denom"
   ]
  },
  {
   "cell_type": "markdown",
   "metadata": {},
   "source": [
    "### STEP 5: Conclusion\n",
    "\n",
    "#### 実習\n",
    "- 解析の結果から，警察職員数と刑法犯認知件数の間に因果関係があるかどうか考察せよ．"
   ]
  }
 ],
 "metadata": {
  "colab": {
   "name": "sec_2-2.ipynb",
   "provenance": []
  },
  "kernelspec": {
   "display_name": "Python 3",
   "language": "python",
   "name": "python3"
  },
  "language_info": {
   "codemirror_mode": {
    "name": "ipython",
    "version": 3
   },
   "file_extension": ".py",
   "mimetype": "text/x-python",
   "name": "python",
   "nbconvert_exporter": "python",
   "pygments_lexer": "ipython3",
   "version": "3.9.13"
  },
  "toc-autonumbering": false
 },
 "nbformat": 4,
 "nbformat_minor": 4
}
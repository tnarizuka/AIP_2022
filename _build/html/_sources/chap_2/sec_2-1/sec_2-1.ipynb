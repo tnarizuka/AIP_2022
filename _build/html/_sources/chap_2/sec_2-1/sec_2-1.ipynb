{
 "cells": [
  {
   "cell_type": "code",
   "execution_count": 1,
   "metadata": {},
   "outputs": [
    {
     "data": {
      "text/plain": [
       "'%.3f'"
      ]
     },
     "execution_count": 1,
     "metadata": {},
     "output_type": "execute_result"
    }
   ],
   "source": [
    "import sys, os\n",
    "import numpy as np\n",
    "import matplotlib.pyplot as plt\n",
    "try:\n",
    "    import japanize_matplotlib\n",
    "except:\n",
    "    pass\n",
    "import pandas as pd\n",
    "pd.set_option('display.precision', 2)  # 小数点以下の表示桁\n",
    "pd.set_option('display.max_rows', 20)  # 表示する行数\n",
    "%precision 3"
   ]
  },
  {
   "cell_type": "markdown",
   "metadata": {},
   "source": [
    "# データの整理"
   ]
  },
  {
   "cell_type": "markdown",
   "metadata": {},
   "source": [
    "## データの種類と尺度\n",
    "\n",
    "データには**質的データ**と**量的データ**の2種類がある．\n",
    "また，これらは，データをどのように数値に対応させるかという規則（**尺度**）によってさらに細かく分類できる．"
   ]
  },
  {
   "cell_type": "markdown",
   "metadata": {},
   "source": [
    "### 質的データ"
   ]
  },
  {
   "cell_type": "markdown",
   "metadata": {},
   "source": [
    "まず，性別（男，女），天気（晴，曇，雨，雪）など，他と区別することだけができるデータを**カテゴリカルデータ**と呼ぶ．\n",
    "カテゴリカルデータは，「男を１，女を２」などとすれば数値で表すことができるが，その数値には他と区別するという以上の意味はない．\n",
    "このように数値を割り当てる規則は**名義尺度**と呼ばれる．\n",
    "カテゴリカルデータに対しては数をカウントすること（度数や最頻値の計算）を除いて一切の計算が許されない．"
   ]
  },
  {
   "cell_type": "markdown",
   "metadata": {},
   "source": [
    "一方，スポーツの順位（1位，2位，3位）や満足度（3：満足，2：普通，1：不満）のように大小関係や前後関係が決まるデータを順序データと呼ぶ．\n",
    "順序データを作るためには，マラソンのタイムなどを大小関係だけが区別できるように数値化すれば良い．\n",
    "このように数値を割り当てる規則は**順序尺度**と呼ばれる．\n",
    "順序データに対しては大小関係を比較すること（最小値，最大値，中央値の計算，$ >, = $などの演算）が許される．\n",
    "\n",
    "以上のカテゴリカルデータと順序データを合わせて**質的データ**と呼ぶ．"
   ]
  },
  {
   "cell_type": "markdown",
   "metadata": {},
   "source": [
    "### 量的データ"
   ]
  },
  {
   "cell_type": "markdown",
   "metadata": {},
   "source": [
    "値の大小関係に加えて値の差にも意味があるようなデータを**間隔データ**と呼ぶ．\n",
    "間隔データの代表例は，摂氏・華氏温度や時刻（時間ではない）である．\n",
    "例えば，摂氏温度は水の融点を0℃，沸点を100℃としてその間を等分することで数値を定める．\n",
    "また，時刻は時間の流れの中の1点を便宜的に0とし，そこからの相対的な間隔によって数値を割り当てる．\n",
    "このように数値を割り当てる規則は**間隔尺度**と呼ばれる．\n",
    "間隔データでは，値同士の大小関係と差に意味はあるが，値同士の比に意味はない．\n",
    "実際，4℃と8℃を比較して後者の方が4℃暑いということはできるが，2倍暑いなどということはできない．\n",
    "なお，間隔データは大小関係の比較に加えて値同士の加減（$+,\\ -$の演算）が許される．\n",
    "```{margin} 摂氏温度について\n",
    "摂氏温度を比率尺度である絶対温度で表すと，4℃は277.15K，8℃は281.15Kであり，その比は2倍ではない\n",
    "```"
   ]
  },
  {
   "cell_type": "markdown",
   "metadata": {},
   "source": [
    "最後に，値の大小関係と値の差に加えて，値同士の比にも意味があるようなデータを**比率（比例）データ**と呼ぶ．\n",
    "比率データの代表例は身長，体重，年齢などである．\n",
    "例えば，身長50cmと200cmには「値の大小関係」があり，「値の差」も150cmと意味がある．\n",
    "また，「後者は前者の4倍」であると解釈でき，比が意味を持つ．\n",
    "K（ケルビン）で表される絶対温度も比率データの例である．\n",
    "実際，絶対温度において，1Kと2Kではある量（原子や分子の運動の激しさ）が実際に2倍になっているので値同士の比に意味がある．\n",
    "比率データは値同士の加減乗除が全て許される．"
   ]
  },
  {
   "cell_type": "markdown",
   "metadata": {},
   "source": [
    "間隔尺度と比率尺度が見分けづらい場合は，「0の値が相対的な意味しか持たない」場合が間隔尺度，「0の値が絶対的な意味を持つ」（ある量が実際に無いことを意味する）場合が比率尺度と考えると良い．\n",
    "例えば，摂氏温度における0は便宜的に決めたものであるが，絶対温度における0は原子や分子の運動がゼロであるという絶対的な意味を持つため，前者は間隔尺度，後者は比率尺度である．"
   ]
  },
  {
   "cell_type": "markdown",
   "metadata": {},
   "source": [
    "以上の間隔データと比率データを合わせて**量的データ**と呼ぶ．"
   ]
  },
  {
   "cell_type": "markdown",
   "metadata": {
    "id": "pT-WDWFtrZ9r"
   },
   "source": [
    "## 量的データの要約\n",
    "\n",
    "これ以降，量的データだけを対象とする．"
   ]
  },
  {
   "cell_type": "markdown",
   "metadata": {
    "id": "M2umMs32lZwu"
   },
   "source": [
    "### 五数要約\n",
    "15個の量的データがあるとする．\n",
    "これを（左から右に向かって）小さい順に並べたとき，{numref}`fig:5number`のように4等分に分割できる．\n",
    "このとき，アを**最小値**，イを**第1四分位数**，ウを**中央値（第2四分位数）**，エを**第3四分位数**，オを**最大値**と呼ぶ．\n",
    "また，データを小さい順に並べたとき，左半分のデータを下位データ，右半分のデータを上位データと呼ぶ．\n",
    "ただし，データの数が奇数個の場合は中央値を除いて下位・上位に分ける方法を採用する（中央値を両方に含める場合もある）．\n",
    "このとき，第1四分位数$ Q_{1} $は下位データの中央値，第3四分位数$ Q_{3} $は上位データの中央値である．\n",
    "以上のようにデータのばらつきを5つの数で表す方法を**五数要約**と呼ぶ．\n",
    "また，第3四分位数と第1四分位数の差$ Q_{3}-Q_{1} $を**四分位範囲**と呼ぶ．\n",
    "なお，四分位は英語でquartileなので，各四分位数（イ，ウ，エ）を$ Q_{1},\\ Q_{2},\\ Q_{3} $と表すことが多い．"
   ]
  },
  {
   "cell_type": "markdown",
   "metadata": {},
   "source": [
    "```{figure} 5number.png\n",
    "---\n",
    "height: 100px\n",
    "name: fig:5number\n",
    "---\n",
    "15個の量的データを（左から右に向かって）小さい順に並べた例．\n",
    "```"
   ]
  },
  {
   "cell_type": "markdown",
   "metadata": {},
   "source": [
    "五数要約の求め方はデータの数が奇数個の場合と偶数個の場合で異なる．\n",
    "以下に例を示す．"
   ]
  },
  {
   "cell_type": "markdown",
   "metadata": {},
   "source": [
    "**例）データが9個（奇数個）の場合**\n",
    "\n",
    "データの数が奇数個の場合は最小値，最大値，中央値が自動的に定まる．\n",
    "一方，中央値を除いて下位データと上位データに分けると，それぞれが偶数個になる．\n",
    "この場合，下位データ，上位データそれぞれの中央にくる2つの値の平均値を第1四分位数，第3四分位数とする．\n",
    "\n",
    "```\n",
    "2 3 5 5 | 6 | 8 10 12 15\n",
    "```\n",
    "この場合，中央値は$ Q_{2}=6 $となるので，これを除いて下位データと上位データに分ける．\n",
    "第1四分位数は$ Q_{1}=(3+5)/2=4 $，第3四分位数は$ Q_{3}=(10+12)/2=11 $と求まる．\n",
    "四分位範囲は$ Q_{3}-Q_{1}=11-4=7 $である．"
   ]
  },
  {
   "cell_type": "markdown",
   "metadata": {},
   "source": [
    "**例）データが10個（偶数個）の場合**\n",
    "\n",
    "データの数が偶数個の場合は中央にくる2つの値の平均値を中央値とする．\n",
    "下位データと上位データはそれぞれ奇数個に分かれるので，第1四分位数，第3四分位数は自動的に求まる．\n",
    "\n",
    "```\n",
    "2 2 5 6 7 | 9 10 13 14 18\n",
    "```\n",
    "この場合，中央値は$ Q_{2}=(7+9)/2=8 $となる．\n",
    "また，第1四分位数は$ Q_{1}=5 $，第3四分位数は$ Q_{3}=13 $と求まる．\n",
    "四分位範囲は$ Q_{3}-Q_{1}=13-5=8 $である．"
   ]
  },
  {
   "cell_type": "markdown",
   "metadata": {},
   "source": [
    "**Pythonでの実装**\n",
    "\n",
    "NumPyの`np.percentile`関数を用いると，五数要約を簡単に求めることができる．\n",
    "自分で実装する場合には，データの並び替えやデータの個数が奇数個・偶数個による場合分けなどが必要となる（Pythonの良い練習問題なのでやってみると良い）．"
   ]
  },
  {
   "cell_type": "code",
   "execution_count": 88,
   "metadata": {
    "executionInfo": {
     "elapsed": 523,
     "status": "ok",
     "timestamp": 1633931905550,
     "user": {
      "displayName": "Takuma Narizuka",
      "photoUrl": "https://lh3.googleusercontent.com/a-/AOh14GikY77c5HAiZw_0rE6X-EeMqDO36i0lZAZwgUjINg=s64",
      "userId": "11234403743201202105"
     },
     "user_tz": -540
    },
    "id": "2Q3mSrQRlZwv"
   },
   "outputs": [],
   "source": [
    "# データの作成\n",
    "x1 = [15, 20, 23, 20, 19, 21, 20, 18, 23, 18, 19, 20, 22]\n",
    "x2 = [7, 6, 9, 6, 10, 13, 12, 10, 14, 18, 7, 10, 13, 22]"
   ]
  },
  {
   "cell_type": "code",
   "execution_count": 89,
   "metadata": {
    "colab": {
     "base_uri": "https://localhost:8080/"
    },
    "executionInfo": {
     "elapsed": 234,
     "status": "ok",
     "timestamp": 1633931937487,
     "user": {
      "displayName": "Takuma Narizuka",
      "photoUrl": "https://lh3.googleusercontent.com/a-/AOh14GikY77c5HAiZw_0rE6X-EeMqDO36i0lZAZwgUjINg=s64",
      "userId": "11234403743201202105"
     },
     "user_tz": -540
    },
    "id": "_71Q8s4TlZww",
    "outputId": "4d86707e-746e-4513-d876-33783db2389a"
   },
   "outputs": [
    {
     "data": {
      "text/plain": [
       "array([15., 19., 20., 21., 23.])"
      ]
     },
     "execution_count": 89,
     "metadata": {},
     "output_type": "execute_result"
    }
   ],
   "source": [
    "# 最小値，第1四分位数，中央値，第3四分位数，最大値\n",
    "np.percentile(x1, q=[0, 25, 50, 75, 100])"
   ]
  },
  {
   "cell_type": "code",
   "execution_count": 90,
   "metadata": {
    "colab": {
     "base_uri": "https://localhost:8080/"
    },
    "executionInfo": {
     "elapsed": 505,
     "status": "ok",
     "timestamp": 1633931976412,
     "user": {
      "displayName": "Takuma Narizuka",
      "photoUrl": "https://lh3.googleusercontent.com/a-/AOh14GikY77c5HAiZw_0rE6X-EeMqDO36i0lZAZwgUjINg=s64",
      "userId": "11234403743201202105"
     },
     "user_tz": -540
    },
    "id": "2TrGUzS2lZww",
    "outputId": "03582ef3-74fd-4557-d7fb-08360ff8db23"
   },
   "outputs": [
    {
     "data": {
      "text/plain": [
       "array([ 6. ,  7.5, 10. , 13. , 22. ])"
      ]
     },
     "execution_count": 90,
     "metadata": {},
     "output_type": "execute_result"
    }
   ],
   "source": [
    "# 最小値，第1四分位数，中央値，第3四分位数，最大値\n",
    "np.percentile(x2, q=[0, 25, 50, 75, 100])"
   ]
  },
  {
   "cell_type": "markdown",
   "metadata": {
    "id": "ipUKOypilZwx"
   },
   "source": [
    "### 箱ひげ図"
   ]
  },
  {
   "cell_type": "markdown",
   "metadata": {},
   "source": [
    "五数要約の結果は{numref}`fig:boxplot`のようなグラフによって可視化できる．\n",
    "これを**箱ひげ図**と呼ぶ．\n",
    "箱ひげ図は以下の手順によって描くのが一般的である（これを**テューキーの方式**と呼ぶ）．\n",
    "\n",
    "1. データの第1四分位数から第3四分位数の間に箱を描く．\n",
    "2. 中央値の位置に線を引く．\n",
    "3. 箱から四分位範囲（箱の長さ）の1.5倍を超えて離れた点を**外れ値**と見なしてを白丸で描く．\n",
    "4. 外れ値ではないものの最大値と最小値から箱まで線（ひげ）を引く．\n",
    "\n",
    "なお，外れ値を表示しない簡便な描き方もある．\n",
    "また，90度回転させて横に描くことも多い．"
   ]
  },
  {
   "cell_type": "markdown",
   "metadata": {},
   "source": [
    "```{figure} box_plot.png\n",
    "---\n",
    "height: 300px\n",
    "name: fig:boxplot\n",
    "---\n",
    "テューキーの方式による箱ひげ図の例\n",
    "```"
   ]
  },
  {
   "cell_type": "markdown",
   "metadata": {},
   "source": [
    "**Pythonでの実装**\n",
    "\n",
    "Pythonで箱ひげ図を描くには，Matplotlibの`boxplot`関数を用いれば良い．"
   ]
  },
  {
   "cell_type": "code",
   "execution_count": 91,
   "metadata": {},
   "outputs": [],
   "source": [
    "# データの作成\n",
    "x1 = [15, 20, 23, 20, 19, 21, 20, 18, 23, 18, 19, 20, 22]\n",
    "x2 = [7, 6, 9, 6, 10, 13, 12, 10, 14, 18, 7, 10, 13, 22]"
   ]
  },
  {
   "cell_type": "code",
   "execution_count": 92,
   "metadata": {
    "colab": {
     "base_uri": "https://localhost:8080/",
     "height": 450
    },
    "executionInfo": {
     "elapsed": 270,
     "status": "ok",
     "timestamp": 1633932063660,
     "user": {
      "displayName": "Takuma Narizuka",
      "photoUrl": "https://lh3.googleusercontent.com/a-/AOh14GikY77c5HAiZw_0rE6X-EeMqDO36i0lZAZwgUjINg=s64",
      "userId": "11234403743201202105"
     },
     "user_tz": -540
    },
    "id": "_JDdR4AnlZwx",
    "outputId": "932786b4-9f64-42c9-d4d9-7e9c933660f2"
   },
   "outputs": [
    {
     "data": {
      "image/png": "[encoded data removed]",
      "text/plain": [
       "<Figure size 350x300 with 1 Axes>"
      ]
     },
     "metadata": {},
     "output_type": "display_data"
    }
   ],
   "source": [
    "fig, ax = plt.subplots(figsize=(3.5, 3))\n",
    "ret = ax.boxplot([x1, x2], whis=1.5, widths=0.5, vert=True)\n",
    "\n",
    "ax.set_ylim(0, 30);  # 縦軸の表示範囲\n",
    "ax.set_yticks([0, 5, 10, 15, 20, 25, 30]);  # 縦軸の表示目盛り\n",
    "fig.savefig('./box_ex.png', bbox_inches=\"tight\",\\\n",
    "            pad_inches=0.2, transparent=True, dpi=300) # 保存"
   ]
  },
  {
   "cell_type": "markdown",
   "metadata": {
    "id": "ISeb1K_7lZwy"
   },
   "source": [
    "### ヒストグラム"
   ]
  },
  {
   "cell_type": "markdown",
   "metadata": {},
   "source": [
    "データの分布の傾向（どの値がどのくらいあるか）を表す方法として，箱ひげ図ではデータを要約しすぎてしまい適切にその特徴を表せないことがある．\n",
    "そこで，より詳細に分布の傾向を捉える方法として**度数分布**がある．\n",
    "度数分布とは，ある値のデータがいくつあるかを示したもので，以下のように作成する．\n",
    "\n",
    "- 値を0以上10未満，10以上20未満などのいくつかの区間（**階級，ビン**）に分ける\n",
    "- それぞれの階級に含まれるデータの個数（**度数**）を数える\n",
    "- 階級と度数の関係を可視化する\n",
    "\n",
    "度数分布を可視化する方法には，階級と度数の関係を表で表した**度数分布表**と横軸に階級の代表値（**階級値**），縦軸に度数をとった**ヒストグラム**がある．\n",
    "ヒストグラムの横軸には各階級の最小と最大を表示する場合と，階級値として階級の最小値や中央値を示す場合がある．\n",
    "また，度数の代わりに相対度数（度数/データ数）や累積相対度数（最小の階級からの相対度数の和）を取ることもある．\n",
    "相対度数はその階級に含まれるデータが全体に占める割合，累積相対度数はその階級以下のデータが全体に占める割合を表す．"
   ]
  },
  {
   "cell_type": "markdown",
   "metadata": {},
   "source": [
    "なお，度数分布を可視化する上で，階級（ビン）の幅は大きすぎても細かすぎても分かりにくくなる．\n",
    "そこで，一般的な目安として，階級数は標本の大きさ（サンプルサイズ）$ N $の平方根$ \\sqrt{N} $程度が良いとされている．\n",
    "例えば，100個のデータを含む場合は10程度の階級が望ましい．\n",
    "また，$ 1 + \\log_{2} N $という公式も存在し，これを**スタージェスの公式**と呼ぶ．"
   ]
  },
  {
   "cell_type": "markdown",
   "metadata": {},
   "source": [
    "**Pythonでの実装**\n",
    "\n",
    "具体例として，ここではIris Dataset（[Kaggleのウェブサイト](https://www.kaggle.com/uciml/iris)からダウンロード可能）に含まれるアヤメのがく片の長さ（Sepal Length），がく片の幅（Sepal Width），花弁の長さ（Petal Length），花弁の幅（Petal Width）のデータを用いる．\n",
    "まずはIrisデータセットをダウンロードして作業フォルダに保存し，以下のようにPandasのDataFrame形式で読み込む："
   ]
  },
  {
   "cell_type": "code",
   "execution_count": 2,
   "metadata": {},
   "outputs": [
    {
     "data": {
      "text/html": [
       "<div>\n",
       "<style scoped>\n",
       "    .dataframe tbody tr th:only-of-type {\n",
       "        vertical-align: middle;\n",
       "    }\n",
       "\n",
       "    .dataframe tbody tr th {\n",
       "        vertical-align: top;\n",
       "    }\n",
       "\n",
       "    .dataframe thead th {\n",
       "        text-align: right;\n",
       "    }\n",
       "</style>\n",
       "<table border=\"1\" class=\"dataframe\">\n",
       "  <thead>\n",
       "    <tr style=\"text-align: right;\">\n",
       "      <th></th>\n",
       "      <th>Sepal Length</th>\n",
       "      <th>Sepal Width</th>\n",
       "      <th>Petal Length</th>\n",
       "      <th>Petal Width</th>\n",
       "    </tr>\n",
       "  </thead>\n",
       "  <tbody>\n",
       "    <tr>\n",
       "      <th>0</th>\n",
       "      <td>5.1</td>\n",
       "      <td>3.5</td>\n",
       "      <td>1.4</td>\n",
       "      <td>0.2</td>\n",
       "    </tr>\n",
       "    <tr>\n",
       "      <th>1</th>\n",
       "      <td>4.9</td>\n",
       "      <td>3.0</td>\n",
       "      <td>1.4</td>\n",
       "      <td>0.2</td>\n",
       "    </tr>\n",
       "    <tr>\n",
       "      <th>2</th>\n",
       "      <td>4.7</td>\n",
       "      <td>3.2</td>\n",
       "      <td>1.3</td>\n",
       "      <td>0.2</td>\n",
       "    </tr>\n",
       "    <tr>\n",
       "      <th>3</th>\n",
       "      <td>4.6</td>\n",
       "      <td>3.1</td>\n",
       "      <td>1.5</td>\n",
       "      <td>0.2</td>\n",
       "    </tr>\n",
       "    <tr>\n",
       "      <th>4</th>\n",
       "      <td>5.0</td>\n",
       "      <td>3.6</td>\n",
       "      <td>1.4</td>\n",
       "      <td>0.2</td>\n",
       "    </tr>\n",
       "    <tr>\n",
       "      <th>...</th>\n",
       "      <td>...</td>\n",
       "      <td>...</td>\n",
       "      <td>...</td>\n",
       "      <td>...</td>\n",
       "    </tr>\n",
       "    <tr>\n",
       "      <th>145</th>\n",
       "      <td>6.7</td>\n",
       "      <td>3.0</td>\n",
       "      <td>5.2</td>\n",
       "      <td>2.3</td>\n",
       "    </tr>\n",
       "    <tr>\n",
       "      <th>146</th>\n",
       "      <td>6.3</td>\n",
       "      <td>2.5</td>\n",
       "      <td>5.0</td>\n",
       "      <td>1.9</td>\n",
       "    </tr>\n",
       "    <tr>\n",
       "      <th>147</th>\n",
       "      <td>6.5</td>\n",
       "      <td>3.0</td>\n",
       "      <td>5.2</td>\n",
       "      <td>2.0</td>\n",
       "    </tr>\n",
       "    <tr>\n",
       "      <th>148</th>\n",
       "      <td>6.2</td>\n",
       "      <td>3.4</td>\n",
       "      <td>5.4</td>\n",
       "      <td>2.3</td>\n",
       "    </tr>\n",
       "    <tr>\n",
       "      <th>149</th>\n",
       "      <td>5.9</td>\n",
       "      <td>3.0</td>\n",
       "      <td>5.1</td>\n",
       "      <td>1.8</td>\n",
       "    </tr>\n",
       "  </tbody>\n",
       "</table>\n",
       "<p>150 rows × 4 columns</p>\n",
       "</div>"
      ],
      "text/plain": [
       "     Sepal Length  Sepal Width  Petal Length  Petal Width\n",
       "0             5.1          3.5           1.4          0.2\n",
       "1             4.9          3.0           1.4          0.2\n",
       "2             4.7          3.2           1.3          0.2\n",
       "3             4.6          3.1           1.5          0.2\n",
       "4             5.0          3.6           1.4          0.2\n",
       "..            ...          ...           ...          ...\n",
       "145           6.7          3.0           5.2          2.3\n",
       "146           6.3          2.5           5.0          1.9\n",
       "147           6.5          3.0           5.2          2.0\n",
       "148           6.2          3.4           5.4          2.3\n",
       "149           5.9          3.0           5.1          1.8\n",
       "\n",
       "[150 rows x 4 columns]"
      ]
     },
     "execution_count": 2,
     "metadata": {},
     "output_type": "execute_result"
    }
   ],
   "source": [
    "# CSVファイルをPandasのデータフレーム形式で読み込み\n",
    "Iris = pd.read_csv('Iris.csv')\n",
    "Iris = Iris.iloc[:, 1:5]\n",
    "Iris.columns = ['Sepal Length', 'Sepal Width', 'Petal Length', 'Petal Width']\n",
    "Iris"
   ]
  },
  {
   "cell_type": "markdown",
   "metadata": {},
   "source": [
    "このデータに対してスタージェスの公式を適用すると以下のようになる．"
   ]
  },
  {
   "cell_type": "code",
   "execution_count": 3,
   "metadata": {
    "executionInfo": {
     "elapsed": 223,
     "status": "ok",
     "timestamp": 1633932466716,
     "user": {
      "displayName": "Takuma Narizuka",
      "photoUrl": "https://lh3.googleusercontent.com/a-/AOh14GikY77c5HAiZw_0rE6X-EeMqDO36i0lZAZwgUjINg=s64",
      "userId": "11234403743201202105"
     },
     "user_tz": -540
    },
    "id": "OSam3MRKlZw0"
   },
   "outputs": [
    {
     "data": {
      "text/plain": [
       "8"
      ]
     },
     "execution_count": 3,
     "metadata": {},
     "output_type": "execute_result"
    }
   ],
   "source": [
    "# ビンの個数（スタージェスの公式）\n",
    "bn = int(1+np.log2(len(Iris)))\n",
    "bn"
   ]
  },
  {
   "cell_type": "markdown",
   "metadata": {},
   "source": [
    "以下はアヤメのがく片の長さ（Sepal Length）のデータに対する度数分布表である．\n",
    "ここでは，各階級の中央値を階級値としており，度数の他に，相対度数と相対度数を足し合わせた累積相対度数も示している．\n",
    "例えば，階級4の相対度数は0.207なので，6.1以上6.55以下のデータが全体の20%程度存在することが分かる．\n",
    "また，階級4の累積相対度数は0.8なので，6.55以下のデータが全体の80%を占めることが分かる．"
   ]
  },
  {
   "cell_type": "code",
   "execution_count": 6,
   "metadata": {},
   "outputs": [
    {
     "data": {
      "text/html": [
       "<div>\n",
       "<style scoped>\n",
       "    .dataframe tbody tr th:only-of-type {\n",
       "        vertical-align: middle;\n",
       "    }\n",
       "\n",
       "    .dataframe tbody tr th {\n",
       "        vertical-align: top;\n",
       "    }\n",
       "\n",
       "    .dataframe thead th {\n",
       "        text-align: right;\n",
       "    }\n",
       "</style>\n",
       "<table border=\"1\" class=\"dataframe\">\n",
       "  <thead>\n",
       "    <tr style=\"text-align: right;\">\n",
       "      <th></th>\n",
       "      <th>階級の最小値</th>\n",
       "      <th>階級の最大値</th>\n",
       "      <th>階級値</th>\n",
       "      <th>度数</th>\n",
       "      <th>相対度数</th>\n",
       "      <th>累積相対度数</th>\n",
       "    </tr>\n",
       "  </thead>\n",
       "  <tbody>\n",
       "    <tr>\n",
       "      <th>0</th>\n",
       "      <td>4.30</td>\n",
       "      <td>4.75</td>\n",
       "      <td>4.53</td>\n",
       "      <td>11</td>\n",
       "      <td>0.07</td>\n",
       "      <td>0.07</td>\n",
       "    </tr>\n",
       "    <tr>\n",
       "      <th>1</th>\n",
       "      <td>4.75</td>\n",
       "      <td>5.20</td>\n",
       "      <td>4.97</td>\n",
       "      <td>30</td>\n",
       "      <td>0.20</td>\n",
       "      <td>0.27</td>\n",
       "    </tr>\n",
       "    <tr>\n",
       "      <th>2</th>\n",
       "      <td>5.20</td>\n",
       "      <td>5.65</td>\n",
       "      <td>5.43</td>\n",
       "      <td>24</td>\n",
       "      <td>0.16</td>\n",
       "      <td>0.43</td>\n",
       "    </tr>\n",
       "    <tr>\n",
       "      <th>3</th>\n",
       "      <td>5.65</td>\n",
       "      <td>6.10</td>\n",
       "      <td>5.88</td>\n",
       "      <td>24</td>\n",
       "      <td>0.16</td>\n",
       "      <td>0.59</td>\n",
       "    </tr>\n",
       "    <tr>\n",
       "      <th>4</th>\n",
       "      <td>6.10</td>\n",
       "      <td>6.55</td>\n",
       "      <td>6.33</td>\n",
       "      <td>31</td>\n",
       "      <td>0.21</td>\n",
       "      <td>0.80</td>\n",
       "    </tr>\n",
       "    <tr>\n",
       "      <th>5</th>\n",
       "      <td>6.55</td>\n",
       "      <td>7.00</td>\n",
       "      <td>6.78</td>\n",
       "      <td>17</td>\n",
       "      <td>0.11</td>\n",
       "      <td>0.91</td>\n",
       "    </tr>\n",
       "    <tr>\n",
       "      <th>6</th>\n",
       "      <td>7.00</td>\n",
       "      <td>7.45</td>\n",
       "      <td>7.22</td>\n",
       "      <td>7</td>\n",
       "      <td>0.05</td>\n",
       "      <td>0.96</td>\n",
       "    </tr>\n",
       "    <tr>\n",
       "      <th>7</th>\n",
       "      <td>7.45</td>\n",
       "      <td>7.90</td>\n",
       "      <td>7.68</td>\n",
       "      <td>6</td>\n",
       "      <td>0.04</td>\n",
       "      <td>1.00</td>\n",
       "    </tr>\n",
       "  </tbody>\n",
       "</table>\n",
       "</div>"
      ],
      "text/plain": [
       "   階級の最小値  階級の最大値   階級値  度数  相対度数  累積相対度数\n",
       "0    4.30    4.75  4.53  11  0.07    0.07\n",
       "1    4.75    5.20  4.97  30  0.20    0.27\n",
       "2    5.20    5.65  5.43  24  0.16    0.43\n",
       "3    5.65    6.10  5.88  24  0.16    0.59\n",
       "4    6.10    6.55  6.33  31  0.21    0.80\n",
       "5    6.55    7.00  6.78  17  0.11    0.91\n",
       "6    7.00    7.45  7.22   7  0.05    0.96\n",
       "7    7.45    7.90  7.68   6  0.04    1.00"
      ]
     },
     "execution_count": 6,
     "metadata": {},
     "output_type": "execute_result"
    }
   ],
   "source": [
    "# がく片の長さに対する度数分布表\n",
    "f, x = np.histogram(Iris['Sepal Length'], bins=bn, density=0)\n",
    "df = pd.DataFrame({'階級の最小値': x[:-1],\n",
    "                   '階級の最大値': x[1:],\n",
    "                   '階級値': 0.5*(x[1:]+x[:-1]),\n",
    "                   '度数': f,\n",
    "                   '相対度数': f/len(Iris),\n",
    "                   '累積相対度数': np.cumsum(f/len(Iris))\n",
    "                   })\n",
    "df.to_csv('./Iris_fdt.csv', index=False, encoding=\"utf_8_sig\")\n",
    "df"
   ]
  },
  {
   "cell_type": "markdown",
   "metadata": {},
   "source": [
    "次に，アヤメのがく片の長さ，がく片の幅，花弁の長さ，花弁の幅のヒストグラムを描く．\n",
    "Pythonでヒストグラムを描画するにはMatplotlibの`hist`関数を用いる．\n",
    "以下はアヤメのがく片の長さ，がく片の幅，花弁の長さ，花弁の幅について，一度にヒストグラムを描画する例である．\n",
    "\n",
    "ヒストグラムの中でデータが集中している部分が山のようになっているとき，山が１つの場合には**単峰性**，2つの場合には**双峰性**，それ以上の場合には**多峰性**と呼ぶ．\n",
    "Irisデータの場合，がく片（Sepal）のヒストグラムは単峰性，花弁（Petal）のヒストグラムは双峰性である．\n",
    "特に，多峰性のヒストグラムの場合には箱ひげ図によって可視化するとデータを要約しすぎてしまうため，適切にその特徴を表すことができない．\n",
    "この他にも，値の小さなところにデータが集中していて大きな値のところに少数のデータがあるとき，「右に裾を引いている」という．"
   ]
  },
  {
   "cell_type": "code",
   "execution_count": 7,
   "metadata": {
    "colab": {
     "base_uri": "https://localhost:8080/",
     "height": 1000
    },
    "executionInfo": {
     "elapsed": 995,
     "status": "ok",
     "timestamp": 1633932668266,
     "user": {
      "displayName": "Takuma Narizuka",
      "photoUrl": "https://lh3.googleusercontent.com/a-/AOh14GikY77c5HAiZw_0rE6X-EeMqDO36i0lZAZwgUjINg=s64",
      "userId": "11234403743201202105"
     },
     "user_tz": -540
    },
    "id": "rrRLYM-JlZw1",
    "outputId": "b529665a-cffa-46f2-cb8c-449cff56fe89"
   },
   "outputs": [
    {
     "data": {
      "image/png": "[encoded data removed]",
      "text/plain": [
       "<Figure size 350x300 with 1 Axes>"
      ]
     },
     "metadata": {},
     "output_type": "display_data"
    },
    {
     "data": {
      "image/png": "[encoded data removed]",
      "text/plain": [
       "<Figure size 350x300 with 1 Axes>"
      ]
     },
     "metadata": {},
     "output_type": "display_data"
    },
    {
     "data": {
      "image/png": "[encoded data removed]",
      "text/plain": [
       "<Figure size 350x300 with 1 Axes>"
      ]
     },
     "metadata": {},
     "output_type": "display_data"
    },
    {
     "data": {
      "image/png": "[encoded data removed]",
      "text/plain": [
       "<Figure size 350x300 with 1 Axes>"
      ]
     },
     "metadata": {},
     "output_type": "display_data"
    }
   ],
   "source": [
    "# ヒストグラムの描画と保存\n",
    "for i in Iris.columns:\n",
    "    fig, ax = plt.subplots(figsize=(3.5, 3), dpi=100)\n",
    "    x = ax.hist(Iris[i], # データ\n",
    "                bins=bn, # 階級数\n",
    "                histtype='bar',  # ヒストグラムの種類\n",
    "                color='c', ec='k', alpha=0.5  # 縦棒の色，透明度\n",
    "               )[1]\n",
    "    x2 = np.round(0.5*(x[1:]+x[:-1]), 2)  # 横軸に表示する階級値（中央値）\n",
    "    \n",
    "    ax.set_title(i)  # グラフのタイトル\n",
    "    ax.set_xticks(x2) # 横軸の目盛り\n",
    "    ax.set_xticklabels(x2, fontsize=8) # 横軸の目盛り\n",
    "    ax.set_xlabel(i+' [cm]')  # 横軸のラベル\n",
    "    ax.set_ylabel('Frequency') # 縦軸のラベル\n",
    "    fig.savefig('./Iris_hist_%s.png'%i, bbox_inches=\"tight\", pad_inches=0.2, transparent=True, dpi=300) # 保存"
   ]
  },
  {
   "cell_type": "markdown",
   "metadata": {
    "id": "dUx3PWMslZw1"
   },
   "source": [
    "## 実例：夏の避暑地の気候の特徴〜夏の避暑地が快適な理由は？〜"
   ]
  },
  {
   "cell_type": "markdown",
   "metadata": {
    "id": "MQCJkdZyrZ9t"
   },
   "source": [
    "日本への外国人旅行者は近年急増しているが，一方で，日本人の国内旅行者の動向を月別に見ると，以下のように月ごとに変動している．\n",
    "特に，5月や8月は国内旅行者の数が突出して多くなっているが，これはゴールデンウィークや夏休みを利用して旅行する人が多いからである．"
   ]
  },
  {
   "cell_type": "code",
   "execution_count": 8,
   "metadata": {
    "id": "ARoAj9M3lZw2"
   },
   "outputs": [],
   "source": [
    "# 2015年の月別国内旅行者数\n",
    "df = pd.DataFrame({'month': np.arange(12)+1,\n",
    "                   'number': [4315, 3620, 5331, 4456, 6322, 4693, 4458, 7177, 5707, 4647, 4794, 4952]})"
   ]
  },
  {
   "cell_type": "code",
   "execution_count": 10,
   "metadata": {
    "id": "1lexDDoslZw2"
   },
   "outputs": [
    {
     "data": {
      "image/png": "[encoded data removed]",
      "text/plain": [
       "<Figure size 500x300 with 1 Axes>"
      ]
     },
     "metadata": {},
     "output_type": "display_data"
    }
   ],
   "source": [
    "fig, ax = plt.subplots(figsize=(5, 3))\n",
    "ax.plot(df['month'], df['number'])\n",
    "ax.set_xticks(np.arange(12)+1)\n",
    "ax.set_xlabel('Month', fontsize=15)\n",
    "ax.set_ylabel('Number of tourist', fontsize=15);"
   ]
  },
  {
   "cell_type": "markdown",
   "metadata": {},
   "source": [
    "### STEP 1: Problem\n",
    "ある高校に通う5人の高校生は，2015年の夏休みにそれぞれ別の都市で過ごした．\n",
    "以下は日本の各都市についての気候に関する意見をまとめたものである．\n",
    "\n",
    "- 軽井沢は東京と比べて過ごしやすかった\n",
    "- 東京も今年は涼しい日もあったけど，すごく暑い日が多かった\n",
    "- 熊谷は東京以上に暑かった\n",
    "- 沖縄は暑かったけど，慣れてしまえば逆に過ごしやすかった\n",
    "- 札幌は過ごしやすかったけど，大阪は東京と同じように暑かった\n",
    "\n",
    "それぞれの場所で，本当に暑さに違いはあったのだろうか？\n",
    "特に，日本では，夏に避暑地を訪れる人が多いが，避暑地にはどのような特徴があるのだろうか？"
   ]
  },
  {
   "cell_type": "markdown",
   "metadata": {
    "id": "aEG03jdorZ9u"
   },
   "source": [
    "### STEP2: Plan\n",
    "[気象庁のHP](http://www.data.jma.go.jp/gmd/risk/obsdl/index.php) には1日の平均気温，最高気温，最低気温，湿度などのデータが掲載されている．\n",
    "ここでは，1日の最高気温，最低気温，湿度のデータを収集する．\n",
    "\n",
    "収集したデータは五数要約や箱ひげ図によって傾向を調べる．\n",
    "また，夏の蒸し暑さを定量化した指標である**不快指数**を計算し，各都市の特徴を調べる．\n",
    "不快指数は気温を$ t $，湿度を$ H $とすると\n",
    "\n",
    "$$\n",
    "\t不快指数=0.81t + 0.01H(0.99t-14.3)+46.3\n",
    "$$\n",
    "\n",
    "によって求められる．\n",
    "一般に，不快指数が75になると人口の約1割が不快を感じ，85になると全員が不快になる［三省堂編集所，大辞林，三省堂(1988)］．"
   ]
  },
  {
   "cell_type": "markdown",
   "metadata": {
    "id": "LMvk_ZBolZw3"
   },
   "source": [
    "### STEP3: Data"
   ]
  },
  {
   "cell_type": "markdown",
   "metadata": {
    "id": "StqsqBTarZ9u"
   },
   "source": [
    "```{admonition} 実習：データの加工\n",
    "- [気象庁のHP](http://www.data.jma.go.jp/gmd/risk/obsdl/index.php)から2015年8月の各地点の1日の平均気温，最高気温，最低気温，湿度のデータ（csvファイル）をダウンロードせよ．\n",
    "- ダウンロードしたデータをpythonなどで解析しやすいように加工せよ．\n",
    "- 加工したデータを読み込め．\n",
    "```"
   ]
  },
  {
   "cell_type": "code",
   "execution_count": 99,
   "metadata": {
    "id": "GmdMVqEulZw3"
   },
   "outputs": [],
   "source": [
    "# 加工済みcsvデータ\n",
    "Tave = pd.read_csv('./temp_ave.csv')\n",
    "Tmax = pd.read_csv('./temp_max.csv')\n",
    "Tmin = pd.read_csv('./temp_min.csv')\n",
    "H = pd.read_csv('./humidity.csv')"
   ]
  },
  {
   "cell_type": "markdown",
   "metadata": {
    "id": "M4aeFIQ-lZw3"
   },
   "source": [
    "### STEP4: Analysis"
   ]
  },
  {
   "cell_type": "markdown",
   "metadata": {
    "id": "nvAPKJgJlZw3"
   },
   "source": [
    "```{admonition} 実習：最高気温\n",
    "- 各都市の最高気温のデータに対し，五数要約と四分位範囲を求めよ．\n",
    "- 五数要約の結果から，各都市に対して並行箱ひげ図を作成せよ．\n",
    "```"
   ]
  },
  {
   "cell_type": "code",
   "execution_count": 100,
   "metadata": {
    "id": "LYFGDeNvlZw4"
   },
   "outputs": [
    {
     "data": {
      "text/html": [
       "<div>\n",
       "<style scoped>\n",
       "    .dataframe tbody tr th:only-of-type {\n",
       "        vertical-align: middle;\n",
       "    }\n",
       "\n",
       "    .dataframe tbody tr th {\n",
       "        vertical-align: top;\n",
       "    }\n",
       "\n",
       "    .dataframe thead th {\n",
       "        text-align: right;\n",
       "    }\n",
       "</style>\n",
       "<table border=\"1\" class=\"dataframe\">\n",
       "  <thead>\n",
       "    <tr style=\"text-align: right;\">\n",
       "      <th></th>\n",
       "      <th>Tokyo</th>\n",
       "      <th>Karuizawa</th>\n",
       "      <th>Kumagaya</th>\n",
       "      <th>Ishigakijima</th>\n",
       "      <th>Sapporo</th>\n",
       "      <th>Osaka</th>\n",
       "    </tr>\n",
       "  </thead>\n",
       "  <tbody>\n",
       "    <tr>\n",
       "      <th>min</th>\n",
       "      <td>21.00</td>\n",
       "      <td>15.90</td>\n",
       "      <td>20.70</td>\n",
       "      <td>28.70</td>\n",
       "      <td>21.70</td>\n",
       "      <td>26.60</td>\n",
       "    </tr>\n",
       "    <tr>\n",
       "      <th>25%</th>\n",
       "      <td>27.65</td>\n",
       "      <td>21.70</td>\n",
       "      <td>27.25</td>\n",
       "      <td>30.90</td>\n",
       "      <td>24.55</td>\n",
       "      <td>31.65</td>\n",
       "    </tr>\n",
       "    <tr>\n",
       "      <th>50%</th>\n",
       "      <td>31.90</td>\n",
       "      <td>27.00</td>\n",
       "      <td>33.80</td>\n",
       "      <td>31.50</td>\n",
       "      <td>26.50</td>\n",
       "      <td>33.10</td>\n",
       "    </tr>\n",
       "    <tr>\n",
       "      <th>75%</th>\n",
       "      <td>34.35</td>\n",
       "      <td>29.15</td>\n",
       "      <td>35.15</td>\n",
       "      <td>32.75</td>\n",
       "      <td>27.80</td>\n",
       "      <td>36.25</td>\n",
       "    </tr>\n",
       "    <tr>\n",
       "      <th>max</th>\n",
       "      <td>37.70</td>\n",
       "      <td>31.10</td>\n",
       "      <td>38.60</td>\n",
       "      <td>33.60</td>\n",
       "      <td>34.50</td>\n",
       "      <td>38.00</td>\n",
       "    </tr>\n",
       "  </tbody>\n",
       "</table>\n",
       "</div>"
      ],
      "text/plain": [
       "     Tokyo  Karuizawa  Kumagaya  Ishigakijima  Sapporo  Osaka\n",
       "min  21.00      15.90     20.70         28.70    21.70  26.60\n",
       "25%  27.65      21.70     27.25         30.90    24.55  31.65\n",
       "50%  31.90      27.00     33.80         31.50    26.50  33.10\n",
       "75%  34.35      29.15     35.15         32.75    27.80  36.25\n",
       "max  37.70      31.10     38.60         33.60    34.50  38.00"
      ]
     },
     "execution_count": 100,
     "metadata": {},
     "output_type": "execute_result"
    }
   ],
   "source": [
    "# 五数要約\n",
    "Tmax.describe().loc[['min', '25%','50%', '75%','max']]"
   ]
  },
  {
   "cell_type": "code",
   "execution_count": 101,
   "metadata": {
    "id": "LjHQYgfTlZw5"
   },
   "outputs": [
    {
     "data": {
      "image/png": "[encoded data removed]",
      "text/plain": [
       "<Figure size 700x300 with 1 Axes>"
      ]
     },
     "metadata": {},
     "output_type": "display_data"
    }
   ],
   "source": [
    "# 並行箱ひげ図（最高気温）\n",
    "fig, ax = plt.subplots(figsize=(7, 3))\n",
    "ret = ax.boxplot(Tmax.values, labels=Tmax.columns, whis=100, widths=0.5, vert=True)\n",
    "ax.set_ylabel('Maximum Temperature [$^\\circ$C]');\n",
    "# fig.savefig('figure/box_ex.pdf', bbox_inches=\"tight\", pad_inches=0.2, transparent=True, dpi=300) # 保存"
   ]
  },
  {
   "cell_type": "markdown",
   "metadata": {
    "id": "b-qITf3clZw5"
   },
   "source": [
    "```{admonition} 実習：最低気温\n",
    "- 各地点の最低気温のデータについて，並行箱ひげ図を作成せよ\n",
    "- 各地点について，熱帯夜（最低気温が25℃以上の夜）の日数を求めよ\n",
    "```"
   ]
  },
  {
   "cell_type": "code",
   "execution_count": 102,
   "metadata": {
    "id": "mOHC2Yo_lZw6"
   },
   "outputs": [
    {
     "data": {
      "image/png": "[encoded data removed]",
      "text/plain": [
       "<Figure size 700x300 with 1 Axes>"
      ]
     },
     "metadata": {},
     "output_type": "display_data"
    }
   ],
   "source": [
    "# 並行箱ひげ図（最低気温）\n",
    "fig, ax = plt.subplots(figsize=(7, 3))\n",
    "ret = ax.boxplot(Tmin.values, labels=Tmax.columns, whis=100, widths=0.5, vert=True)\n",
    "ax.set_ylabel('Minimum Temperature [$^\\circ$C]');"
   ]
  },
  {
   "cell_type": "code",
   "execution_count": 103,
   "metadata": {
    "id": "kpT3IJG3yUBX"
   },
   "outputs": [
    {
     "data": {
      "text/plain": [
       "Tokyo           13\n",
       "Karuizawa        0\n",
       "Kumagaya         9\n",
       "Ishigakijima    31\n",
       "Sapporo          0\n",
       "Osaka           13\n",
       "dtype: int64"
      ]
     },
     "execution_count": 103,
     "metadata": {},
     "output_type": "execute_result"
    }
   ],
   "source": [
    "# 熱帯夜の日数\n",
    "(Tmin >= 25).sum(axis=0)"
   ]
  },
  {
   "cell_type": "markdown",
   "metadata": {
    "id": "1P-ozJ6YlZw6"
   },
   "source": [
    "```{admonition} 実習：不快指数\n",
    "- 6地点の2015年8月1日から31日までの不快指数を計算せよ\n",
    "- 各地点の不快指数のデータについて，並行箱ひげ図を作成せよ\n",
    "```"
   ]
  },
  {
   "cell_type": "code",
   "execution_count": 106,
   "metadata": {
    "id": "Q8bRzggtlZw-"
   },
   "outputs": [
    {
     "data": {
      "text/html": [
       "<div>\n",
       "<style scoped>\n",
       "    .dataframe tbody tr th:only-of-type {\n",
       "        vertical-align: middle;\n",
       "    }\n",
       "\n",
       "    .dataframe tbody tr th {\n",
       "        vertical-align: top;\n",
       "    }\n",
       "\n",
       "    .dataframe thead th {\n",
       "        text-align: right;\n",
       "    }\n",
       "</style>\n",
       "<table border=\"1\" class=\"dataframe\">\n",
       "  <thead>\n",
       "    <tr style=\"text-align: right;\">\n",
       "      <th></th>\n",
       "      <th>Tokyo</th>\n",
       "      <th>Karuizawa</th>\n",
       "      <th>Kumagaya</th>\n",
       "      <th>Ishigakijima</th>\n",
       "      <th>Sapporo</th>\n",
       "      <th>Osaka</th>\n",
       "    </tr>\n",
       "  </thead>\n",
       "  <tbody>\n",
       "    <tr>\n",
       "      <th>0</th>\n",
       "      <td>83.09</td>\n",
       "      <td>72.96</td>\n",
       "      <td>82.50</td>\n",
       "      <td>81.23</td>\n",
       "      <td>72.01</td>\n",
       "      <td>83.03</td>\n",
       "    </tr>\n",
       "    <tr>\n",
       "      <th>1</th>\n",
       "      <td>81.84</td>\n",
       "      <td>69.62</td>\n",
       "      <td>79.73</td>\n",
       "      <td>81.50</td>\n",
       "      <td>71.61</td>\n",
       "      <td>82.81</td>\n",
       "    </tr>\n",
       "    <tr>\n",
       "      <th>2</th>\n",
       "      <td>80.93</td>\n",
       "      <td>69.58</td>\n",
       "      <td>79.58</td>\n",
       "      <td>81.03</td>\n",
       "      <td>72.68</td>\n",
       "      <td>82.02</td>\n",
       "    </tr>\n",
       "    <tr>\n",
       "      <th>3</th>\n",
       "      <td>81.23</td>\n",
       "      <td>70.29</td>\n",
       "      <td>81.77</td>\n",
       "      <td>80.70</td>\n",
       "      <td>76.39</td>\n",
       "      <td>82.21</td>\n",
       "    </tr>\n",
       "    <tr>\n",
       "      <th>4</th>\n",
       "      <td>81.52</td>\n",
       "      <td>70.90</td>\n",
       "      <td>81.43</td>\n",
       "      <td>81.22</td>\n",
       "      <td>77.56</td>\n",
       "      <td>82.60</td>\n",
       "    </tr>\n",
       "    <tr>\n",
       "      <th>...</th>\n",
       "      <td>...</td>\n",
       "      <td>...</td>\n",
       "      <td>...</td>\n",
       "      <td>...</td>\n",
       "      <td>...</td>\n",
       "      <td>...</td>\n",
       "    </tr>\n",
       "    <tr>\n",
       "      <th>26</th>\n",
       "      <td>72.76</td>\n",
       "      <td>64.61</td>\n",
       "      <td>73.15</td>\n",
       "      <td>80.39</td>\n",
       "      <td>66.31</td>\n",
       "      <td>76.60</td>\n",
       "    </tr>\n",
       "    <tr>\n",
       "      <th>27</th>\n",
       "      <td>69.91</td>\n",
       "      <td>62.52</td>\n",
       "      <td>70.75</td>\n",
       "      <td>81.16</td>\n",
       "      <td>65.49</td>\n",
       "      <td>77.04</td>\n",
       "    </tr>\n",
       "    <tr>\n",
       "      <th>28</th>\n",
       "      <td>67.89</td>\n",
       "      <td>60.62</td>\n",
       "      <td>68.87</td>\n",
       "      <td>81.21</td>\n",
       "      <td>65.84</td>\n",
       "      <td>77.03</td>\n",
       "    </tr>\n",
       "    <tr>\n",
       "      <th>29</th>\n",
       "      <td>69.89</td>\n",
       "      <td>60.80</td>\n",
       "      <td>69.13</td>\n",
       "      <td>81.24</td>\n",
       "      <td>66.10</td>\n",
       "      <td>75.82</td>\n",
       "    </tr>\n",
       "    <tr>\n",
       "      <th>30</th>\n",
       "      <td>71.33</td>\n",
       "      <td>62.75</td>\n",
       "      <td>71.36</td>\n",
       "      <td>81.05</td>\n",
       "      <td>69.35</td>\n",
       "      <td>74.51</td>\n",
       "    </tr>\n",
       "  </tbody>\n",
       "</table>\n",
       "<p>31 rows × 6 columns</p>\n",
       "</div>"
      ],
      "text/plain": [
       "    Tokyo  Karuizawa  Kumagaya  Ishigakijima  Sapporo  Osaka\n",
       "0   83.09      72.96     82.50         81.23    72.01  83.03\n",
       "1   81.84      69.62     79.73         81.50    71.61  82.81\n",
       "2   80.93      69.58     79.58         81.03    72.68  82.02\n",
       "3   81.23      70.29     81.77         80.70    76.39  82.21\n",
       "4   81.52      70.90     81.43         81.22    77.56  82.60\n",
       "..    ...        ...       ...           ...      ...    ...\n",
       "26  72.76      64.61     73.15         80.39    66.31  76.60\n",
       "27  69.91      62.52     70.75         81.16    65.49  77.04\n",
       "28  67.89      60.62     68.87         81.21    65.84  77.03\n",
       "29  69.89      60.80     69.13         81.24    66.10  75.82\n",
       "30  71.33      62.75     71.36         81.05    69.35  74.51\n",
       "\n",
       "[31 rows x 6 columns]"
      ]
     },
     "execution_count": 106,
     "metadata": {},
     "output_type": "execute_result"
    }
   ],
   "source": [
    "# 不快指数\n",
    "DI = 0.81*Tave + 0.01*H*(0.99*Tave-14.3)+46.3\n",
    "DI"
   ]
  },
  {
   "cell_type": "code",
   "execution_count": 105,
   "metadata": {
    "id": "o5is60DCyUBY"
   },
   "outputs": [
    {
     "data": {
      "image/png": "[encoded data removed]",
      "text/plain": [
       "<Figure size 700x300 with 1 Axes>"
      ]
     },
     "metadata": {},
     "output_type": "display_data"
    }
   ],
   "source": [
    "# 並行箱ひげ図（不快指数）\n",
    "fig, ax = plt.subplots(figsize=(7, 3))\n",
    "ret = ax.boxplot(DI.values, labels=DI.columns, whis=100, widths=0.5, vert=True)\n",
    "ax.set_ylabel('Discomfort Index');"
   ]
  },
  {
   "cell_type": "markdown",
   "metadata": {
    "id": "YCmFPEI_rZ9x"
   },
   "source": [
    "### STEP 5: Conclusion"
   ]
  },
  {
   "cell_type": "markdown",
   "metadata": {
    "id": "YmFH8jFFrZ9x"
   },
   "source": [
    "```{admonition} 実習\n",
    "- 最高気温に対する並行箱ひげ図を基に，各地点の特徴について分かったことを次の観点からまとめよ．\n",
    "    - 東京や大阪のような大都市は避暑地と比べて暑い日が多いか？\n",
    "\t- 避暑地として人気の高い軽井沢は高原にあるが，北海道とどのように違うか？\n",
    "\t- 熊谷や沖縄は暑い地域として有名だが，それぞれで違いはあるか？\t \n",
    "- 熊谷は最高気温は高いが，最低気温は東京や大阪と比べて低い．なぜこのような違いが出るのか考えよ．\n",
    "- 不快指数を基に，各都市の特徴をまとめよ\n",
    "- 軽井沢や札幌は夏の避暑地として人気が高い．その理由をまとめよ．\n",
    "- その他，分析結果を基に自由に考察せよ．\n",
    "```"
   ]
  }
 ],
 "metadata": {
  "colab": {
   "collapsed_sections": [],
   "name": "sec_2-1.ipynb",
   "provenance": []
  },
  "kernelspec": {
   "display_name": "Python 3.9.13 ('myenv')",
   "language": "python",
   "name": "python3"
  },
  "language_info": {
   "codemirror_mode": {
    "name": "ipython",
    "version": 3
   },
   "file_extension": ".py",
   "mimetype": "text/x-python",
   "name": "python",
   "nbconvert_exporter": "python",
   "pygments_lexer": "ipython3",
   "version": "3.9.13"
  },
  "toc-autonumbering": false,
  "vscode": {
   "interpreter": {
    "hash": "911fd4aa1eca4252368dc27db61226a38a6cfe922f9bbc90c7d50e9c97ede316"
   }
  }
 },
 "nbformat": 4,
 "nbformat_minor": 4
}

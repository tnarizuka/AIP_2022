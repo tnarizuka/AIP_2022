{
 "cells": [
  {
   "cell_type": "code",
   "execution_count": 1,
   "metadata": {},
   "outputs": [
    {
     "data": {
      "text/plain": [
       "'%.3f'"
      ]
     },
     "execution_count": 1,
     "metadata": {},
     "output_type": "execute_result"
    }
   ],
   "source": [
    "import sys, os\n",
    "import numpy as np\n",
    "import matplotlib.pyplot as plt\n",
    "try:\n",
    "    import japanize_matplotlib\n",
    "except:\n",
    "    pass\n",
    "import pandas as pd\n",
    "pd.set_option('display.precision', 3)  # 小数点以下の表示桁\n",
    "pd.set_option('display.max_rows', 20)  # 表示する行数\n",
    "%precision 3"
   ]
  },
  {
   "cell_type": "markdown",
   "metadata": {},
   "source": [
    "# データの整理"
   ]
  },
  {
   "cell_type": "markdown",
   "metadata": {},
   "source": [
    "## 質的データ・量的データと尺度\n",
    "\n",
    "データには**質的データ**と**量的データ**の2種類がある．\n",
    "質的データとは，数値で表すことができず，あるカテゴリーに属していることやある状態にあることだけが分かるデータである．\n",
    "例えば，性別（男，女），学歴（大卒，高卒，中卒），天気（晴，曇，雨，雪），などは質的データである．\n",
    "一方，量的データとは，数値で表すことができるデータのことを指す．\n",
    "例えば，長さ，重さ，体積，面積，金額，温度，時間などは量的データである．"
   ]
  },
  {
   "cell_type": "markdown",
   "metadata": {},
   "source": [
    "質的データは，どのような尺度で測定されたかという基準によって，さらに２つに分類できる．\n",
    "まず，「男・女」など，他と区別するためだけに用いる尺度を**名義尺度**と呼び，対応するデータをカテゴリカルデータと呼ぶ．\n",
    "カテゴリカルデータに対しては一切の計算が許されず，唯一できるのは数をカウントすること（度数や最頻値の計算）だけである．\n",
    "一方，「小・中・大」のように大小や前後が決まるような尺度を**順序尺度**と呼び，対応するデータを順序データと呼ぶ．\n",
    "順序データに対しては$ >, = $などの演算が許される．"
   ]
  },
  {
   "cell_type": "markdown",
   "metadata": {},
   "source": [
    "次に，量的データも測定尺度によって2つに分類できる．\n",
    "まず，値の大小関係と値の差だけに意味があるような尺度を**間隔尺度**と呼び，対応するデータは間隔データと呼ばれる．\n",
    "間隔データは値同士の加減が許される．\n",
    "間隔データの代表例は，摂氏・華氏温度や時刻である．\n",
    "例えば，摂氏温度は水の融点を0℃，沸点を100℃としてその間を等分した尺度なので，値の大小関係と差に意味はあるが，比に意味はない．\n",
    "実際，4℃と8℃を比較して4℃暑いということはできるが，2倍暑いなどということはできない（比例尺度である絶対温度で表すと，4℃は277.15K，8℃は281.15Kであり，その比は2倍ではない）．\n",
    "\n",
    "一方，値の大小関係と値の差に加えて，値同士の比にも意味があるような尺度を**比率尺度**と呼び，対応するデータは比率データと呼ぶ．\n",
    "比率データは値同士の加減乗除が全て許される．\n",
    "比率データの代表例は身長，体重，年齢などである．\n",
    "例えば，身長150cmと180cmには「値の大小関係」があり，「値の差」も30cmと意味がある．\n",
    "また100cmと200cmであれば，「後者は前者の2倍」であると解釈でき，比が意味を持つ．\n",
    "K（ケルビン）で表される絶対温度も比例データの例である．\n",
    "実際，絶対温度は値0が絶対的な意味を持ち，1Kと2Kではある量が実際に2倍になっているので比にも意味がある．"
   ]
  },
  {
   "cell_type": "markdown",
   "metadata": {},
   "source": [
    "間隔尺度と比例尺度が見分けづらい場合は，「0の値が相対的な意味しか持たない」場合が間隔尺度，「0の値が絶対的な意味を持つ」（ある量が無いことを意味する）場合が比率尺度と考えると良い．\n",
    "例えば，摂氏温度や西暦が0だったとしてもそれらは無いわけではないが，身長や速度が0であるときは本当に無いので，前者は間隔尺度，後者は比例尺度の例である．"
   ]
  },
  {
   "cell_type": "markdown",
   "metadata": {
    "id": "pT-WDWFtrZ9r"
   },
   "source": [
    "## 量的データの要約"
   ]
  },
  {
   "cell_type": "markdown",
   "metadata": {
    "id": "M2umMs32lZwu"
   },
   "source": [
    "### 四分位数と五数要約\n",
    "15個の量的データがあるとする．\n",
    "これを小さい順に並べたとき，{numref}`fig:5number`のように4等分に分割できる．\n",
    "このとき，アを**最小値**，イを**第1四分位**，ウを**中央値（第2四分位数）**，エを**第3四分位数**，オを**最大値**と呼ぶ．\n",
    "また，データを小さい順に並べたとき，左半分のデータを下位データ，右半分のデータを上位データと呼ぶ．\n",
    "ただし，データの数が奇数個の場合は中央値を除いて下位・上位に分ける方法を採用する（中央値を両方に含める場合もある）．\n",
    "このとき，第1四分位数$ Q_{1} $は下位データの中央値，第3四分位数$ Q_{3} $は上位データの中央値である．\n",
    "以上のようにデータのばらつきを5つの数で表す方法を**五数要約**と呼ぶ．\n",
    "また，第3四分位数と第1四分位数の差$ Q_{3}-Q_{1} $を**四分位範囲**と呼ぶ．\n",
    "なお，四分位は英語でquartileなので，各四分位数（イ，ウ，エ）を$ Q_{1},\\ Q_{2},\\ Q_{3} $と表すことが多い．"
   ]
  },
  {
   "cell_type": "markdown",
   "metadata": {},
   "source": [
    "```{figure} 5number.png\n",
    "---\n",
    "height: 100px\n",
    "name: fig:5number\n",
    "---\n",
    "15個の量的データを小さい順に並べた例．\n",
    "```"
   ]
  },
  {
   "cell_type": "markdown",
   "metadata": {},
   "source": [
    "五数要約の求め方はデータの数が奇数個の場合と偶数個の場合で異なる．\n",
    "まず，データの数が奇数個の場合は最小値，最大値，中央値が自動的に定まる．\n",
    "一方，中央値を除いて下位データと上位データに分けると，それぞれが偶数個になる．\n",
    "この場合，下位データ，上位データそれぞれの中央にくる2つの値の平均値を第1四分位数，第3四分位数とする．\n",
    "\n",
    "次に，データの数が偶数個の場合は中央にくる2つの値の平均値を中央値とする．\n",
    "下位データと上位データはそれぞれ奇数個に分かれるので，第1四分位数，第3四分位数は自動的に求まる．"
   ]
  },
  {
   "cell_type": "markdown",
   "metadata": {},
   "source": [
    "以下に具体例を示す．\n",
    "\n",
    "**例）データが9個（奇数個）の場合**\n",
    "```\n",
    "2 3 5 5 | 6 | 8 10 12 15\n",
    "```\n",
    "この場合，中央値は$ Q_{2}=6 $となるので，これを除いて下位データと上位データに分ける．\n",
    "第1四分位数は$ Q_{1}=(3+5)/2=4 $，第3四分位数は$ Q_{3}=(10+12)/2=11 $と求まる．\n",
    "四分位範囲は$ Q_{3}-Q_{1}=11-4=7 $である．\n",
    "\n",
    "\n",
    "**例）データが10個（偶数個）の場合**\n",
    "```\n",
    "2 2 5 6 7 | 9 10 13 14 18\n",
    "```\n",
    "この場合，中央値は$ Q_{2}=(7+9)/2=8 $となる．\n",
    "また，第1四分位数は$ Q_{1}=5 $，第3四分位数は$ Q_{3}=13 $と求まる．\n",
    "四分位範囲は$ Q_{3}-Q_{1}=13-5=8 $である．"
   ]
  },
  {
   "cell_type": "markdown",
   "metadata": {},
   "source": [
    "**Pythonでの実装**"
   ]
  },
  {
   "cell_type": "code",
   "execution_count": 21,
   "metadata": {
    "executionInfo": {
     "elapsed": 523,
     "status": "ok",
     "timestamp": 1633931905550,
     "user": {
      "displayName": "Takuma Narizuka",
      "photoUrl": "https://lh3.googleusercontent.com/a-/AOh14GikY77c5HAiZw_0rE6X-EeMqDO36i0lZAZwgUjINg=s64",
      "userId": "11234403743201202105"
     },
     "user_tz": -540
    },
    "id": "2Q3mSrQRlZwv"
   },
   "outputs": [],
   "source": [
    "x1 = [15, 20, 23, 20, 19, 21, 20, 18, 23, 18, 19, 20, 22]\n",
    "x2 = [7, 6, 9, 6, 10, 13, 12, 10, 14, 18, 7, 10, 13, 22]"
   ]
  },
  {
   "cell_type": "code",
   "execution_count": 22,
   "metadata": {
    "colab": {
     "base_uri": "https://localhost:8080/"
    },
    "executionInfo": {
     "elapsed": 234,
     "status": "ok",
     "timestamp": 1633931937487,
     "user": {
      "displayName": "Takuma Narizuka",
      "photoUrl": "https://lh3.googleusercontent.com/a-/AOh14GikY77c5HAiZw_0rE6X-EeMqDO36i0lZAZwgUjINg=s64",
      "userId": "11234403743201202105"
     },
     "user_tz": -540
    },
    "id": "_71Q8s4TlZww",
    "outputId": "4d86707e-746e-4513-d876-33783db2389a"
   },
   "outputs": [
    {
     "data": {
      "text/plain": [
       "array([15., 19., 20., 21., 23.])"
      ]
     },
     "execution_count": 22,
     "metadata": {},
     "output_type": "execute_result"
    }
   ],
   "source": [
    "# 最小値，第1四分位数，中央値，第3四分位数，最大値\n",
    "np.percentile(x1, q=[0, 25, 50, 75, 100])"
   ]
  },
  {
   "cell_type": "code",
   "execution_count": 23,
   "metadata": {
    "colab": {
     "base_uri": "https://localhost:8080/"
    },
    "executionInfo": {
     "elapsed": 505,
     "status": "ok",
     "timestamp": 1633931976412,
     "user": {
      "displayName": "Takuma Narizuka",
      "photoUrl": "https://lh3.googleusercontent.com/a-/AOh14GikY77c5HAiZw_0rE6X-EeMqDO36i0lZAZwgUjINg=s64",
      "userId": "11234403743201202105"
     },
     "user_tz": -540
    },
    "id": "2TrGUzS2lZww",
    "outputId": "03582ef3-74fd-4557-d7fb-08360ff8db23"
   },
   "outputs": [
    {
     "data": {
      "text/plain": [
       "array([ 6. ,  7.5, 10. , 13. , 22. ])"
      ]
     },
     "execution_count": 23,
     "metadata": {},
     "output_type": "execute_result"
    }
   ],
   "source": [
    "# 最小値，第1四分位数，中央値，第3四分位数，最大値\n",
    "np.percentile(x2, q=[0, 25, 50, 75, 100])"
   ]
  },
  {
   "cell_type": "markdown",
   "metadata": {
    "id": "ipUKOypilZwx"
   },
   "source": [
    "### 箱ひげ図"
   ]
  },
  {
   "cell_type": "markdown",
   "metadata": {},
   "source": [
    "五数要約の結果は{numref}`fig:boxplot`のような図によって可視化できる．\n",
    "これを**箱ひげ図**と呼ぶ．\n",
    "箱ひげ図は以下の手順によって描く（これを**テューキーの方式**と呼ぶ）．\n",
    "\n",
    "- データの第1四分位数から第3四分位数の間に箱を描く．\n",
    "- 中央値の位置に線を引く．\n",
    "- 箱から箱の長さ（四分位範囲）の1.5倍を超えて離れた点（外れ値）を白丸で描く．\n",
    "- 外れ値ではないものの最大値と最小値から箱まで線（ひげ）を引く．\n",
    "\n",
    "なお，外れ値を表示しない簡便な描き方もある．\n",
    "また，90度回転させて横に描くことも多い．"
   ]
  },
  {
   "cell_type": "markdown",
   "metadata": {},
   "source": [
    "```{figure} box_plot.png\n",
    "---\n",
    "height: 300px\n",
    "name: fig:boxplot\n",
    "---\n",
    "テューキーの方式による箱ひげ図の例\n",
    "```"
   ]
  },
  {
   "cell_type": "markdown",
   "metadata": {},
   "source": [
    "**Pythonでの実装**"
   ]
  },
  {
   "cell_type": "code",
   "execution_count": 3,
   "metadata": {},
   "outputs": [],
   "source": [
    "x1 = [15, 20, 23, 20, 19, 21, 20, 18, 23, 18, 19, 20, 22]\n",
    "x2 = [7, 6, 9, 6, 10, 13, 12, 10, 14, 18, 7, 10, 13, 22]"
   ]
  },
  {
   "cell_type": "code",
   "execution_count": 4,
   "metadata": {
    "colab": {
     "base_uri": "https://localhost:8080/",
     "height": 450
    },
    "executionInfo": {
     "elapsed": 270,
     "status": "ok",
     "timestamp": 1633932063660,
     "user": {
      "displayName": "Takuma Narizuka",
      "photoUrl": "https://lh3.googleusercontent.com/a-/AOh14GikY77c5HAiZw_0rE6X-EeMqDO36i0lZAZwgUjINg=s64",
      "userId": "11234403743201202105"
     },
     "user_tz": -540
    },
    "id": "_JDdR4AnlZwx",
    "outputId": "932786b4-9f64-42c9-d4d9-7e9c933660f2"
   },
   "outputs": [
    {
     "data": {
      "image/png": "[encoded data removed]",
      "text/plain": [
       "<Figure size 1050x900 with 1 Axes>"
      ]
     },
     "metadata": {},
     "output_type": "display_data"
    }
   ],
   "source": [
    "fig, ax = plt.subplots(figsize=(3.5, 3), dpi=300)\n",
    "ret = ax.boxplot([x1, x2], whis=1.5, widths=0.5, vert=True)\n",
    "\n",
    "ax.set_ylim(0, 30);  # 縦軸の表示範囲\n",
    "ax.set_yticks([0, 5, 10, 15, 20, 25, 30]);  # 縦軸の表示目盛り\n",
    "fig.savefig('./box_ex.png', bbox_inches=\"tight\",\\\n",
    "            pad_inches=0.2, transparent=True, dpi=300) # 保存"
   ]
  },
  {
   "cell_type": "markdown",
   "metadata": {
    "id": "ISeb1K_7lZwy"
   },
   "source": [
    "### ヒストグラム"
   ]
  },
  {
   "cell_type": "markdown",
   "metadata": {},
   "source": [
    "データの分布の傾向（どの値がどのくらいあるか）を表す方法として，箱ひげ図ではデータを要約しすぎてしまい適切にその特徴を表せないことがある．\n",
    "そこで，より詳細に分布の傾向を可視化する方法として度数分布表やそれを可視化した**ヒストグラム**（**度数分布図**）がある．\n",
    "度数分布とは，値を0以上10未満，10以上20未満などのいくつかの区間（**階級，ビン**）に分けてそれぞれの区間に含まれるデータの個数（度数）をまとめたもので，横軸に階級の代表値（**階級値**），縦軸に度数をとったグラフがヒストグラムである．\n",
    "なお，ヒストグラムの横軸には各階級の最小と最大を表示する場合と，階級値として階級の最小値や中央値を示す場合がある．\n",
    "また，縦軸には度数ではなく相対度数（度数/データ数）を取ることもある．\n",
    "\n",
    "具体例として，ここではIris Dataset（[Kaggleのウェブサイト](https://www.kaggle.com/uciml/iris)からダウンロード可能）に含まれるアヤメのがく片の長さ（Sepal Length），がく片の幅（Sepal Width），花弁の長さ（Petal Length），花弁の幅（Petal Width）のデータを用いる．\n",
    "まずはIrisデータセットをダウンロードして作業フォルダに保存し，以下のようにPandasのDataFrame形式で読み込む：\n"
   ]
  },
  {
   "cell_type": "code",
   "execution_count": 31,
   "metadata": {},
   "outputs": [
    {
     "data": {
      "text/html": [
       "<div>\n",
       "<style scoped>\n",
       "    .dataframe tbody tr th:only-of-type {\n",
       "        vertical-align: middle;\n",
       "    }\n",
       "\n",
       "    .dataframe tbody tr th {\n",
       "        vertical-align: top;\n",
       "    }\n",
       "\n",
       "    .dataframe thead th {\n",
       "        text-align: right;\n",
       "    }\n",
       "</style>\n",
       "<table border=\"1\" class=\"dataframe\">\n",
       "  <thead>\n",
       "    <tr style=\"text-align: right;\">\n",
       "      <th></th>\n",
       "      <th>Sepal Length</th>\n",
       "      <th>Sepal Width</th>\n",
       "      <th>Petal Length</th>\n",
       "      <th>Petal Width</th>\n",
       "    </tr>\n",
       "  </thead>\n",
       "  <tbody>\n",
       "    <tr>\n",
       "      <th>0</th>\n",
       "      <td>5.1</td>\n",
       "      <td>3.5</td>\n",
       "      <td>1.4</td>\n",
       "      <td>0.2</td>\n",
       "    </tr>\n",
       "    <tr>\n",
       "      <th>1</th>\n",
       "      <td>4.9</td>\n",
       "      <td>3.0</td>\n",
       "      <td>1.4</td>\n",
       "      <td>0.2</td>\n",
       "    </tr>\n",
       "    <tr>\n",
       "      <th>2</th>\n",
       "      <td>4.7</td>\n",
       "      <td>3.2</td>\n",
       "      <td>1.3</td>\n",
       "      <td>0.2</td>\n",
       "    </tr>\n",
       "    <tr>\n",
       "      <th>3</th>\n",
       "      <td>4.6</td>\n",
       "      <td>3.1</td>\n",
       "      <td>1.5</td>\n",
       "      <td>0.2</td>\n",
       "    </tr>\n",
       "    <tr>\n",
       "      <th>4</th>\n",
       "      <td>5.0</td>\n",
       "      <td>3.6</td>\n",
       "      <td>1.4</td>\n",
       "      <td>0.2</td>\n",
       "    </tr>\n",
       "    <tr>\n",
       "      <th>...</th>\n",
       "      <td>...</td>\n",
       "      <td>...</td>\n",
       "      <td>...</td>\n",
       "      <td>...</td>\n",
       "    </tr>\n",
       "    <tr>\n",
       "      <th>145</th>\n",
       "      <td>6.7</td>\n",
       "      <td>3.0</td>\n",
       "      <td>5.2</td>\n",
       "      <td>2.3</td>\n",
       "    </tr>\n",
       "    <tr>\n",
       "      <th>146</th>\n",
       "      <td>6.3</td>\n",
       "      <td>2.5</td>\n",
       "      <td>5.0</td>\n",
       "      <td>1.9</td>\n",
       "    </tr>\n",
       "    <tr>\n",
       "      <th>147</th>\n",
       "      <td>6.5</td>\n",
       "      <td>3.0</td>\n",
       "      <td>5.2</td>\n",
       "      <td>2.0</td>\n",
       "    </tr>\n",
       "    <tr>\n",
       "      <th>148</th>\n",
       "      <td>6.2</td>\n",
       "      <td>3.4</td>\n",
       "      <td>5.4</td>\n",
       "      <td>2.3</td>\n",
       "    </tr>\n",
       "    <tr>\n",
       "      <th>149</th>\n",
       "      <td>5.9</td>\n",
       "      <td>3.0</td>\n",
       "      <td>5.1</td>\n",
       "      <td>1.8</td>\n",
       "    </tr>\n",
       "  </tbody>\n",
       "</table>\n",
       "<p>150 rows × 4 columns</p>\n",
       "</div>"
      ],
      "text/plain": [
       "     Sepal Length  Sepal Width  Petal Length  Petal Width\n",
       "0             5.1          3.5           1.4          0.2\n",
       "1             4.9          3.0           1.4          0.2\n",
       "2             4.7          3.2           1.3          0.2\n",
       "3             4.6          3.1           1.5          0.2\n",
       "4             5.0          3.6           1.4          0.2\n",
       "..            ...          ...           ...          ...\n",
       "145           6.7          3.0           5.2          2.3\n",
       "146           6.3          2.5           5.0          1.9\n",
       "147           6.5          3.0           5.2          2.0\n",
       "148           6.2          3.4           5.4          2.3\n",
       "149           5.9          3.0           5.1          1.8\n",
       "\n",
       "[150 rows x 4 columns]"
      ]
     },
     "execution_count": 31,
     "metadata": {},
     "output_type": "execute_result"
    }
   ],
   "source": [
    "# CSVファイルをPandasのデータフレーム形式で読み込み\n",
    "Iris = pd.read_csv('Iris.csv')\n",
    "Iris = Iris.iloc[:, 1:5]\n",
    "Iris.columns = ['Sepal Length', 'Sepal Width', 'Petal Length', 'Petal Width']\n",
    "Iris"
   ]
  },
  {
   "cell_type": "markdown",
   "metadata": {},
   "source": [
    "以下はアヤメのがく片の長さ（Sepal Length）のデータに対する度数分布表である．\n",
    "ここでは，各階級の中央値を階級値としている．\n",
    "また，度数，相対度数の他に，相対度数を足し合わせた累積度数も示している．"
   ]
  },
  {
   "cell_type": "code",
   "execution_count": 32,
   "metadata": {},
   "outputs": [
    {
     "data": {
      "text/html": [
       "<div>\n",
       "<style scoped>\n",
       "    .dataframe tbody tr th:only-of-type {\n",
       "        vertical-align: middle;\n",
       "    }\n",
       "\n",
       "    .dataframe tbody tr th {\n",
       "        vertical-align: top;\n",
       "    }\n",
       "\n",
       "    .dataframe thead th {\n",
       "        text-align: right;\n",
       "    }\n",
       "</style>\n",
       "<table border=\"1\" class=\"dataframe\">\n",
       "  <thead>\n",
       "    <tr style=\"text-align: right;\">\n",
       "      <th></th>\n",
       "      <th>最小</th>\n",
       "      <th>最大</th>\n",
       "      <th>階級値</th>\n",
       "      <th>度数</th>\n",
       "      <th>相対度数</th>\n",
       "      <th>累積相対度数</th>\n",
       "    </tr>\n",
       "  </thead>\n",
       "  <tbody>\n",
       "    <tr>\n",
       "      <th>0</th>\n",
       "      <td>4.30</td>\n",
       "      <td>4.75</td>\n",
       "      <td>4.525</td>\n",
       "      <td>11.0</td>\n",
       "      <td>7.333</td>\n",
       "      <td>7.333</td>\n",
       "    </tr>\n",
       "    <tr>\n",
       "      <th>1</th>\n",
       "      <td>4.75</td>\n",
       "      <td>5.20</td>\n",
       "      <td>4.975</td>\n",
       "      <td>30.0</td>\n",
       "      <td>20.000</td>\n",
       "      <td>27.333</td>\n",
       "    </tr>\n",
       "    <tr>\n",
       "      <th>2</th>\n",
       "      <td>5.20</td>\n",
       "      <td>5.65</td>\n",
       "      <td>5.425</td>\n",
       "      <td>24.0</td>\n",
       "      <td>16.000</td>\n",
       "      <td>43.333</td>\n",
       "    </tr>\n",
       "    <tr>\n",
       "      <th>3</th>\n",
       "      <td>5.65</td>\n",
       "      <td>6.10</td>\n",
       "      <td>5.875</td>\n",
       "      <td>24.0</td>\n",
       "      <td>16.000</td>\n",
       "      <td>59.333</td>\n",
       "    </tr>\n",
       "    <tr>\n",
       "      <th>4</th>\n",
       "      <td>6.10</td>\n",
       "      <td>6.55</td>\n",
       "      <td>6.325</td>\n",
       "      <td>31.0</td>\n",
       "      <td>20.667</td>\n",
       "      <td>80.000</td>\n",
       "    </tr>\n",
       "    <tr>\n",
       "      <th>5</th>\n",
       "      <td>6.55</td>\n",
       "      <td>7.00</td>\n",
       "      <td>6.775</td>\n",
       "      <td>17.0</td>\n",
       "      <td>11.333</td>\n",
       "      <td>91.333</td>\n",
       "    </tr>\n",
       "    <tr>\n",
       "      <th>6</th>\n",
       "      <td>7.00</td>\n",
       "      <td>7.45</td>\n",
       "      <td>7.225</td>\n",
       "      <td>7.0</td>\n",
       "      <td>4.667</td>\n",
       "      <td>96.000</td>\n",
       "    </tr>\n",
       "    <tr>\n",
       "      <th>7</th>\n",
       "      <td>7.45</td>\n",
       "      <td>7.90</td>\n",
       "      <td>7.675</td>\n",
       "      <td>6.0</td>\n",
       "      <td>4.000</td>\n",
       "      <td>100.000</td>\n",
       "    </tr>\n",
       "  </tbody>\n",
       "</table>\n",
       "</div>"
      ],
      "text/plain": [
       "     最小    最大    階級値    度数    相対度数   累積相対度数\n",
       "0  4.30  4.75  4.525  11.0   7.333    7.333\n",
       "1  4.75  5.20  4.975  30.0  20.000   27.333\n",
       "2  5.20  5.65  5.425  24.0  16.000   43.333\n",
       "3  5.65  6.10  5.875  24.0  16.000   59.333\n",
       "4  6.10  6.55  6.325  31.0  20.667   80.000\n",
       "5  6.55  7.00  6.775  17.0  11.333   91.333\n",
       "6  7.00  7.45  7.225   7.0   4.667   96.000\n",
       "7  7.45  7.90  7.675   6.0   4.000  100.000"
      ]
     },
     "execution_count": 32,
     "metadata": {},
     "output_type": "execute_result"
    }
   ],
   "source": [
    "# がく片の長さに対する度数分布表\n",
    "f, x = np.histogram(Iris['Sepal Length'], bins=BN, density=0)\n",
    "df = pd.DataFrame(np.c_[x[:-1], x[1:], 0.5*(x[1:]+x[:-1]), f, 100*f/len(Iris), 100*np.cumsum(f/len(Iris))],\n",
    "          columns=['最小', '最大', '階級値', '度数', '相対度数', '累積相対度数'])\n",
    "# df.to_csv('material/sec_2-1/fdt.csv', index=False, encoding=\"shift-jis\")\n",
    "df"
   ]
  },
  {
   "cell_type": "markdown",
   "metadata": {},
   "source": [
    "次に，アヤメのがく片の長さ，がく片の幅，花弁の長さ，花弁の幅のヒストグラムを求めてみよう．\n",
    "ヒストグラムを可視化する上で，ヒストグラムの階級（ビン）の幅は大きすぎても細かすぎても分かりにくくなる．\n",
    "そこで，一般的な目安として，階級数は標本の大きさ（サンプルサイズ）$ N $の平方根$ \\sqrt{N} $程度が良いとされている．\n",
    "例えば，100個のデータを含む場合は10程度の階級が望ましい．\n",
    "また，$ 1 + \\log_{2} N $という公式も存在し，これを**スタージェスの公式**と呼ぶ．\n",
    "実際にIrisデータに対してスタージェスの公式を適用すると以下のようになる．"
   ]
  },
  {
   "cell_type": "code",
   "execution_count": 35,
   "metadata": {
    "executionInfo": {
     "elapsed": 223,
     "status": "ok",
     "timestamp": 1633932466716,
     "user": {
      "displayName": "Takuma Narizuka",
      "photoUrl": "https://lh3.googleusercontent.com/a-/AOh14GikY77c5HAiZw_0rE6X-EeMqDO36i0lZAZwgUjINg=s64",
      "userId": "11234403743201202105"
     },
     "user_tz": -540
    },
    "id": "OSam3MRKlZw0"
   },
   "outputs": [
    {
     "data": {
      "text/plain": [
       "8"
      ]
     },
     "execution_count": 35,
     "metadata": {},
     "output_type": "execute_result"
    }
   ],
   "source": [
    "# ビンの個数（スタージェスの公式）\n",
    "bn = int(1+np.log2(len(Iris)))\n",
    "bn"
   ]
  },
  {
   "cell_type": "markdown",
   "metadata": {},
   "source": [
    "Pythonでヒストグラムを描画するには`matplotlib`の`hist`メソッドを用いる．\n",
    "以下はアヤメのがく片の長さ，がく片の幅，花弁の長さ，花弁の幅について，一度にヒストグラムを描画する例である．\n",
    "\n",
    "ヒストグラムの中でデータが集中している部分が山のようになっているとき，山が１つの場合には**単峰性**，2つの場合には**双峰性**，それ以上の場合には**多峰性**と呼ぶ．\n",
    "Irisデータの場合，がく片（Sepal）のヒストグラムは単峰性，花弁（Petal）のヒストグラムは双峰性である．\n",
    "特に，多峰性のヒストグラムの場合には箱ひげ図によって可視化するとデータを要約しすぎてしまうため，適切にその特徴を表すことができない．\n",
    "この他にも，値の小さなところにデータが集中していて大きな値のところに少数のデータがあるとき，「右に裾を引いている」という．"
   ]
  },
  {
   "cell_type": "code",
   "execution_count": 41,
   "metadata": {
    "colab": {
     "base_uri": "https://localhost:8080/",
     "height": 1000
    },
    "executionInfo": {
     "elapsed": 995,
     "status": "ok",
     "timestamp": 1633932668266,
     "user": {
      "displayName": "Takuma Narizuka",
      "photoUrl": "https://lh3.googleusercontent.com/a-/AOh14GikY77c5HAiZw_0rE6X-EeMqDO36i0lZAZwgUjINg=s64",
      "userId": "11234403743201202105"
     },
     "user_tz": -540
    },
    "id": "rrRLYM-JlZw1",
    "outputId": "b529665a-cffa-46f2-cb8c-449cff56fe89"
   },
   "outputs": [
    {
     "data": {
      "image/png": "[encoded data removed]",
      "text/plain": [
       "<Figure size 350x300 with 1 Axes>"
      ]
     },
     "metadata": {},
     "output_type": "display_data"
    },
    {
     "data": {
      "image/png": "[encoded data removed]",
      "text/plain": [
       "<Figure size 350x300 with 1 Axes>"
      ]
     },
     "metadata": {},
     "output_type": "display_data"
    },
    {
     "data": {
      "image/png": "[encoded data removed]",
      "text/plain": [
       "<Figure size 350x300 with 1 Axes>"
      ]
     },
     "metadata": {},
     "output_type": "display_data"
    },
    {
     "data": {
      "image/png": "[encoded data removed]",
      "text/plain": [
       "<Figure size 350x300 with 1 Axes>"
      ]
     },
     "metadata": {},
     "output_type": "display_data"
    }
   ],
   "source": [
    "# ヒストグラムの描画と保存\n",
    "for i in Iris.columns:\n",
    "    fig, ax = plt.subplots(figsize=(3.5, 3))\n",
    "    x = ax.hist(Iris[i], bins=bn, histtype='bar', color='c', ec='k', alpha=0.5)[1]\n",
    "    x2 = np.round(0.5*(x[1:]+x[:-1]), 2)  # 横軸に表示する階級値を計算（中央値）\n",
    "\n",
    "    ax.set_title(i)\n",
    "    ax.set_xticks(x2) \n",
    "    ax.set_xlabel(i+' [cm]')\n",
    "    ax.set_ylabel('Frequency')\n",
    "    fig.savefig('./hist_%s.png'%i, bbox_inches=\"tight\",\\\n",
    "                pad_inches=0.2, transparent=True, dpi=300) # 保存"
   ]
  },
  {
   "cell_type": "markdown",
   "metadata": {
    "id": "dUx3PWMslZw1"
   },
   "source": [
    "## 実例：夏の避暑地の気候の特徴〜夏の避暑地が快適な理由は？〜"
   ]
  },
  {
   "cell_type": "markdown",
   "metadata": {
    "id": "MQCJkdZyrZ9t"
   },
   "source": [
    "日本への外国人旅行者は近年急増しているが，一方で，日本人の国内旅行者の動向を月別に見ると，以下のように月ごとに変動している．\n",
    "特に，5月や8月は国内旅行者の数が突出して多くなっているが，これはゴールデンウィークや夏休みを利用して旅行する人が多いからである．"
   ]
  },
  {
   "cell_type": "code",
   "execution_count": 44,
   "metadata": {
    "id": "ARoAj9M3lZw2"
   },
   "outputs": [],
   "source": [
    "# 2015年の月別国内旅行者数\n",
    "df = pd.DataFrame({'month': np.arange(12)+1,\n",
    "                   'number': [4315, 3620, 5331, 4456, 6322, 4693, 4458, 7177, 5707, 4647, 4794, 4952]})"
   ]
  },
  {
   "cell_type": "code",
   "execution_count": 51,
   "metadata": {
    "id": "1lexDDoslZw2"
   },
   "outputs": [
    {
     "data": {
      "image/png": "[encoded data removed]",
      "text/plain": [
       "<Figure size 500x300 with 1 Axes>"
      ]
     },
     "metadata": {},
     "output_type": "display_data"
    }
   ],
   "source": [
    "fig, ax = plt.subplots(figsize=(5, 3))\n",
    "ax.plot(df['month'], df['number'])\n",
    "ax.set_xlabel('Month', fontsize=15)\n",
    "ax.set_ylabel('Number of tourist', fontsize=15);"
   ]
  },
  {
   "cell_type": "markdown",
   "metadata": {},
   "source": [
    "### STEP 1: Problem\n",
    "ある高校に通う5人の高校生は，2015年の夏休みにそれぞれ別の都市で過ごした．\n",
    "以下は日本の各都市についての気候に関する意見をまとめたものである．\n",
    "\n",
    "- 軽井沢は東京と比べて過ごしやすかった\n",
    "- 東京も今年は涼しい日もあったけど，すごく暑い日が多かった\n",
    "- 熊谷は東京以上に暑かった\n",
    "- 沖縄は暑かったけど，慣れてしまえば逆に過ごしやすかった\n",
    "- 札幌は過ごしやすかったけど，大阪は東京と同じように暑かった\n",
    "\n",
    "それぞれの場所で，本当に暑さに違いはあったのだろうか？\n",
    "特に，日本では，夏に避暑地を訪れる人が多いが，避暑地にはどのような特徴があるのだろうか？"
   ]
  },
  {
   "cell_type": "markdown",
   "metadata": {
    "id": "aEG03jdorZ9u"
   },
   "source": [
    "### STEP2: Plan\n",
    "[気象庁のHP](http://www.data.jma.go.jp/gmd/risk/obsdl/index.php) には1日の平均気温，最高気温，最低気温，湿度などのデータが掲載されている．\n",
    "ここでは，1日の最高気温，最低気温，湿度のデータを収集する．\n",
    "\n",
    "収集したデータは五数要約や箱ひげ図によって傾向を調べる．\n",
    "また，夏の蒸し暑さを定量化した指標である**不快指数**を計算し，各都市の特徴を調べる．\n",
    "不快指数は気温を$ t $，湿度を$ H $とすると\n",
    "\n",
    "$$\n",
    "\t不快指数=0.81t + 0.01H(0.99t-14.3)+46.3\n",
    "$$\n",
    "\n",
    "によって求められる．\n",
    "一般に，不快指数が75になると人口の約1割が不快を感じ，85になると全員が不快になる［三省堂編集所，大辞林，三省堂(1988)］．"
   ]
  },
  {
   "cell_type": "markdown",
   "metadata": {
    "id": "LMvk_ZBolZw3"
   },
   "source": [
    "### STEP3: Data"
   ]
  },
  {
   "cell_type": "markdown",
   "metadata": {
    "id": "StqsqBTarZ9u"
   },
   "source": [
    "**実習**\n",
    "- [気象庁のHP](http://www.data.jma.go.jp/gmd/risk/obsdl/index.php)から2015年8月の各地点の1日の平均気温，最高気温，最低気温，湿度のデータ（csvファイル）をダウンロードせよ．\n",
    "- ダウンロードしたデータをpythonなどで解析しやすいように加工せよ．\n",
    "- 加工したデータを読み込め．"
   ]
  },
  {
   "cell_type": "code",
   "execution_count": 52,
   "metadata": {
    "id": "GmdMVqEulZw3"
   },
   "outputs": [],
   "source": [
    "# 加工済みcsvデータ\n",
    "Tave = pd.read_csv('temp_ave.csv')\n",
    "Tmax = pd.read_csv('temp_max.csv')\n",
    "Tmin = pd.read_csv('temp_min.csv')\n",
    "H = pd.read_csv('humidity.csv')"
   ]
  },
  {
   "cell_type": "markdown",
   "metadata": {
    "id": "M4aeFIQ-lZw3"
   },
   "source": [
    "### STEP4: Analysis"
   ]
  },
  {
   "cell_type": "markdown",
   "metadata": {
    "id": "nvAPKJgJlZw3"
   },
   "source": [
    "**実習**：最高気温\n",
    "- 各都市の最高気温のデータに対し，五数要約と四分位範囲を求めよ．\n",
    "- 五数要約の結果から，各都市に対して並行箱ひげ図を作成せよ．"
   ]
  },
  {
   "cell_type": "code",
   "execution_count": 25,
   "metadata": {
    "id": "LYFGDeNvlZw4"
   },
   "outputs": [
    {
     "data": {
      "text/html": [
       "<div>\n",
       "<style scoped>\n",
       "    .dataframe tbody tr th:only-of-type {\n",
       "        vertical-align: middle;\n",
       "    }\n",
       "\n",
       "    .dataframe tbody tr th {\n",
       "        vertical-align: top;\n",
       "    }\n",
       "\n",
       "    .dataframe thead th {\n",
       "        text-align: right;\n",
       "    }\n",
       "</style>\n",
       "<table border=\"1\" class=\"dataframe\">\n",
       "  <thead>\n",
       "    <tr style=\"text-align: right;\">\n",
       "      <th></th>\n",
       "      <th>Tokyo</th>\n",
       "      <th>Karuizawa</th>\n",
       "      <th>Kumagaya</th>\n",
       "      <th>Ishigakijima</th>\n",
       "      <th>Sapporo</th>\n",
       "      <th>Osaka</th>\n",
       "    </tr>\n",
       "  </thead>\n",
       "  <tbody>\n",
       "    <tr>\n",
       "      <th>min</th>\n",
       "      <td>21.00</td>\n",
       "      <td>15.90</td>\n",
       "      <td>20.70</td>\n",
       "      <td>28.70</td>\n",
       "      <td>21.70</td>\n",
       "      <td>26.60</td>\n",
       "    </tr>\n",
       "    <tr>\n",
       "      <th>25%</th>\n",
       "      <td>27.65</td>\n",
       "      <td>21.70</td>\n",
       "      <td>27.25</td>\n",
       "      <td>30.90</td>\n",
       "      <td>24.55</td>\n",
       "      <td>31.65</td>\n",
       "    </tr>\n",
       "    <tr>\n",
       "      <th>50%</th>\n",
       "      <td>31.90</td>\n",
       "      <td>27.00</td>\n",
       "      <td>33.80</td>\n",
       "      <td>31.50</td>\n",
       "      <td>26.50</td>\n",
       "      <td>33.10</td>\n",
       "    </tr>\n",
       "    <tr>\n",
       "      <th>75%</th>\n",
       "      <td>34.35</td>\n",
       "      <td>29.15</td>\n",
       "      <td>35.15</td>\n",
       "      <td>32.75</td>\n",
       "      <td>27.80</td>\n",
       "      <td>36.25</td>\n",
       "    </tr>\n",
       "    <tr>\n",
       "      <th>max</th>\n",
       "      <td>37.70</td>\n",
       "      <td>31.10</td>\n",
       "      <td>38.60</td>\n",
       "      <td>33.60</td>\n",
       "      <td>34.50</td>\n",
       "      <td>38.00</td>\n",
       "    </tr>\n",
       "  </tbody>\n",
       "</table>\n",
       "</div>"
      ],
      "text/plain": [
       "     Tokyo  Karuizawa  Kumagaya  Ishigakijima  Sapporo  Osaka\n",
       "min  21.00      15.90     20.70         28.70    21.70  26.60\n",
       "25%  27.65      21.70     27.25         30.90    24.55  31.65\n",
       "50%  31.90      27.00     33.80         31.50    26.50  33.10\n",
       "75%  34.35      29.15     35.15         32.75    27.80  36.25\n",
       "max  37.70      31.10     38.60         33.60    34.50  38.00"
      ]
     },
     "execution_count": 25,
     "metadata": {},
     "output_type": "execute_result"
    }
   ],
   "source": [
    "Tmax.describe().loc[['min', '25%','50%', '75%','max']]"
   ]
  },
  {
   "cell_type": "code",
   "execution_count": 56,
   "metadata": {
    "id": "LjHQYgfTlZw5"
   },
   "outputs": [
    {
     "data": {
      "text/plain": [
       "Text(0, 0.5, 'Maximum Temperature [$^\\\\circ$C]')"
      ]
     },
     "execution_count": 56,
     "metadata": {},
     "output_type": "execute_result"
    },
    {
     "data": {
      "image/png": "[encoded data removed]",
      "text/plain": [
       "<Figure size 700x300 with 1 Axes>"
      ]
     },
     "metadata": {},
     "output_type": "display_data"
    }
   ],
   "source": [
    "fig, ax = plt.subplots(figsize=(7, 3))\n",
    "ret = ax.boxplot(Tmax.values, labels=Tmax.columns, whis=100, widths=0.5, vert=True)\n",
    "ax.set_ylabel('Maximum Temperature [$^\\circ$C]')\n",
    "# ax.set_ylim(0, 30)  # 縦軸の表示範囲\n",
    "# ax.set_yticks([0, 5, 10, 15, 20, 25, 30])  # 縦軸の表示目盛り\n",
    "# fig.savefig('figure/box_ex.pdf', bbox_inches=\"tight\", pad_inches=0.2, transparent=True, dpi=300) # 保存"
   ]
  },
  {
   "cell_type": "markdown",
   "metadata": {
    "id": "b-qITf3clZw5"
   },
   "source": [
    "**実習**：最低気温\n",
    "- 各地点の最低気温のデータについて，並行箱ひげ図を作成せよ\n",
    "- 各地点について，熱帯夜（最低気温が25℃以上の夜）の日数を求めよ"
   ]
  },
  {
   "cell_type": "code",
   "execution_count": 57,
   "metadata": {
    "id": "mOHC2Yo_lZw6"
   },
   "outputs": [
    {
     "data": {
      "text/plain": [
       "Text(0, 0.5, 'Minimum Temperature [$^\\\\circ$C]')"
      ]
     },
     "execution_count": 57,
     "metadata": {},
     "output_type": "execute_result"
    },
    {
     "data": {
      "image/png": "[encoded data removed]",
      "text/plain": [
       "<Figure size 700x300 with 1 Axes>"
      ]
     },
     "metadata": {},
     "output_type": "display_data"
    }
   ],
   "source": [
    "fig, ax = plt.subplots(figsize=(7, 3))\n",
    "ret = ax.boxplot(Tmin.values, labels=Tmax.columns, whis=100, widths=0.5, vert=True)\n",
    "ax.set_ylabel('Minimum Temperature [$^\\circ$C]')"
   ]
  },
  {
   "cell_type": "code",
   "execution_count": 30,
   "metadata": {
    "id": "kpT3IJG3yUBX"
   },
   "outputs": [
    {
     "data": {
      "text/plain": [
       "Tokyo           13\n",
       "Karuizawa        0\n",
       "Kumagaya         9\n",
       "Ishigakijima    31\n",
       "Sapporo          0\n",
       "Osaka           13\n",
       "dtype: int64"
      ]
     },
     "execution_count": 30,
     "metadata": {},
     "output_type": "execute_result"
    }
   ],
   "source": [
    "# 熱帯夜の日数\n",
    "(Tmin >= 25).sum(axis=0)"
   ]
  },
  {
   "cell_type": "markdown",
   "metadata": {
    "id": "1P-ozJ6YlZw6"
   },
   "source": [
    "**実習**：不快指数\n",
    "\n",
    "- 6地点の2015年8月1日から31日までの不快指数を計算せよ\n",
    "- 各地点の不快指数のデータについて，並行箱ひげ図を作成せよ"
   ]
  },
  {
   "cell_type": "code",
   "execution_count": 59,
   "metadata": {
    "id": "Q8bRzggtlZw-"
   },
   "outputs": [
    {
     "data": {
      "text/html": [
       "<div>\n",
       "<style scoped>\n",
       "    .dataframe tbody tr th:only-of-type {\n",
       "        vertical-align: middle;\n",
       "    }\n",
       "\n",
       "    .dataframe tbody tr th {\n",
       "        vertical-align: top;\n",
       "    }\n",
       "\n",
       "    .dataframe thead th {\n",
       "        text-align: right;\n",
       "    }\n",
       "</style>\n",
       "<table border=\"1\" class=\"dataframe\">\n",
       "  <thead>\n",
       "    <tr style=\"text-align: right;\">\n",
       "      <th></th>\n",
       "      <th>Tokyo</th>\n",
       "      <th>Karuizawa</th>\n",
       "      <th>Kumagaya</th>\n",
       "      <th>Ishigakijima</th>\n",
       "      <th>Sapporo</th>\n",
       "      <th>Osaka</th>\n",
       "    </tr>\n",
       "  </thead>\n",
       "  <tbody>\n",
       "    <tr>\n",
       "      <th>0</th>\n",
       "      <td>83.085</td>\n",
       "      <td>72.955</td>\n",
       "      <td>82.500</td>\n",
       "      <td>81.231</td>\n",
       "      <td>72.011</td>\n",
       "      <td>83.026</td>\n",
       "    </tr>\n",
       "    <tr>\n",
       "      <th>1</th>\n",
       "      <td>81.837</td>\n",
       "      <td>69.625</td>\n",
       "      <td>79.729</td>\n",
       "      <td>81.504</td>\n",
       "      <td>71.611</td>\n",
       "      <td>82.813</td>\n",
       "    </tr>\n",
       "    <tr>\n",
       "      <th>2</th>\n",
       "      <td>80.927</td>\n",
       "      <td>69.582</td>\n",
       "      <td>79.578</td>\n",
       "      <td>81.030</td>\n",
       "      <td>72.680</td>\n",
       "      <td>82.022</td>\n",
       "    </tr>\n",
       "    <tr>\n",
       "      <th>3</th>\n",
       "      <td>81.226</td>\n",
       "      <td>70.293</td>\n",
       "      <td>81.773</td>\n",
       "      <td>80.696</td>\n",
       "      <td>76.390</td>\n",
       "      <td>82.209</td>\n",
       "    </tr>\n",
       "    <tr>\n",
       "      <th>4</th>\n",
       "      <td>81.525</td>\n",
       "      <td>70.896</td>\n",
       "      <td>81.429</td>\n",
       "      <td>81.225</td>\n",
       "      <td>77.558</td>\n",
       "      <td>82.596</td>\n",
       "    </tr>\n",
       "    <tr>\n",
       "      <th>...</th>\n",
       "      <td>...</td>\n",
       "      <td>...</td>\n",
       "      <td>...</td>\n",
       "      <td>...</td>\n",
       "      <td>...</td>\n",
       "      <td>...</td>\n",
       "    </tr>\n",
       "    <tr>\n",
       "      <th>26</th>\n",
       "      <td>72.758</td>\n",
       "      <td>64.611</td>\n",
       "      <td>73.145</td>\n",
       "      <td>80.387</td>\n",
       "      <td>66.308</td>\n",
       "      <td>76.601</td>\n",
       "    </tr>\n",
       "    <tr>\n",
       "      <th>27</th>\n",
       "      <td>69.911</td>\n",
       "      <td>62.524</td>\n",
       "      <td>70.745</td>\n",
       "      <td>81.157</td>\n",
       "      <td>65.494</td>\n",
       "      <td>77.040</td>\n",
       "    </tr>\n",
       "    <tr>\n",
       "      <th>28</th>\n",
       "      <td>67.890</td>\n",
       "      <td>60.620</td>\n",
       "      <td>68.874</td>\n",
       "      <td>81.213</td>\n",
       "      <td>65.837</td>\n",
       "      <td>77.027</td>\n",
       "    </tr>\n",
       "    <tr>\n",
       "      <th>29</th>\n",
       "      <td>69.892</td>\n",
       "      <td>60.800</td>\n",
       "      <td>69.125</td>\n",
       "      <td>81.238</td>\n",
       "      <td>66.102</td>\n",
       "      <td>75.820</td>\n",
       "    </tr>\n",
       "    <tr>\n",
       "      <th>30</th>\n",
       "      <td>71.325</td>\n",
       "      <td>62.754</td>\n",
       "      <td>71.362</td>\n",
       "      <td>81.048</td>\n",
       "      <td>69.347</td>\n",
       "      <td>74.507</td>\n",
       "    </tr>\n",
       "  </tbody>\n",
       "</table>\n",
       "<p>31 rows × 6 columns</p>\n",
       "</div>"
      ],
      "text/plain": [
       "     Tokyo  Karuizawa  Kumagaya  Ishigakijima  Sapporo   Osaka\n",
       "0   83.085     72.955    82.500        81.231   72.011  83.026\n",
       "1   81.837     69.625    79.729        81.504   71.611  82.813\n",
       "2   80.927     69.582    79.578        81.030   72.680  82.022\n",
       "3   81.226     70.293    81.773        80.696   76.390  82.209\n",
       "4   81.525     70.896    81.429        81.225   77.558  82.596\n",
       "..     ...        ...       ...           ...      ...     ...\n",
       "26  72.758     64.611    73.145        80.387   66.308  76.601\n",
       "27  69.911     62.524    70.745        81.157   65.494  77.040\n",
       "28  67.890     60.620    68.874        81.213   65.837  77.027\n",
       "29  69.892     60.800    69.125        81.238   66.102  75.820\n",
       "30  71.325     62.754    71.362        81.048   69.347  74.507\n",
       "\n",
       "[31 rows x 6 columns]"
      ]
     },
     "execution_count": 59,
     "metadata": {},
     "output_type": "execute_result"
    }
   ],
   "source": [
    "DI = 0.81*Tave + 0.01*H*(0.99*Tave-14.3)+46.3\n",
    "DI"
   ]
  },
  {
   "cell_type": "code",
   "execution_count": 60,
   "metadata": {
    "id": "o5is60DCyUBY"
   },
   "outputs": [
    {
     "data": {
      "text/plain": [
       "Text(0, 0.5, 'Discomfort Index')"
      ]
     },
     "execution_count": 60,
     "metadata": {},
     "output_type": "execute_result"
    },
    {
     "data": {
      "image/png": "[encoded data removed]",
      "text/plain": [
       "<Figure size 700x300 with 1 Axes>"
      ]
     },
     "metadata": {},
     "output_type": "display_data"
    }
   ],
   "source": [
    "fig, ax = plt.subplots(figsize=(7, 3))\n",
    "ret = ax.boxplot(DI.values, labels=DI.columns, whis=100, widths=0.5, vert=True)\n",
    "ax.set_ylabel('Discomfort Index')"
   ]
  },
  {
   "cell_type": "markdown",
   "metadata": {
    "id": "YCmFPEI_rZ9x"
   },
   "source": [
    "### STEP 5: Conclusion"
   ]
  },
  {
   "cell_type": "markdown",
   "metadata": {
    "id": "YmFH8jFFrZ9x"
   },
   "source": [
    "**実習**\n",
    "- 最高気温に対する並行箱ひげ図を基に，各地点の特徴について分かったことを次の観点からまとめよ．\n",
    "    - 東京や大阪のような大都市は避暑地と比べて暑い日が多いか？\n",
    "\t- 避暑地として人気の高い軽井沢は高原にあるが，北海道とどのように違うか？\n",
    "\t- 熊谷や沖縄は暑い地域として有名だが，それぞれで違いはあるか？\t \n",
    "- 熊谷は最高気温は高いが，最低気温は東京や大阪と比べて低い．なぜこのような違いが出るのか考えよ．\n",
    "- 不快指数を基に，各都市の特徴をまとめよ\n",
    "- 軽井沢や札幌は夏の避暑地として人気が高い．その理由をまとめよ．\n",
    "- その他，分析結果を元に自由に考察せよ．"
   ]
  }
 ],
 "metadata": {
  "colab": {
   "collapsed_sections": [],
   "name": "sec_2-1.ipynb",
   "provenance": []
  },
  "kernelspec": {
   "display_name": "Python 3.9.13 ('myenv')",
   "language": "python",
   "name": "python3"
  },
  "language_info": {
   "codemirror_mode": {
    "name": "ipython",
    "version": 3
   },
   "file_extension": ".py",
   "mimetype": "text/x-python",
   "name": "python",
   "nbconvert_exporter": "python",
   "pygments_lexer": "ipython3",
   "version": "3.9.13"
  },
  "toc-autonumbering": false,
  "vscode": {
   "interpreter": {
    "hash": "911fd4aa1eca4252368dc27db61226a38a6cfe922f9bbc90c7d50e9c97ede316"
   }
  }
 },
 "nbformat": 4,
 "nbformat_minor": 4
}
